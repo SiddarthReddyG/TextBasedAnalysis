{
 "cells": [
  {
   "cell_type": "markdown",
   "id": "b00df9f2",
   "metadata": {},
   "source": [
    "## CLASSWORK 4\n",
    "## SENTIMENT ANALYSIS"
   ]
  },
  {
   "cell_type": "markdown",
   "id": "0ec672fd",
   "metadata": {},
   "source": [
    "Sentiment analysis gauges emotions from text, classifying as positive, negative, or neutral, aiding in understanding user feedback or market sentiment. By employing machine learning algorithms, it assigns sentiment scores to text based on the language's tone and context."
   ]
  },
  {
   "cell_type": "markdown",
   "id": "b4ba3597",
   "metadata": {},
   "source": [
    "### IMPORT PANDAS AND READ .JSON FILE"
   ]
  },
  {
   "cell_type": "code",
   "execution_count": 6,
   "id": "e4648837",
   "metadata": {
    "scrolled": true
   },
   "outputs": [
    {
     "data": {
      "text/html": [
       "<div>\n",
       "<style scoped>\n",
       "    .dataframe tbody tr th:only-of-type {\n",
       "        vertical-align: middle;\n",
       "    }\n",
       "\n",
       "    .dataframe tbody tr th {\n",
       "        vertical-align: top;\n",
       "    }\n",
       "\n",
       "    .dataframe thead th {\n",
       "        text-align: right;\n",
       "    }\n",
       "</style>\n",
       "<table border=\"1\" class=\"dataframe\">\n",
       "  <thead>\n",
       "    <tr style=\"text-align: right;\">\n",
       "      <th></th>\n",
       "      <th>overall</th>\n",
       "      <th>verified</th>\n",
       "      <th>reviewTime</th>\n",
       "      <th>reviewerID</th>\n",
       "      <th>asin</th>\n",
       "      <th>style</th>\n",
       "      <th>reviewerName</th>\n",
       "      <th>reviewText</th>\n",
       "      <th>summary</th>\n",
       "      <th>unixReviewTime</th>\n",
       "      <th>vote</th>\n",
       "      <th>image</th>\n",
       "    </tr>\n",
       "  </thead>\n",
       "  <tbody>\n",
       "    <tr>\n",
       "      <th>340047</th>\n",
       "      <td>5</td>\n",
       "      <td>True</td>\n",
       "      <td>02 15, 2016</td>\n",
       "      <td>AY50B98IYQDZS</td>\n",
       "      <td>B00KN9Q3W2</td>\n",
       "      <td>NaN</td>\n",
       "      <td>Ron</td>\n",
       "      <td>Wow! a great product.</td>\n",
       "      <td>a great product.</td>\n",
       "      <td>1455494400</td>\n",
       "      <td>NaN</td>\n",
       "      <td>NaN</td>\n",
       "    </tr>\n",
       "    <tr>\n",
       "      <th>397686</th>\n",
       "      <td>5</td>\n",
       "      <td>True</td>\n",
       "      <td>01 9, 2017</td>\n",
       "      <td>A2HUQ6PDINCHJQ</td>\n",
       "      <td>B0197F6XX6</td>\n",
       "      <td>{'Color:': ' Decadent Pies'}</td>\n",
       "      <td>Shelby P</td>\n",
       "      <td>These paints are such amazing quality! I absol...</td>\n",
       "      <td>Must Buy!</td>\n",
       "      <td>1483920000</td>\n",
       "      <td>NaN</td>\n",
       "      <td>NaN</td>\n",
       "    </tr>\n",
       "    <tr>\n",
       "      <th>339701</th>\n",
       "      <td>5</td>\n",
       "      <td>True</td>\n",
       "      <td>09 17, 2016</td>\n",
       "      <td>A1WV8CKF9ZAIHK</td>\n",
       "      <td>B00KKWCRB8</td>\n",
       "      <td>NaN</td>\n",
       "      <td>Kindle Customer</td>\n",
       "      <td>Very pretty</td>\n",
       "      <td>Five Stars</td>\n",
       "      <td>1474070400</td>\n",
       "      <td>NaN</td>\n",
       "      <td>NaN</td>\n",
       "    </tr>\n",
       "    <tr>\n",
       "      <th>347332</th>\n",
       "      <td>5</td>\n",
       "      <td>True</td>\n",
       "      <td>03 13, 2015</td>\n",
       "      <td>A3N0IVMFP86TA7</td>\n",
       "      <td>B00MMSLEIA</td>\n",
       "      <td>NaN</td>\n",
       "      <td>Linda J. Vincent</td>\n",
       "      <td>I love crafting with the Hampton Art Impressio...</td>\n",
       "      <td>Great stamps for great fun cards.</td>\n",
       "      <td>1426204800</td>\n",
       "      <td>NaN</td>\n",
       "      <td>NaN</td>\n",
       "    </tr>\n",
       "    <tr>\n",
       "      <th>411101</th>\n",
       "      <td>4</td>\n",
       "      <td>True</td>\n",
       "      <td>02 9, 2017</td>\n",
       "      <td>AZ2QB6OHV12HP</td>\n",
       "      <td>B01EO701N0</td>\n",
       "      <td>{'Color:': ' 8x8mm/Ball Flower 02'}</td>\n",
       "      <td>Amazon Customer</td>\n",
       "      <td>good</td>\n",
       "      <td>Four Stars</td>\n",
       "      <td>1486598400</td>\n",
       "      <td>NaN</td>\n",
       "      <td>NaN</td>\n",
       "    </tr>\n",
       "    <tr>\n",
       "      <th>89624</th>\n",
       "      <td>5</td>\n",
       "      <td>True</td>\n",
       "      <td>04 23, 2012</td>\n",
       "      <td>A1HYD5ONR0BCTZ</td>\n",
       "      <td>B000WWML6W</td>\n",
       "      <td>{'Color:': ' Cloud White'}</td>\n",
       "      <td>Nicole Michelle Stagg</td>\n",
       "      <td>It's perfect for light and dark colors. Even o...</td>\n",
       "      <td>Very White</td>\n",
       "      <td>1335139200</td>\n",
       "      <td>3</td>\n",
       "      <td>NaN</td>\n",
       "    </tr>\n",
       "    <tr>\n",
       "      <th>481649</th>\n",
       "      <td>5</td>\n",
       "      <td>True</td>\n",
       "      <td>01 30, 2017</td>\n",
       "      <td>A1HGYLF2PVMBGR</td>\n",
       "      <td>B00S16WTLS</td>\n",
       "      <td>{'Size:': ' 500 yd/475m', 'Color:': ' Iced Cof...</td>\n",
       "      <td>Cheryl</td>\n",
       "      <td>Th I  is the best thread</td>\n",
       "      <td>Threa</td>\n",
       "      <td>1485734400</td>\n",
       "      <td>NaN</td>\n",
       "      <td>NaN</td>\n",
       "    </tr>\n",
       "    <tr>\n",
       "      <th>230580</th>\n",
       "      <td>5</td>\n",
       "      <td>True</td>\n",
       "      <td>01 2, 2014</td>\n",
       "      <td>A3684FFQPI7LRE</td>\n",
       "      <td>B005D7WTK4</td>\n",
       "      <td>NaN</td>\n",
       "      <td>antgranma</td>\n",
       "      <td>I got hooked on beading, and this Caddy is so ...</td>\n",
       "      <td>Excellent</td>\n",
       "      <td>1388620800</td>\n",
       "      <td>NaN</td>\n",
       "      <td>NaN</td>\n",
       "    </tr>\n",
       "    <tr>\n",
       "      <th>140905</th>\n",
       "      <td>5</td>\n",
       "      <td>False</td>\n",
       "      <td>10 3, 2014</td>\n",
       "      <td>A2MDKZSZ7RCD0R</td>\n",
       "      <td>B001CE38Z2</td>\n",
       "      <td>NaN</td>\n",
       "      <td>Miss Melinda</td>\n",
       "      <td>Miracle worker, Is what I call it. Anyone who ...</td>\n",
       "      <td>Anyone who gave it bad marks Don't know what t...</td>\n",
       "      <td>1412294400</td>\n",
       "      <td>NaN</td>\n",
       "      <td>NaN</td>\n",
       "    </tr>\n",
       "    <tr>\n",
       "      <th>90429</th>\n",
       "      <td>5</td>\n",
       "      <td>True</td>\n",
       "      <td>07 23, 2014</td>\n",
       "      <td>A2RBZ2EC25FFA6</td>\n",
       "      <td>B000WYZV6W</td>\n",
       "      <td>{'Size:': ' Size 11'}</td>\n",
       "      <td>Happy in the OC</td>\n",
       "      <td>I have knitted quite a few blankets and sweate...</td>\n",
       "      <td>Loyal to Clover Bamboo Needles</td>\n",
       "      <td>1406073600</td>\n",
       "      <td>11</td>\n",
       "      <td>NaN</td>\n",
       "    </tr>\n",
       "  </tbody>\n",
       "</table>\n",
       "</div>"
      ],
      "text/plain": [
       "        overall  verified   reviewTime      reviewerID        asin  \\\n",
       "340047        5      True  02 15, 2016   AY50B98IYQDZS  B00KN9Q3W2   \n",
       "397686        5      True   01 9, 2017  A2HUQ6PDINCHJQ  B0197F6XX6   \n",
       "339701        5      True  09 17, 2016  A1WV8CKF9ZAIHK  B00KKWCRB8   \n",
       "347332        5      True  03 13, 2015  A3N0IVMFP86TA7  B00MMSLEIA   \n",
       "411101        4      True   02 9, 2017   AZ2QB6OHV12HP  B01EO701N0   \n",
       "89624         5      True  04 23, 2012  A1HYD5ONR0BCTZ  B000WWML6W   \n",
       "481649        5      True  01 30, 2017  A1HGYLF2PVMBGR  B00S16WTLS   \n",
       "230580        5      True   01 2, 2014  A3684FFQPI7LRE  B005D7WTK4   \n",
       "140905        5     False   10 3, 2014  A2MDKZSZ7RCD0R  B001CE38Z2   \n",
       "90429         5      True  07 23, 2014  A2RBZ2EC25FFA6  B000WYZV6W   \n",
       "\n",
       "                                                    style  \\\n",
       "340047                                                NaN   \n",
       "397686                       {'Color:': ' Decadent Pies'}   \n",
       "339701                                                NaN   \n",
       "347332                                                NaN   \n",
       "411101                {'Color:': ' 8x8mm/Ball Flower 02'}   \n",
       "89624                          {'Color:': ' Cloud White'}   \n",
       "481649  {'Size:': ' 500 yd/475m', 'Color:': ' Iced Cof...   \n",
       "230580                                                NaN   \n",
       "140905                                                NaN   \n",
       "90429                               {'Size:': ' Size 11'}   \n",
       "\n",
       "                 reviewerName  \\\n",
       "340047                    Ron   \n",
       "397686               Shelby P   \n",
       "339701        Kindle Customer   \n",
       "347332       Linda J. Vincent   \n",
       "411101        Amazon Customer   \n",
       "89624   Nicole Michelle Stagg   \n",
       "481649                 Cheryl   \n",
       "230580              antgranma   \n",
       "140905           Miss Melinda   \n",
       "90429         Happy in the OC   \n",
       "\n",
       "                                               reviewText  \\\n",
       "340047                              Wow! a great product.   \n",
       "397686  These paints are such amazing quality! I absol...   \n",
       "339701                                        Very pretty   \n",
       "347332  I love crafting with the Hampton Art Impressio...   \n",
       "411101                                               good   \n",
       "89624   It's perfect for light and dark colors. Even o...   \n",
       "481649                           Th I  is the best thread   \n",
       "230580  I got hooked on beading, and this Caddy is so ...   \n",
       "140905  Miracle worker, Is what I call it. Anyone who ...   \n",
       "90429   I have knitted quite a few blankets and sweate...   \n",
       "\n",
       "                                                  summary  unixReviewTime  \\\n",
       "340047                                   a great product.      1455494400   \n",
       "397686                                          Must Buy!      1483920000   \n",
       "339701                                         Five Stars      1474070400   \n",
       "347332                  Great stamps for great fun cards.      1426204800   \n",
       "411101                                         Four Stars      1486598400   \n",
       "89624                                          Very White      1335139200   \n",
       "481649                                              Threa      1485734400   \n",
       "230580                                          Excellent      1388620800   \n",
       "140905  Anyone who gave it bad marks Don't know what t...      1412294400   \n",
       "90429                      Loyal to Clover Bamboo Needles      1406073600   \n",
       "\n",
       "       vote image  \n",
       "340047  NaN   NaN  \n",
       "397686  NaN   NaN  \n",
       "339701  NaN   NaN  \n",
       "347332  NaN   NaN  \n",
       "411101  NaN   NaN  \n",
       "89624     3   NaN  \n",
       "481649  NaN   NaN  \n",
       "230580  NaN   NaN  \n",
       "140905  NaN   NaN  \n",
       "90429    11   NaN  "
      ]
     },
     "execution_count": 6,
     "metadata": {},
     "output_type": "execute_result"
    }
   ],
   "source": [
    "# Import pandas package and reading .json file\n",
    "\n",
    "import pandas as pd \n",
    "df = pd.read_json( 'Arts_Crafts_and_Sewing_5.json',lines=True)\n",
    "df.sample(10)"
   ]
  },
  {
   "cell_type": "markdown",
   "id": "c16bfa41",
   "metadata": {},
   "source": [
    "### NLTK AND OPINION LEXICON "
   ]
  },
  {
   "cell_type": "markdown",
   "id": "d7885868",
   "metadata": {},
   "source": [
    "The Natural Language Toolkit is used to access the Opinion Lexicon, which is a lexicon of positive and negative opinion words or sentiment words. "
   ]
  },
  {
   "cell_type": "code",
   "execution_count": null,
   "id": "47c38097",
   "metadata": {},
   "outputs": [],
   "source": [
    "# Importing ntlk package \n",
    "\n",
    "from sklearn import preprocessing\n",
    "import nltk"
   ]
  },
  {
   "cell_type": "markdown",
   "id": "c74d9706",
   "metadata": {},
   "source": [
    "### DOWNLOADING OPINION LEXICON"
   ]
  },
  {
   "cell_type": "code",
   "execution_count": null,
   "id": "016a8506",
   "metadata": {},
   "outputs": [],
   "source": [
    "# Downloading opinion lexicon\n",
    "\n",
    "nltk.download('opinion_lexicon')"
   ]
  },
  {
   "cell_type": "markdown",
   "id": "14f7f6bf",
   "metadata": {},
   "source": [
    "### PRINTING INFORMATION"
   ]
  },
  {
   "cell_type": "code",
   "execution_count": 7,
   "id": "38377ebb",
   "metadata": {},
   "outputs": [
    {
     "name": "stdout",
     "output_type": "stream",
     "text": [
      "Total number of words in opinion lexicon 6789\n",
      "Examples of positive words in opinion lexicon ['a+', 'abound', 'abounds', 'abundance', 'abundant', 'accessable', 'accessible', 'acclaim', 'acclaimed', 'acclamation']\n",
      "Examples of negative words in opinion lexicon ['2-faced', '2-faces', 'abnormal', 'abolish', 'abominable', 'abominably', 'abominate', 'abomination', 'abort', 'aborted']\n"
     ]
    },
    {
     "name": "stderr",
     "output_type": "stream",
     "text": [
      "[nltk_data] Downloading package opinion_lexicon to\n",
      "[nltk_data]     /Users/sid/nltk_data...\n",
      "[nltk_data]   Package opinion_lexicon is already up-to-date!\n"
     ]
    }
   ],
   "source": [
    "# Importing components and printing\n",
    "\n",
    "from nltk.corpus import opinion_lexicon                     # using opinion lexicon dataset from nltk.corpus\n",
    "from nltk.tokenize import word_tokenize\n",
    "\n",
    "print('Total number of words in opinion lexicon', len(opinion_lexicon.words()))\n",
    "print('Examples of positive words in opinion lexicon',      # printing 10 positive opinion lexicons\n",
    "      opinion_lexicon.positive()[:10])\n",
    "print('Examples of negative words in opinion lexicon',      # printing 10 negative opinion lexicons\n",
    "      opinion_lexicon.negative()[:10])\n"
   ]
  },
  {
   "cell_type": "markdown",
   "id": "68e56930",
   "metadata": {},
   "source": [
    "### RENAMING DATAFRAME"
   ]
  },
  {
   "cell_type": "code",
   "execution_count": null,
   "id": "9578ca9e",
   "metadata": {},
   "outputs": [],
   "source": [
    "# RENAME DATAFRAME\n",
    "\n",
    "nltk.download('punkt')\n",
    "df.rename(columns={\"reviewText\": \"text\"}, inplace=True)"
   ]
  },
  {
   "cell_type": "markdown",
   "id": "e13f1e4b",
   "metadata": {},
   "source": [
    "### INTIALIZING SCORES"
   ]
  },
  {
   "cell_type": "code",
   "execution_count": null,
   "id": "1ed32123",
   "metadata": {},
   "outputs": [],
   "source": [
    "# Initializing Scores\n",
    "\n",
    "pos_score = 1\n",
    "neg_score = -1"
   ]
  },
  {
   "cell_type": "markdown",
   "id": "bcf38cd2",
   "metadata": {},
   "source": [
    "### DICTIONARY FOR SCORING"
   ]
  },
  {
   "cell_type": "markdown",
   "id": "69a4e97a",
   "metadata": {},
   "source": [
    "The code creates a sentiment scoring dictionary by leveraging NLTK's opinion lexicon, assigning positive and negative scores to words for analyzing review texts."
   ]
  },
  {
   "cell_type": "code",
   "execution_count": 8,
   "id": "1d49219f",
   "metadata": {},
   "outputs": [
    {
     "name": "stderr",
     "output_type": "stream",
     "text": [
      "[nltk_data] Downloading package punkt to /Users/sid/nltk_data...\n",
      "[nltk_data]   Unzipping tokenizers/punkt.zip.\n"
     ]
    }
   ],
   "source": [
    "#  Let's create a dictionary which we can use it for scoring our review text\n",
    "\n",
    "word_dict = {}\n",
    " \n",
    "# Adding the positive words to the dictionary\n",
    "\n",
    "for word in opinion_lexicon.positive():\n",
    "        word_dict[word] = pos_score\n",
    "      \n",
    "# Adding the negative words to the dictionary\n",
    "\n",
    "for word in opinion_lexicon.negative():\n",
    "        word_dict[word] = neg_score\n"
   ]
  },
  {
   "cell_type": "markdown",
   "id": "8f6fd32b",
   "metadata": {},
   "source": [
    "### bing_liu_score FUNCTION"
   ]
  },
  {
   "cell_type": "markdown",
   "id": "fb751d53",
   "metadata": {},
   "source": [
    "To group a dataframe df by unique values in the 'overall' column and calculate the mean of the 'Bing_Liu_Score' column for each group to give avg sentiment score."
   ]
  },
  {
   "cell_type": "code",
   "execution_count": 9,
   "id": "db5da607",
   "metadata": {},
   "outputs": [],
   "source": [
    "# bing_liu_score function \n",
    "\n",
    "def bing_liu_score(text):\n",
    "    sentiment_score = 0\n",
    "    bag_of_words = word_tokenize(text.lower())\n",
    "    for word in bag_of_words:\n",
    "        if word in word_dict:\n",
    "            sentiment_score += word_dict[word]\n",
    "    return sentiment_score  "
   ]
  },
  {
   "cell_type": "markdown",
   "id": "1f13a7e9",
   "metadata": {},
   "source": [
    "### REPLACING NULL VALUES"
   ]
  },
  {
   "cell_type": "code",
   "execution_count": 10,
   "id": "bbfba24e",
   "metadata": {},
   "outputs": [],
   "source": [
    "# filling empty claues with 'no review'\n",
    "\n",
    "df['text'].fillna('no review', inplace=True)\n",
    "df['Bing_Liu_Score'] = df['text'].apply(bing_liu_score)"
   ]
  },
  {
   "cell_type": "markdown",
   "id": "4568996f",
   "metadata": {},
   "source": [
    "### HEAD METHOD\n"
   ]
  },
  {
   "cell_type": "code",
   "execution_count": 11,
   "id": "0f8417fa",
   "metadata": {},
   "outputs": [
    {
     "data": {
      "text/html": [
       "<div>\n",
       "<style scoped>\n",
       "    .dataframe tbody tr th:only-of-type {\n",
       "        vertical-align: middle;\n",
       "    }\n",
       "\n",
       "    .dataframe tbody tr th {\n",
       "        vertical-align: top;\n",
       "    }\n",
       "\n",
       "    .dataframe thead th {\n",
       "        text-align: right;\n",
       "    }\n",
       "</style>\n",
       "<table border=\"1\" class=\"dataframe\">\n",
       "  <thead>\n",
       "    <tr style=\"text-align: right;\">\n",
       "      <th></th>\n",
       "      <th>overall</th>\n",
       "      <th>text</th>\n",
       "      <th>Bing_Liu_Score</th>\n",
       "    </tr>\n",
       "  </thead>\n",
       "  <tbody>\n",
       "    <tr>\n",
       "      <th>0</th>\n",
       "      <td>4</td>\n",
       "      <td>Contains some interesting stitches.</td>\n",
       "      <td>1</td>\n",
       "    </tr>\n",
       "    <tr>\n",
       "      <th>1</th>\n",
       "      <td>5</td>\n",
       "      <td>I'm a fairly experienced knitter of the one-co...</td>\n",
       "      <td>22</td>\n",
       "    </tr>\n",
       "    <tr>\n",
       "      <th>2</th>\n",
       "      <td>4</td>\n",
       "      <td>Great book but the index is terrible. Had to w...</td>\n",
       "      <td>0</td>\n",
       "    </tr>\n",
       "    <tr>\n",
       "      <th>3</th>\n",
       "      <td>5</td>\n",
       "      <td>I purchased the Kindle edition which is incred...</td>\n",
       "      <td>4</td>\n",
       "    </tr>\n",
       "    <tr>\n",
       "      <th>4</th>\n",
       "      <td>5</td>\n",
       "      <td>Very well laid out and very easy to read.\\n\\nT...</td>\n",
       "      <td>5</td>\n",
       "    </tr>\n",
       "    <tr>\n",
       "      <th>5</th>\n",
       "      <td>5</td>\n",
       "      <td>Beginning her career as a freelance knitter, M...</td>\n",
       "      <td>15</td>\n",
       "    </tr>\n",
       "    <tr>\n",
       "      <th>6</th>\n",
       "      <td>5</td>\n",
       "      <td>This is a terrific stitch handbook (and I have...</td>\n",
       "      <td>9</td>\n",
       "    </tr>\n",
       "    <tr>\n",
       "      <th>7</th>\n",
       "      <td>4</td>\n",
       "      <td>The book needs to be coil bound. The content i...</td>\n",
       "      <td>1</td>\n",
       "    </tr>\n",
       "    <tr>\n",
       "      <th>8</th>\n",
       "      <td>5</td>\n",
       "      <td>I really am enjoying this book! I like the siz...</td>\n",
       "      <td>12</td>\n",
       "    </tr>\n",
       "    <tr>\n",
       "      <th>9</th>\n",
       "      <td>5</td>\n",
       "      <td>Just received this book and looked over it cov...</td>\n",
       "      <td>6</td>\n",
       "    </tr>\n",
       "  </tbody>\n",
       "</table>\n",
       "</div>"
      ],
      "text/plain": [
       "   overall                                               text  Bing_Liu_Score\n",
       "0        4                Contains some interesting stitches.               1\n",
       "1        5  I'm a fairly experienced knitter of the one-co...              22\n",
       "2        4  Great book but the index is terrible. Had to w...               0\n",
       "3        5  I purchased the Kindle edition which is incred...               4\n",
       "4        5  Very well laid out and very easy to read.\\n\\nT...               5\n",
       "5        5  Beginning her career as a freelance knitter, M...              15\n",
       "6        5  This is a terrific stitch handbook (and I have...               9\n",
       "7        4  The book needs to be coil bound. The content i...               1\n",
       "8        5  I really am enjoying this book! I like the siz...              12\n",
       "9        5  Just received this book and looked over it cov...               6"
      ]
     },
     "execution_count": 11,
     "metadata": {},
     "output_type": "execute_result"
    }
   ],
   "source": [
    "# Using head() on dataframe\n",
    "\n",
    "df[['overall',\"text\", 'Bing_Liu_Score']].head(10)"
   ]
  },
  {
   "cell_type": "markdown",
   "id": "4da46caf",
   "metadata": {},
   "source": [
    "### GROUPBY OVERALL"
   ]
  },
  {
   "cell_type": "code",
   "execution_count": 12,
   "id": "b1ddb46e",
   "metadata": {},
   "outputs": [
    {
     "data": {
      "text/html": [
       "<div>\n",
       "<style scoped>\n",
       "    .dataframe tbody tr th:only-of-type {\n",
       "        vertical-align: middle;\n",
       "    }\n",
       "\n",
       "    .dataframe tbody tr th {\n",
       "        vertical-align: top;\n",
       "    }\n",
       "\n",
       "    .dataframe thead th {\n",
       "        text-align: right;\n",
       "    }\n",
       "</style>\n",
       "<table border=\"1\" class=\"dataframe\">\n",
       "  <thead>\n",
       "    <tr style=\"text-align: right;\">\n",
       "      <th></th>\n",
       "      <th>Bing_Liu_Score</th>\n",
       "    </tr>\n",
       "    <tr>\n",
       "      <th>overall</th>\n",
       "      <th></th>\n",
       "    </tr>\n",
       "  </thead>\n",
       "  <tbody>\n",
       "    <tr>\n",
       "      <th>1</th>\n",
       "      <td>-0.255049</td>\n",
       "    </tr>\n",
       "    <tr>\n",
       "      <th>2</th>\n",
       "      <td>0.566098</td>\n",
       "    </tr>\n",
       "    <tr>\n",
       "      <th>3</th>\n",
       "      <td>1.158796</td>\n",
       "    </tr>\n",
       "    <tr>\n",
       "      <th>4</th>\n",
       "      <td>2.028146</td>\n",
       "    </tr>\n",
       "    <tr>\n",
       "      <th>5</th>\n",
       "      <td>2.130005</td>\n",
       "    </tr>\n",
       "  </tbody>\n",
       "</table>\n",
       "</div>"
      ],
      "text/plain": [
       "         Bing_Liu_Score\n",
       "overall                \n",
       "1             -0.255049\n",
       "2              0.566098\n",
       "3              1.158796\n",
       "4              2.028146\n",
       "5              2.130005"
      ]
     },
     "execution_count": 12,
     "metadata": {},
     "output_type": "execute_result"
    }
   ],
   "source": [
    "# grouping by unique values \n",
    "\n",
    "df.groupby('overall').agg({'Bing_Liu_Score':'mean'})"
   ]
  }
 ],
 "metadata": {
  "kernelspec": {
   "display_name": "Python 3 (ipykernel)",
   "language": "python",
   "name": "python3"
  },
  "language_info": {
   "codemirror_mode": {
    "name": "ipython",
    "version": 3
   },
   "file_extension": ".py",
   "mimetype": "text/x-python",
   "name": "python",
   "nbconvert_exporter": "python",
   "pygments_lexer": "ipython3",
   "version": "3.11.5"
  }
 },
 "nbformat": 4,
 "nbformat_minor": 5
}
