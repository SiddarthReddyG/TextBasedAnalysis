{
 "cells": [
  {
   "cell_type": "markdown",
   "id": "bf31899c",
   "metadata": {},
   "source": [
    "## ASSIGNMENT 5\n",
    "## TEXT SUMMARIZATION"
   ]
  },
  {
   "cell_type": "markdown",
   "id": "bd76c64a",
   "metadata": {},
   "source": [
    "Text summarization condenses large bodies of text into shorter versions, aiding comprehension and information retrieval by extracting key points or sentences. It employs algorithms to identify important content, facilitating quicker understanding and decision-making."
   ]
  },
  {
   "cell_type": "markdown",
   "id": "fdf8ff2d",
   "metadata": {},
   "source": [
    "### IMPORTING LIBRARIES"
   ]
  },
  {
   "cell_type": "code",
   "execution_count": 109,
   "id": "3395d5fd",
   "metadata": {},
   "outputs": [],
   "source": [
    "# Essential libraries for text processing and graph-based algorithms.\n",
    "\n",
    "from nltk.corpus import stopwords                     # You can remove stop words for speed\n",
    "from nltk.cluster.util import cosine_distance\n",
    "import numpy as np\n",
    "import networkx as nx"
   ]
  },
  {
   "cell_type": "markdown",
   "id": "548a89a4",
   "metadata": {},
   "source": [
    "### READING AND PROCESSING TEXT"
   ]
  },
  {
   "cell_type": "markdown",
   "id": "e37e8a48",
   "metadata": {},
   "source": [
    "The code snippet reads text from a file, divides it into sentences, and tokenizes them for subsequent analysis, preparing the data for text processing tasks."
   ]
  },
  {
   "cell_type": "code",
   "execution_count": 110,
   "id": "3cfc931d",
   "metadata": {},
   "outputs": [
    {
     "name": "stdout",
     "output_type": "stream",
     "text": [
      "It was the best of times\n",
      "It was the worst of times\n",
      "It was the age of wisdom\n",
      "It was the age of foolishness\n",
      "What is the importance of age\n",
      "This is the best example.\n"
     ]
    }
   ],
   "source": [
    "# Reads text from file, splits into sentences, and tokenizes them.\n",
    "\n",
    "file = open(\"Text1.txt\", \"r\")\n",
    "                                                      # This file contains one paragraph of multiple sentences\n",
    "filedata = file.readlines()\n",
    "article = filedata[0].split(\". \")                     # Just do the first paragraph\n",
    "\n",
    "sentences = []\n",
    "for sentence in article:\n",
    "    print(sentence)\n",
    "    sentences.append(sentence.replace(\"[^a-zA-Z]\", \" \").split(\" \"))"
   ]
  },
  {
   "cell_type": "markdown",
   "id": "e629210d",
   "metadata": {},
   "source": [
    "### PRINTING SENTENCES"
   ]
  },
  {
   "cell_type": "code",
   "execution_count": 111,
   "id": "5c35339f",
   "metadata": {},
   "outputs": [
    {
     "name": "stdout",
     "output_type": "stream",
     "text": [
      "Sentences are  [['It', 'was', 'the', 'best', 'of', 'times'], ['It', 'was', 'the', 'worst', 'of', 'times'], ['It', 'was', 'the', 'age', 'of', 'wisdom'], ['It', 'was', 'the', 'age', 'of', 'foolishness'], ['What', 'is', 'the', 'importance', 'of', 'age'], ['This', 'is', 'the', 'best', 'example.']]\n"
     ]
    }
   ],
   "source": [
    "# Displays the list of tokenized sentences for further processing.\n",
    "\n",
    "print(\"Sentences are \", sentences)"
   ]
  },
  {
   "cell_type": "markdown",
   "id": "1359a1b9",
   "metadata": {},
   "source": [
    "### SENTENCE SIMILARITY"
   ]
  },
  {
   "cell_type": "markdown",
   "id": "63e0186f",
   "metadata": {},
   "source": [
    "This function computes the similarity between two sentences using cosine distance, a common metric in natural language processing, by constructing vectors based on word occurrences and comparing their orientations."
   ]
  },
  {
   "cell_type": "code",
   "execution_count": 112,
   "id": "51d9fff1",
   "metadata": {},
   "outputs": [],
   "source": [
    "# Calculates similarity between two sentences using cosine distance.\n",
    "\n",
    "def sentence_similarity(sent1, sent2 ):\n",
    "    sent1 = [w.lower() for w in sent1]\n",
    "    sent2 = [w.lower() for w in sent2]\n",
    "    all_words = list(set(sent1 + sent2))\n",
    "    vector1 = [0] * len(all_words)\n",
    "    vector2 = [0] * len(all_words)\n",
    "                                                    # build the vector for the first sentence\n",
    "    for w in sent1:\n",
    "          vector1[all_words.index(w)] += 1\n",
    "                                                    # build the vector for the second sentence\n",
    "    for w in sent2:\n",
    "          vector2[all_words.index(w)] += 1\n",
    "    return 1 - cosine_distance(vector1, vector2)"
   ]
  },
  {
   "cell_type": "markdown",
   "id": "3ed63508",
   "metadata": {},
   "source": [
    "### CALCULATING SIMILARITY MATRIX"
   ]
  },
  {
   "cell_type": "code",
   "execution_count": 113,
   "id": "34de4f12",
   "metadata": {},
   "outputs": [
    {
     "name": "stdout",
     "output_type": "stream",
     "text": [
      "Smilarity matrix \n",
      " [[0.         0.83333333 0.66666667 0.66666667 0.33333333 0.36514837]\n",
      " [0.83333333 0.         0.66666667 0.66666667 0.33333333 0.18257419]\n",
      " [0.66666667 0.66666667 0.         0.83333333 0.5        0.18257419]\n",
      " [0.66666667 0.66666667 0.83333333 0.         0.5        0.18257419]\n",
      " [0.33333333 0.33333333 0.5        0.5        0.         0.36514837]\n",
      " [0.36514837 0.18257419 0.18257419 0.18257419 0.36514837 0.        ]]\n"
     ]
    }
   ],
   "source": [
    "# Computes the similarity matrix for all pairs of sentences.\n",
    "\n",
    "similarity_matrix = np.zeros((len(sentences), len(sentences)))\n",
    " \n",
    "for idx1 in range(len(sentences)):\n",
    "        for idx2 in range(len(sentences)):\n",
    "             if idx1 == idx2:                       # ignore if both are same sentences\n",
    "                continue \n",
    "             similarity_matrix[idx1][idx2] = sentence_similarity(sentences[idx1], sentences[idx2])\n",
    "\n",
    "print(\"Smilarity matrix \\n\", similarity_matrix)"
   ]
  },
  {
   "cell_type": "markdown",
   "id": "41e1ac84",
   "metadata": {},
   "source": [
    "### BUILDING SIMILARITY GRAPH"
   ]
  },
  {
   "cell_type": "code",
   "execution_count": 114,
   "id": "24438473",
   "metadata": {
    "scrolled": true
   },
   "outputs": [
    {
     "name": "stdout",
     "output_type": "stream",
     "text": [
      "scores {0: 0.19306449754902083, 1: 0.18095893645850156, 2: 0.1911855225552033, 3: 0.1911855225552033, 4: 0.14434636291527997, 5: 0.09925915796679063}\n"
     ]
    }
   ],
   "source": [
    "# Constructs a graph from the similarity matrix and calculates PageRank scores.\n",
    "\n",
    "sentence_similarity_graph = nx.from_numpy_array(similarity_matrix)\n",
    "scores = nx.pagerank(sentence_similarity_graph)\n",
    "print(\"scores\", scores)"
   ]
  },
  {
   "cell_type": "markdown",
   "id": "54d91567",
   "metadata": {},
   "source": [
    "### RANKING SENTENCES"
   ]
  },
  {
   "cell_type": "markdown",
   "id": "7a724794",
   "metadata": {},
   "source": [
    "This code snippet ranks sentences by their PageRank scores in descending order, aiding in prioritizing important content for text summarization or analysis tasks."
   ]
  },
  {
   "cell_type": "code",
   "execution_count": 115,
   "id": "9c87ccb9",
   "metadata": {},
   "outputs": [
    {
     "name": "stdout",
     "output_type": "stream",
     "text": [
      "Indexes of top ranked_sentence order are \n",
      "\n",
      " [(0.19306449754902083, ['It', 'was', 'the', 'best', 'of', 'times']), (0.1911855225552033, ['It', 'was', 'the', 'age', 'of', 'wisdom']), (0.1911855225552033, ['It', 'was', 'the', 'age', 'of', 'foolishness']), (0.18095893645850156, ['It', 'was', 'the', 'worst', 'of', 'times']), (0.14434636291527997, ['What', 'is', 'the', 'importance', 'of', 'age']), (0.09925915796679063, ['This', 'is', 'the', 'best', 'example.'])]\n"
     ]
    }
   ],
   "source": [
    "# Sorts sentences based on their PageRank scores in descending order.\n",
    "\n",
    "ranked_sentence = sorted(((scores[i],s) for i,s in enumerate(sentences)), reverse=True)    \n",
    "print(\"Indexes of top ranked_sentence order are \\n\\n\", ranked_sentence)"
   ]
  },
  {
   "cell_type": "markdown",
   "id": "604ed12e",
   "metadata": {},
   "source": [
    "### SUMMARIZING TEXT"
   ]
  },
  {
   "cell_type": "code",
   "execution_count": 116,
   "id": "8a7570e4",
   "metadata": {},
   "outputs": [
    {
     "name": "stdout",
     "output_type": "stream",
     "text": [
      "How many sentences do you want in the summary? 5\n"
     ]
    }
   ],
   "source": [
    "# Generates a summary by selecting the top-ranked sentences based on user input.\n",
    "\n",
    "n = int(input(\"How many sentences do you want in the summary? \"))    #n=2\n",
    "summarize_text = []\n",
    "for i in range(n):\n",
    "      summarize_text.append(\" \".join(ranked_sentence[i][1]))"
   ]
  },
  {
   "cell_type": "markdown",
   "id": "d84416e0",
   "metadata": {},
   "source": [
    "### PRINTING SUMMARY"
   ]
  },
  {
   "cell_type": "code",
   "execution_count": 117,
   "id": "169c5bf4",
   "metadata": {
    "scrolled": true
   },
   "outputs": [
    {
     "name": "stdout",
     "output_type": "stream",
     "text": [
      "Summarize Text: \n",
      " It was the best of times. It was the age of wisdom. It was the age of foolishness. It was the worst of times. What is the importance of age\n"
     ]
    }
   ],
   "source": [
    "# Displays the summarized text composed of selected sentences.\n",
    "\n",
    "print(\"Summarize Text: \\n\", \". \".join(summarize_text))"
   ]
  },
  {
   "cell_type": "markdown",
   "id": "3c63d1cc",
   "metadata": {},
   "source": [
    "## TEXT SUMMARIZATION ON SECOND FILE "
   ]
  },
  {
   "cell_type": "markdown",
   "id": "452db431",
   "metadata": {},
   "source": [
    "### READING AND PROCESSING TEXT"
   ]
  },
  {
   "cell_type": "markdown",
   "id": "a66751c2",
   "metadata": {},
   "source": [
    "The code snippet reads text from a file, divides it into sentences, and tokenizes them for subsequent analysis, preparing the data for text processing tasks."
   ]
  },
  {
   "cell_type": "code",
   "execution_count": 118,
   "id": "f8de8a21",
   "metadata": {},
   "outputs": [
    {
     "name": "stdout",
     "output_type": "stream",
     "text": [
      "I AM SAM\n",
      "I AM SAM\n",
      "SAM I AM\n",
      "THAT SAM-I-AM! THAT SAM-I-AM!\n",
      "I DO NOT LIKE THAT SAM-I-AM!\n",
      "DO WOULD YOU LIKE GREEN EGGS AND HAM?\n",
      "I DO NOT LIKE THEM, SAM-I-AM\n",
      "I DO NOT LIKE GREEN EGGS AND HAM\n",
      "WOULD YOU LIKE THEM HERE OR THERE?\n",
      "I WOULD NOT LIKE THEM HERE OR THERE\n",
      "I WOULD NOT LIKE THEM ANYWHERE\n",
      "I DO NOT LIKE GREEN EGGS AND HAM\n",
      "I DO NOT LIKE THEM, SAM-I-AM\n",
      "WOULD YOU LIKE THEM IN A HOUSE?\n",
      "WOULD YOU LIKE THEN WITH A MOUSE?\n",
      "I DO NOT LIKE THEM IN A HOUSE\n",
      "I DO NOT LIKE THEM WITH A MOUSE\n",
      "I DO NOT LIKE THEM HERE OR THERE\n",
      "I DO NOT LIKE THEM ANYWHERE\n",
      "I DO NOT LIKE GREEN EGGS AND HAM\n",
      "I DO NOT LIKE THEM, SAM-I-AM.\n",
      "\n"
     ]
    }
   ],
   "source": [
    "# Reads text from file, splits into sentences, and tokenizes them.\n",
    "\n",
    "file2 = open(\"Text2.txt\", \"r\")\n",
    "                                                      # This file contains one paragraph of multiple sentences\n",
    "filedata2 = file2.readlines()\n",
    "article2 = filedata2[0].split(\". \")                     # Just do the first paragraph\n",
    "\n",
    "sentences2 = []\n",
    "for sentence in article2:\n",
    "    print(sentence)\n",
    "    sentences2.append(sentence.replace(\"[^a-zA-Z]\", \" \").split(\" \"))"
   ]
  },
  {
   "cell_type": "markdown",
   "id": "7a16c0de",
   "metadata": {},
   "source": [
    "### PRINTING SENTENCES"
   ]
  },
  {
   "cell_type": "code",
   "execution_count": 119,
   "id": "5a73a038",
   "metadata": {},
   "outputs": [
    {
     "name": "stdout",
     "output_type": "stream",
     "text": [
      "Sentences are  [['I', 'AM', 'SAM'], ['I', 'AM', 'SAM'], ['SAM', 'I', 'AM'], ['THAT', 'SAM-I-AM!', 'THAT', 'SAM-I-AM!'], ['I', 'DO', 'NOT', 'LIKE', 'THAT', 'SAM-I-AM!'], ['DO', 'WOULD', 'YOU', 'LIKE', 'GREEN', 'EGGS', 'AND', 'HAM?'], ['I', 'DO', 'NOT', 'LIKE', 'THEM,', 'SAM-I-AM'], ['I', 'DO', 'NOT', 'LIKE', 'GREEN', 'EGGS', 'AND', 'HAM'], ['WOULD', 'YOU', 'LIKE', 'THEM', 'HERE', 'OR', 'THERE?'], ['I', 'WOULD', 'NOT', 'LIKE', 'THEM', 'HERE', 'OR', 'THERE'], ['I', 'WOULD', 'NOT', 'LIKE', 'THEM', 'ANYWHERE'], ['I', 'DO', 'NOT', 'LIKE', 'GREEN', 'EGGS', 'AND', 'HAM'], ['I', 'DO', 'NOT', 'LIKE', 'THEM,', 'SAM-I-AM'], ['WOULD', 'YOU', 'LIKE', 'THEM', 'IN', 'A', 'HOUSE?'], ['WOULD', 'YOU', 'LIKE', 'THEN', 'WITH', 'A', 'MOUSE?'], ['I', 'DO', 'NOT', 'LIKE', 'THEM', 'IN', 'A', 'HOUSE'], ['I', 'DO', 'NOT', 'LIKE', 'THEM', 'WITH', 'A', 'MOUSE'], ['I', 'DO', 'NOT', 'LIKE', 'THEM', 'HERE', 'OR', 'THERE'], ['I', 'DO', 'NOT', 'LIKE', 'THEM', 'ANYWHERE'], ['I', 'DO', 'NOT', 'LIKE', 'GREEN', 'EGGS', 'AND', 'HAM'], ['I', 'DO', 'NOT', 'LIKE', 'THEM,', 'SAM-I-AM.\\n']]\n"
     ]
    }
   ],
   "source": [
    "# Displays the list of tokenized sentences for further processing.\n",
    "\n",
    "print(\"Sentences are \", sentences2)"
   ]
  },
  {
   "cell_type": "markdown",
   "id": "341e873a",
   "metadata": {},
   "source": [
    "### SENTENCE SIMILARITY"
   ]
  },
  {
   "cell_type": "markdown",
   "id": "e1c1c299",
   "metadata": {},
   "source": [
    "This function computes the similarity between two sentences using cosine distance, a common metric in natural language processing, by constructing vectors based on word occurrences and comparing their orientations."
   ]
  },
  {
   "cell_type": "code",
   "execution_count": 120,
   "id": "73294e86",
   "metadata": {},
   "outputs": [],
   "source": [
    "# Calculates similarity between two sentences using cosine distance.\n",
    "\n",
    "def sentence_similarity2(sent3, sent4 ):\n",
    "    sent1 = [w.lower() for w in sent3]\n",
    "    sent2 = [w.lower() for w in sent4]\n",
    "    all_words = list(set(sent3 + sent4))\n",
    "    vector3 = [0] * len(all_words)\n",
    "    vector4 = [0] * len(all_words)\n",
    "                                                    # build the vector for the first sentence\n",
    "    for w in sent3:\n",
    "          vector3[all_words.index(w)] += 1\n",
    "                                                    # build the vector for the second sentence\n",
    "    for w in sent4:\n",
    "          vector4[all_words.index(w)] += 1\n",
    "    return 1 - cosine_distance(vector3, vector4)"
   ]
  },
  {
   "cell_type": "markdown",
   "id": "7d127079",
   "metadata": {},
   "source": [
    "### CALCULATING SIMILARITY MATRIX"
   ]
  },
  {
   "cell_type": "code",
   "execution_count": 121,
   "id": "776a1c7b",
   "metadata": {},
   "outputs": [
    {
     "name": "stdout",
     "output_type": "stream",
     "text": [
      "Smilarity matrix \n",
      " [[0.         1.         1.         0.         0.23570226 0.\n",
      "  0.23570226 0.20412415 0.         0.20412415 0.23570226 0.20412415\n",
      "  0.23570226 0.         0.         0.20412415 0.20412415 0.20412415\n",
      "  0.23570226 0.20412415 0.23570226]\n",
      " [1.         0.         1.         0.         0.23570226 0.\n",
      "  0.23570226 0.20412415 0.         0.20412415 0.23570226 0.20412415\n",
      "  0.23570226 0.         0.         0.20412415 0.20412415 0.20412415\n",
      "  0.23570226 0.20412415 0.23570226]\n",
      " [1.         1.         0.         0.         0.23570226 0.\n",
      "  0.23570226 0.20412415 0.         0.20412415 0.23570226 0.20412415\n",
      "  0.23570226 0.         0.         0.20412415 0.20412415 0.20412415\n",
      "  0.23570226 0.20412415 0.23570226]\n",
      " [0.         0.         0.         0.         0.57735027 0.\n",
      "  0.         0.         0.         0.         0.         0.\n",
      "  0.         0.         0.         0.         0.         0.\n",
      "  0.         0.         0.        ]\n",
      " [0.23570226 0.23570226 0.23570226 0.57735027 0.         0.28867513\n",
      "  0.66666667 0.57735027 0.15430335 0.4330127  0.5        0.57735027\n",
      "  0.66666667 0.15430335 0.15430335 0.57735027 0.57735027 0.57735027\n",
      "  0.66666667 0.57735027 0.66666667]\n",
      " [0.         0.         0.         0.         0.28867513 0.\n",
      "  0.28867513 0.625      0.40089186 0.25       0.28867513 0.625\n",
      "  0.28867513 0.40089186 0.40089186 0.25       0.25       0.25\n",
      "  0.28867513 0.625      0.28867513]\n",
      " [0.23570226 0.23570226 0.23570226 0.         0.66666667 0.28867513\n",
      "  0.         0.57735027 0.15430335 0.4330127  0.5        0.57735027\n",
      "  1.         0.15430335 0.15430335 0.57735027 0.57735027 0.57735027\n",
      "  0.66666667 0.57735027 0.83333333]\n",
      " [0.20412415 0.20412415 0.20412415 0.         0.57735027 0.625\n",
      "  0.57735027 0.         0.13363062 0.375      0.4330127  1.\n",
      "  0.57735027 0.13363062 0.13363062 0.5        0.5        0.5\n",
      "  0.57735027 1.         0.57735027]\n",
      " [0.         0.         0.         0.         0.15430335 0.40089186\n",
      "  0.15430335 0.13363062 0.         0.6681531  0.46291005 0.13363062\n",
      "  0.15430335 0.57142857 0.42857143 0.26726124 0.26726124 0.53452248\n",
      "  0.3086067  0.13363062 0.15430335]\n",
      " [0.20412415 0.20412415 0.20412415 0.         0.4330127  0.25\n",
      "  0.4330127  0.375      0.6681531  0.         0.72168784 0.375\n",
      "  0.4330127  0.40089186 0.26726124 0.5        0.5        0.875\n",
      "  0.57735027 0.375      0.4330127 ]\n",
      " [0.23570226 0.23570226 0.23570226 0.         0.5        0.28867513\n",
      "  0.5        0.4330127  0.46291005 0.72168784 0.         0.4330127\n",
      "  0.5        0.46291005 0.3086067  0.57735027 0.57735027 0.57735027\n",
      "  0.83333333 0.4330127  0.5       ]\n",
      " [0.20412415 0.20412415 0.20412415 0.         0.57735027 0.625\n",
      "  0.57735027 1.         0.13363062 0.375      0.4330127  0.\n",
      "  0.57735027 0.13363062 0.13363062 0.5        0.5        0.5\n",
      "  0.57735027 1.         0.57735027]\n",
      " [0.23570226 0.23570226 0.23570226 0.         0.66666667 0.28867513\n",
      "  1.         0.57735027 0.15430335 0.4330127  0.5        0.57735027\n",
      "  0.         0.15430335 0.15430335 0.57735027 0.57735027 0.57735027\n",
      "  0.66666667 0.57735027 0.83333333]\n",
      " [0.         0.         0.         0.         0.15430335 0.40089186\n",
      "  0.15430335 0.13363062 0.57142857 0.40089186 0.46291005 0.13363062\n",
      "  0.15430335 0.         0.57142857 0.53452248 0.40089186 0.26726124\n",
      "  0.3086067  0.13363062 0.15430335]\n",
      " [0.         0.         0.         0.         0.15430335 0.40089186\n",
      "  0.15430335 0.13363062 0.42857143 0.26726124 0.3086067  0.13363062\n",
      "  0.15430335 0.57142857 0.         0.26726124 0.40089186 0.13363062\n",
      "  0.15430335 0.13363062 0.15430335]\n",
      " [0.20412415 0.20412415 0.20412415 0.         0.57735027 0.25\n",
      "  0.57735027 0.5        0.26726124 0.5        0.57735027 0.5\n",
      "  0.57735027 0.53452248 0.26726124 0.         0.75       0.625\n",
      "  0.72168784 0.5        0.57735027]\n",
      " [0.20412415 0.20412415 0.20412415 0.         0.57735027 0.25\n",
      "  0.57735027 0.5        0.26726124 0.5        0.57735027 0.5\n",
      "  0.57735027 0.40089186 0.40089186 0.75       0.         0.625\n",
      "  0.72168784 0.5        0.57735027]\n",
      " [0.20412415 0.20412415 0.20412415 0.         0.57735027 0.25\n",
      "  0.57735027 0.5        0.53452248 0.875      0.57735027 0.5\n",
      "  0.57735027 0.26726124 0.13363062 0.625      0.625      0.\n",
      "  0.72168784 0.5        0.57735027]\n",
      " [0.23570226 0.23570226 0.23570226 0.         0.66666667 0.28867513\n",
      "  0.66666667 0.57735027 0.3086067  0.57735027 0.83333333 0.57735027\n",
      "  0.66666667 0.3086067  0.15430335 0.72168784 0.72168784 0.72168784\n",
      "  0.         0.57735027 0.66666667]\n",
      " [0.20412415 0.20412415 0.20412415 0.         0.57735027 0.625\n",
      "  0.57735027 1.         0.13363062 0.375      0.4330127  1.\n",
      "  0.57735027 0.13363062 0.13363062 0.5        0.5        0.5\n",
      "  0.57735027 0.         0.57735027]\n",
      " [0.23570226 0.23570226 0.23570226 0.         0.66666667 0.28867513\n",
      "  0.83333333 0.57735027 0.15430335 0.4330127  0.5        0.57735027\n",
      "  0.83333333 0.15430335 0.15430335 0.57735027 0.57735027 0.57735027\n",
      "  0.66666667 0.57735027 0.        ]]\n"
     ]
    }
   ],
   "source": [
    "# Computes the similarity matrix for all pairs of sentences.\n",
    "\n",
    "similarity_matrix2 = np.zeros((len(sentences2), len(sentences2)))\n",
    " \n",
    "for idx1 in range(len(sentences2)):\n",
    "        for idx2 in range(len(sentences2)):\n",
    "             if idx1 == idx2:                       # ignore if both are same sentences\n",
    "                continue \n",
    "             similarity_matrix2[idx1][idx2] = sentence_similarity2(sentences2[idx1], sentences2[idx2])\n",
    "\n",
    "print(\"Smilarity matrix \\n\", similarity_matrix2)"
   ]
  },
  {
   "cell_type": "markdown",
   "id": "5cc977df",
   "metadata": {},
   "source": [
    "### BUILDING SIMILARITY GRAPH"
   ]
  },
  {
   "cell_type": "code",
   "execution_count": 122,
   "id": "38347664",
   "metadata": {},
   "outputs": [
    {
     "name": "stdout",
     "output_type": "stream",
     "text": [
      "scores {0: 0.03492638917817515, 1: 0.03492638917817515, 2: 0.03492638917817515, 3: 0.010552425887368076, 4: 0.06321847556853293, 5: 0.03960609463088077, 6: 0.057289451630209653, 7: 0.056226314678287335, 8: 0.03486412173792891, 9: 0.053338934277549654, 10: 0.0566062415473087, 11: 0.056226314678287335, 12: 0.05728945163020967, 13: 0.0350182718613405, 14: 0.02940805086606966, 15: 0.056983599690836606, 16: 0.05702071446687991, 17: 0.057531865612924, 18: 0.06143601920162538, 19: 0.056226314678287335, 20: 0.05637816982094812}\n"
     ]
    }
   ],
   "source": [
    "# Constructs a graph from the similarity matrix and calculates PageRank scores.\n",
    "\n",
    "sentence_similarity_graph = nx.from_numpy_array(similarity_matrix2)\n",
    "scores2 = nx.pagerank(sentence_similarity_graph)\n",
    "print(\"scores\", scores2)"
   ]
  },
  {
   "cell_type": "markdown",
   "id": "83fb52b2",
   "metadata": {},
   "source": [
    "### RANKING SENTENCES"
   ]
  },
  {
   "cell_type": "markdown",
   "id": "4d2a6dae",
   "metadata": {},
   "source": [
    "This code snippet ranks sentences by their PageRank scores in descending order, aiding in prioritizing important content for text summarization or analysis tasks."
   ]
  },
  {
   "cell_type": "code",
   "execution_count": 123,
   "id": "92f347f1",
   "metadata": {},
   "outputs": [
    {
     "name": "stdout",
     "output_type": "stream",
     "text": [
      "Indexes of top ranked_sentence order are \n",
      "\n",
      " [(0.06321847556853293, ['I', 'DO', 'NOT', 'LIKE', 'THAT', 'SAM-I-AM!']), (0.06143601920162538, ['I', 'DO', 'NOT', 'LIKE', 'THEM', 'ANYWHERE']), (0.057531865612924, ['I', 'DO', 'NOT', 'LIKE', 'THEM', 'HERE', 'OR', 'THERE']), (0.05728945163020967, ['I', 'DO', 'NOT', 'LIKE', 'THEM,', 'SAM-I-AM']), (0.057289451630209653, ['I', 'DO', 'NOT', 'LIKE', 'THEM,', 'SAM-I-AM']), (0.05702071446687991, ['I', 'DO', 'NOT', 'LIKE', 'THEM', 'WITH', 'A', 'MOUSE']), (0.056983599690836606, ['I', 'DO', 'NOT', 'LIKE', 'THEM', 'IN', 'A', 'HOUSE']), (0.0566062415473087, ['I', 'WOULD', 'NOT', 'LIKE', 'THEM', 'ANYWHERE']), (0.05637816982094812, ['I', 'DO', 'NOT', 'LIKE', 'THEM,', 'SAM-I-AM.\\n']), (0.056226314678287335, ['I', 'DO', 'NOT', 'LIKE', 'GREEN', 'EGGS', 'AND', 'HAM']), (0.056226314678287335, ['I', 'DO', 'NOT', 'LIKE', 'GREEN', 'EGGS', 'AND', 'HAM']), (0.056226314678287335, ['I', 'DO', 'NOT', 'LIKE', 'GREEN', 'EGGS', 'AND', 'HAM']), (0.053338934277549654, ['I', 'WOULD', 'NOT', 'LIKE', 'THEM', 'HERE', 'OR', 'THERE']), (0.03960609463088077, ['DO', 'WOULD', 'YOU', 'LIKE', 'GREEN', 'EGGS', 'AND', 'HAM?']), (0.0350182718613405, ['WOULD', 'YOU', 'LIKE', 'THEM', 'IN', 'A', 'HOUSE?']), (0.03492638917817515, ['SAM', 'I', 'AM']), (0.03492638917817515, ['I', 'AM', 'SAM']), (0.03492638917817515, ['I', 'AM', 'SAM']), (0.03486412173792891, ['WOULD', 'YOU', 'LIKE', 'THEM', 'HERE', 'OR', 'THERE?']), (0.02940805086606966, ['WOULD', 'YOU', 'LIKE', 'THEN', 'WITH', 'A', 'MOUSE?']), (0.010552425887368076, ['THAT', 'SAM-I-AM!', 'THAT', 'SAM-I-AM!'])]\n"
     ]
    }
   ],
   "source": [
    "# Sorts sentences based on their PageRank scores in descending order.\n",
    "\n",
    "ranked_sentence2 = sorted(((scores2[i],s) for i,s in enumerate(sentences2)), reverse=True)    \n",
    "print(\"Indexes of top ranked_sentence order are \\n\\n\", ranked_sentence2)"
   ]
  },
  {
   "cell_type": "markdown",
   "id": "694935a5",
   "metadata": {},
   "source": [
    "### SUMMARIZING TEXT"
   ]
  },
  {
   "cell_type": "code",
   "execution_count": 124,
   "id": "befe2747",
   "metadata": {},
   "outputs": [
    {
     "name": "stdout",
     "output_type": "stream",
     "text": [
      "How many sentences do you want in the summary? 5\n"
     ]
    }
   ],
   "source": [
    "# Generates a summary by selecting the top-ranked sentences based on user input.\n",
    "\n",
    "n2 = int(input(\"How many sentences do you want in the summary? \"))    #n=2\n",
    "summarize_text2 = []\n",
    "for i in range(n2):\n",
    "      summarize_text2.append(\" \".join(ranked_sentence2[i][1]))"
   ]
  },
  {
   "cell_type": "markdown",
   "id": "eab51763",
   "metadata": {},
   "source": [
    "### PRINTING SUMMARY"
   ]
  },
  {
   "cell_type": "code",
   "execution_count": 125,
   "id": "103ac6be",
   "metadata": {},
   "outputs": [
    {
     "name": "stdout",
     "output_type": "stream",
     "text": [
      "Summarize Text: \n",
      " I DO NOT LIKE THAT SAM-I-AM!. I DO NOT LIKE THEM ANYWHERE. I DO NOT LIKE THEM HERE OR THERE. I DO NOT LIKE THEM, SAM-I-AM. I DO NOT LIKE THEM, SAM-I-AM\n"
     ]
    }
   ],
   "source": [
    "# Displays the summarized text composed of selected sentences.\n",
    "\n",
    "print(\"Summarize Text: \\n\", \". \".join(summarize_text2))"
   ]
  },
  {
   "cell_type": "markdown",
   "id": "eb58513f",
   "metadata": {},
   "source": [
    "## TEXT SUMMARIZATION FOR THIRD FILE "
   ]
  },
  {
   "cell_type": "markdown",
   "id": "8d5c9104",
   "metadata": {},
   "source": [
    "### READING AND PROCESSING TEXT"
   ]
  },
  {
   "cell_type": "markdown",
   "id": "a01f894c",
   "metadata": {},
   "source": [
    "The code snippet reads text from a file, divides it into sentences, and tokenizes them for subsequent analysis, preparing the data for text processing tasks."
   ]
  },
  {
   "cell_type": "code",
   "execution_count": 126,
   "id": "662375d6",
   "metadata": {},
   "outputs": [
    {
     "name": "stdout",
     "output_type": "stream",
     "text": [
      "As an institution of higher learning, Sacred Heart University places special emphasis on academic integrity, which is a commitment to the fundamental values of honesty, trust, fairness, respect, and responsibility\n",
      "Only when these values are widely respected and practiced by all members of the University students, faculty, administrators, and staff can the University maintain a culture that promotes free exploration of knowledge, constructive debate, genuine learning, effective research, fair assessment of student progress, and development of members characters\n",
      "These aims of the University require that its members exercise mutual responsibilities\n",
      "At its core, academic integrity is secured by a principled commitment to carry out these responsibilities, not by rules and penalties\n",
      "Students and faculty should strive to create an academic environment that is honest, fair, and respectful of all\n",
      "They do this by evaluating others work fairly, by responding to others ideas critically yet courteously, by respecting others intellectual and physical property, and by nurturing the values of academic integrity in all contexts of University life\n",
      "Appropriate disciplinary action will be taken for violations of academic integrity, including plagiarism, cheating, any use of materials for an assignment or exam that is not permitted by the instructor, and theft or mutilation of intellectual materials or other University equipment\n",
      "Faculty will assign failing grades for violations of the University policy on academic integrity and students may immediately receive an F for a course in which they commit a violation\n",
      "Violations of academic integrity are kept on file second violations will bring additional sanctions, up to dismissal from the University\n",
      "For any disciplinary action, the University affords the student the right of due process in an appeals procedure\n",
      "All matriculated students will be provided with a full description of the University standards for academic integrity, consequences for violations, and the appeals procedure.\n"
     ]
    }
   ],
   "source": [
    "# Reads text from file, splits into sentences, and tokenizes them.\n",
    "\n",
    "file = open(\"Text3.txt\", \"r\")\n",
    "                                                      # This file contains one paragraph of multiple sentences\n",
    "filedata = file.readlines()\n",
    "article = filedata[0].split(\". \")                     # Just do the first paragraph\n",
    "\n",
    "sentences = []\n",
    "for sentence in article:\n",
    "    print(sentence)\n",
    "    sentences.append(sentence.replace(\"[^a-zA-Z]\", \" \").split(\" \"))"
   ]
  },
  {
   "cell_type": "markdown",
   "id": "6da176f0",
   "metadata": {},
   "source": [
    "### PRINTING SENTENCES"
   ]
  },
  {
   "cell_type": "code",
   "execution_count": 127,
   "id": "84172c17",
   "metadata": {},
   "outputs": [
    {
     "name": "stdout",
     "output_type": "stream",
     "text": [
      "Sentences are  [['As', 'an', 'institution', 'of', 'higher', 'learning,', 'Sacred', 'Heart', 'University', 'places', 'special', 'emphasis', 'on', 'academic', 'integrity,', 'which', 'is', 'a', 'commitment', 'to', 'the', 'fundamental', 'values', 'of', 'honesty,', 'trust,', 'fairness,', 'respect,', 'and', 'responsibility'], ['Only', 'when', 'these', 'values', 'are', 'widely', 'respected', 'and', 'practiced', 'by', 'all', 'members', 'of', 'the', 'University', 'students,', 'faculty,', 'administrators,', 'and', 'staff', 'can', 'the', 'University', 'maintain', 'a', 'culture', 'that', 'promotes', 'free', 'exploration', 'of', 'knowledge,', 'constructive', 'debate,', 'genuine', 'learning,', 'effective', 'research,', 'fair', 'assessment', 'of', 'student', 'progress,', 'and', 'development', 'of', 'members', 'characters'], ['These', 'aims', 'of', 'the', 'University', 'require', 'that', 'its', 'members', 'exercise', 'mutual', 'responsibilities'], ['At', 'its', 'core,', 'academic', 'integrity', 'is', 'secured', 'by', 'a', 'principled', 'commitment', 'to', 'carry', 'out', 'these', 'responsibilities,', 'not', 'by', 'rules', 'and', 'penalties'], ['Students', 'and', 'faculty', 'should', 'strive', 'to', 'create', 'an', 'academic', 'environment', 'that', 'is', 'honest,', 'fair,', 'and', 'respectful', 'of', 'all'], ['They', 'do', 'this', 'by', 'evaluating', 'others', 'work', 'fairly,', 'by', 'responding', 'to', 'others', 'ideas', 'critically', 'yet', 'courteously,', 'by', 'respecting', 'others', 'intellectual', 'and', 'physical', 'property,', 'and', 'by', 'nurturing', 'the', 'values', 'of', 'academic', 'integrity', 'in', 'all', 'contexts', 'of', 'University', 'life'], ['Appropriate', 'disciplinary', 'action', 'will', 'be', 'taken', 'for', 'violations', 'of', 'academic', 'integrity,', 'including', 'plagiarism,', 'cheating,', 'any', 'use', 'of', 'materials', 'for', 'an', 'assignment', 'or', 'exam', 'that', 'is', 'not', 'permitted', 'by', 'the', 'instructor,', 'and', 'theft', 'or', 'mutilation', 'of', 'intellectual', 'materials', 'or', 'other', 'University', 'equipment'], ['Faculty', 'will', 'assign', 'failing', 'grades', 'for', 'violations', 'of', 'the', 'University', 'policy', 'on', 'academic', 'integrity', 'and', 'students', 'may', 'immediately', 'receive', 'an', 'F', 'for', 'a', 'course', 'in', 'which', 'they', 'commit', 'a', 'violation'], ['Violations', 'of', 'academic', 'integrity', 'are', 'kept', 'on', 'file', 'second', 'violations', 'will', 'bring', 'additional', 'sanctions,', 'up', 'to', 'dismissal', 'from', 'the', 'University'], ['For', 'any', 'disciplinary', 'action,', 'the', 'University', 'affords', 'the', 'student', 'the', 'right', 'of', 'due', 'process', 'in', 'an', 'appeals', 'procedure'], ['All', 'matriculated', 'students', 'will', 'be', 'provided', 'with', 'a', 'full', 'description', 'of', 'the', 'University', 'standards', 'for', 'academic', 'integrity,', 'consequences', 'for', 'violations,', 'and', 'the', 'appeals', 'procedure.']]\n"
     ]
    }
   ],
   "source": [
    "# Displays the list of tokenized sentences for further processing.\n",
    "\n",
    "print(\"Sentences are \", sentences)"
   ]
  },
  {
   "cell_type": "markdown",
   "id": "4d246608",
   "metadata": {},
   "source": [
    "### SENTENCE SIMILARITY"
   ]
  },
  {
   "cell_type": "markdown",
   "id": "0037cbfa",
   "metadata": {},
   "source": [
    "This function computes the similarity between two sentences using cosine distance, a common metric in natural language processing, by constructing vectors based on word occurrences and comparing their orientations."
   ]
  },
  {
   "cell_type": "code",
   "execution_count": 128,
   "id": "7ea4087a",
   "metadata": {},
   "outputs": [],
   "source": [
    "# Calculates similarity between two sentences using cosine distance.\n",
    "\n",
    "def sentence_similarity(sent1, sent2 ):\n",
    "    sent1 = [w.lower() for w in sent1]\n",
    "    sent2 = [w.lower() for w in sent2]\n",
    "    all_words = list(set(sent1 + sent2))\n",
    "    vector1 = [0] * len(all_words)\n",
    "    vector2 = [0] * len(all_words)\n",
    "                                                    # build the vector for the first sentence\n",
    "    for w in sent1:\n",
    "          vector1[all_words.index(w)] += 1\n",
    "                                                    # build the vector for the second sentence\n",
    "    for w in sent2:\n",
    "          vector2[all_words.index(w)] += 1\n",
    "    return 1 - cosine_distance(vector1, vector2)"
   ]
  },
  {
   "cell_type": "markdown",
   "id": "b5647797",
   "metadata": {},
   "source": [
    "### CALCULATING SIMILARITY MATRIX"
   ]
  },
  {
   "cell_type": "code",
   "execution_count": 129,
   "id": "be8a2410",
   "metadata": {},
   "outputs": [
    {
     "name": "stdout",
     "output_type": "stream",
     "text": [
      "Smilarity matrix \n",
      " [[0.         0.375      0.20412415 0.22116293 0.31622777 0.25315802\n",
      "  0.30439039 0.33348648 0.26382243 0.25259074 0.3006689 ]\n",
      " [0.375      0.         0.40824829 0.17201562 0.31622777 0.36822985\n",
      "  0.32780503 0.26274693 0.22613351 0.3127314  0.33407655]\n",
      " [0.20412415 0.40824829 0.         0.12038585 0.12909944 0.15032921\n",
      "  0.22941573 0.14852213 0.18463724 0.29462783 0.21821789]\n",
      " [0.22116293 0.17201562 0.12038585 0.         0.2331262  0.35290144\n",
      "  0.16571045 0.17879963 0.13336627 0.         0.11821656]\n",
      " [0.31622777 0.31622777 0.12909944 0.2331262  0.         0.26200013\n",
      "  0.26655699 0.26843775 0.14301939 0.09128709 0.25354628]\n",
      " [0.25315802 0.36822985 0.15032921 0.35290144 0.26200013 0.\n",
      "  0.27590308 0.22327214 0.19429458 0.1860229  0.22143052]\n",
      " [0.30439039 0.32780503 0.22941573 0.16571045 0.26655699 0.27590308\n",
      "  0.         0.3180176  0.25415212 0.32444284 0.37546963]\n",
      " [0.33348648 0.26274693 0.14852213 0.17879963 0.26843775 0.22327214\n",
      "  0.3180176  0.         0.32907259 0.31506302 0.45374261]\n",
      " [0.26382243 0.22613351 0.18463724 0.13336627 0.14301939 0.19429458\n",
      "  0.25415212 0.32907259 0.         0.21759707 0.24174689]\n",
      " [0.25259074 0.3127314  0.29462783 0.         0.09128709 0.1860229\n",
      "  0.32444284 0.31506302 0.21759707 0.         0.42433421]\n",
      " [0.3006689  0.33407655 0.21821789 0.11821656 0.25354628 0.22143052\n",
      "  0.37546963 0.45374261 0.24174689 0.42433421 0.        ]]\n"
     ]
    }
   ],
   "source": [
    "# Computes the similarity matrix for all pairs of sentences.\n",
    "\n",
    "similarity_matrix = np.zeros((len(sentences), len(sentences)))\n",
    " \n",
    "for idx1 in range(len(sentences)):\n",
    "        for idx2 in range(len(sentences)):\n",
    "             if idx1 == idx2:                       # ignore if both are same sentences\n",
    "                continue \n",
    "             similarity_matrix[idx1][idx2] = sentence_similarity(sentences[idx1], sentences[idx2])\n",
    "\n",
    "print(\"Smilarity matrix \\n\", similarity_matrix)"
   ]
  },
  {
   "cell_type": "markdown",
   "id": "08002054",
   "metadata": {},
   "source": [
    "### BUILDING SIMILARITY GRAPH"
   ]
  },
  {
   "cell_type": "code",
   "execution_count": 130,
   "id": "75f70884",
   "metadata": {},
   "outputs": [
    {
     "name": "stdout",
     "output_type": "stream",
     "text": [
      "scores {0: 0.10052808533762261, 1: 0.1092617813187325, 2: 0.07743541734389628, 3: 0.06555131921078501, 4: 0.08353031285994028, 5: 0.09032582020361654, 6: 0.10094508912146115, 7: 0.10059598487085707, 8: 0.08058955768995534, 9: 0.08737172856802625, 10: 0.10386490347510732}\n"
     ]
    }
   ],
   "source": [
    "# Constructs a graph from the similarity matrix and calculates PageRank scores.\n",
    "\n",
    "sentence_similarity_graph = nx.from_numpy_array(similarity_matrix)\n",
    "scores = nx.pagerank(sentence_similarity_graph)\n",
    "print(\"scores\", scores)"
   ]
  },
  {
   "cell_type": "markdown",
   "id": "ae582c28",
   "metadata": {},
   "source": [
    "### RANKING SENTENCES"
   ]
  },
  {
   "cell_type": "markdown",
   "id": "03627bcb",
   "metadata": {},
   "source": [
    "This code snippet ranks sentences by their PageRank scores in descending order, aiding in prioritizing important content for text summarization or analysis tasks."
   ]
  },
  {
   "cell_type": "code",
   "execution_count": 131,
   "id": "80ffd63a",
   "metadata": {},
   "outputs": [
    {
     "name": "stdout",
     "output_type": "stream",
     "text": [
      "Indexes of top ranked_sentence order are \n",
      "\n",
      " [(0.1092617813187325, ['Only', 'when', 'these', 'values', 'are', 'widely', 'respected', 'and', 'practiced', 'by', 'all', 'members', 'of', 'the', 'University', 'students,', 'faculty,', 'administrators,', 'and', 'staff', 'can', 'the', 'University', 'maintain', 'a', 'culture', 'that', 'promotes', 'free', 'exploration', 'of', 'knowledge,', 'constructive', 'debate,', 'genuine', 'learning,', 'effective', 'research,', 'fair', 'assessment', 'of', 'student', 'progress,', 'and', 'development', 'of', 'members', 'characters']), (0.10386490347510732, ['All', 'matriculated', 'students', 'will', 'be', 'provided', 'with', 'a', 'full', 'description', 'of', 'the', 'University', 'standards', 'for', 'academic', 'integrity,', 'consequences', 'for', 'violations,', 'and', 'the', 'appeals', 'procedure.']), (0.10094508912146115, ['Appropriate', 'disciplinary', 'action', 'will', 'be', 'taken', 'for', 'violations', 'of', 'academic', 'integrity,', 'including', 'plagiarism,', 'cheating,', 'any', 'use', 'of', 'materials', 'for', 'an', 'assignment', 'or', 'exam', 'that', 'is', 'not', 'permitted', 'by', 'the', 'instructor,', 'and', 'theft', 'or', 'mutilation', 'of', 'intellectual', 'materials', 'or', 'other', 'University', 'equipment']), (0.10059598487085707, ['Faculty', 'will', 'assign', 'failing', 'grades', 'for', 'violations', 'of', 'the', 'University', 'policy', 'on', 'academic', 'integrity', 'and', 'students', 'may', 'immediately', 'receive', 'an', 'F', 'for', 'a', 'course', 'in', 'which', 'they', 'commit', 'a', 'violation']), (0.10052808533762261, ['As', 'an', 'institution', 'of', 'higher', 'learning,', 'Sacred', 'Heart', 'University', 'places', 'special', 'emphasis', 'on', 'academic', 'integrity,', 'which', 'is', 'a', 'commitment', 'to', 'the', 'fundamental', 'values', 'of', 'honesty,', 'trust,', 'fairness,', 'respect,', 'and', 'responsibility']), (0.09032582020361654, ['They', 'do', 'this', 'by', 'evaluating', 'others', 'work', 'fairly,', 'by', 'responding', 'to', 'others', 'ideas', 'critically', 'yet', 'courteously,', 'by', 'respecting', 'others', 'intellectual', 'and', 'physical', 'property,', 'and', 'by', 'nurturing', 'the', 'values', 'of', 'academic', 'integrity', 'in', 'all', 'contexts', 'of', 'University', 'life']), (0.08737172856802625, ['For', 'any', 'disciplinary', 'action,', 'the', 'University', 'affords', 'the', 'student', 'the', 'right', 'of', 'due', 'process', 'in', 'an', 'appeals', 'procedure']), (0.08353031285994028, ['Students', 'and', 'faculty', 'should', 'strive', 'to', 'create', 'an', 'academic', 'environment', 'that', 'is', 'honest,', 'fair,', 'and', 'respectful', 'of', 'all']), (0.08058955768995534, ['Violations', 'of', 'academic', 'integrity', 'are', 'kept', 'on', 'file', 'second', 'violations', 'will', 'bring', 'additional', 'sanctions,', 'up', 'to', 'dismissal', 'from', 'the', 'University']), (0.07743541734389628, ['These', 'aims', 'of', 'the', 'University', 'require', 'that', 'its', 'members', 'exercise', 'mutual', 'responsibilities']), (0.06555131921078501, ['At', 'its', 'core,', 'academic', 'integrity', 'is', 'secured', 'by', 'a', 'principled', 'commitment', 'to', 'carry', 'out', 'these', 'responsibilities,', 'not', 'by', 'rules', 'and', 'penalties'])]\n"
     ]
    }
   ],
   "source": [
    "# Sorts sentences based on their PageRank scores in descending order.\n",
    "\n",
    "ranked_sentence = sorted(((scores[i],s) for i,s in enumerate(sentences)), reverse=True)    \n",
    "print(\"Indexes of top ranked_sentence order are \\n\\n\", ranked_sentence)"
   ]
  },
  {
   "cell_type": "markdown",
   "id": "55115222",
   "metadata": {},
   "source": [
    "### SUMMARIZING TEXT"
   ]
  },
  {
   "cell_type": "code",
   "execution_count": 132,
   "id": "dcad6d26",
   "metadata": {},
   "outputs": [
    {
     "name": "stdout",
     "output_type": "stream",
     "text": [
      "How many sentences do you want in the summary? 5\n"
     ]
    }
   ],
   "source": [
    "# Generates a summary by selecting the top-ranked sentences based on user input.\n",
    "\n",
    "n2 = int(input(\"How many sentences do you want in the summary? \"))    #n=2\n",
    "summarize_text2 = []\n",
    "for i in range(n2):\n",
    "      summarize_text2.append(\" \".join(ranked_sentence2[i][1]))"
   ]
  },
  {
   "cell_type": "markdown",
   "id": "52ac6caf",
   "metadata": {},
   "source": [
    "### PRINTING SUMMARY"
   ]
  },
  {
   "cell_type": "code",
   "execution_count": 133,
   "id": "e747d774",
   "metadata": {},
   "outputs": [
    {
     "name": "stdout",
     "output_type": "stream",
     "text": [
      "Summarize Text: \n",
      " I DO NOT LIKE THAT SAM-I-AM!. I DO NOT LIKE THEM ANYWHERE. I DO NOT LIKE THEM HERE OR THERE. I DO NOT LIKE THEM, SAM-I-AM. I DO NOT LIKE THEM, SAM-I-AM\n"
     ]
    }
   ],
   "source": [
    "# Displays the summarized text composed of selected sentences.\n",
    "\n",
    "print(\"Summarize Text: \\n\", \". \".join(summarize_text2))"
   ]
  },
  {
   "cell_type": "markdown",
   "id": "0371aca3",
   "metadata": {},
   "source": [
    "## TEXT SUMMARIZATION FOR FOURTH FILE "
   ]
  },
  {
   "cell_type": "markdown",
   "id": "eeef5cd0",
   "metadata": {},
   "source": [
    "### READING AND PROCESSING TEXT"
   ]
  },
  {
   "cell_type": "markdown",
   "id": "970a1bb1",
   "metadata": {},
   "source": [
    "The code snippet reads text from a file, divides it into sentences, and tokenizes them for subsequent analysis, preparing the data for text processing tasks."
   ]
  },
  {
   "cell_type": "code",
   "execution_count": 134,
   "id": "f1a05ef8",
   "metadata": {},
   "outputs": [
    {
     "name": "stdout",
     "output_type": "stream",
     "text": [
      "Imagine there's no heaven\n",
      "It's easy if you try\n",
      "No hell below us\n",
      "Above us, only sky\n",
      "Imagine all the people livin' for today\n",
      "Imagine there's no countries\n",
      "It isn't hard to do\n",
      "Nothing to kill or die for and no religion, too\n",
      "Imagine all the people livin' life in peace\n",
      "You may say I'm a dreamer but I'm not the only one\n",
      "I hope someday you'll join us and the world will be as one\n",
      "Imagine no possessions\n",
      "I wonder if you can\n",
      "No need for greed or hunger\n",
      "A brotherhood of man\n",
      "Imagine all the people sharing all the world\n",
      "\n",
      "\n"
     ]
    }
   ],
   "source": [
    "# Reads text from file, splits into sentences, and tokenizes them.\n",
    "\n",
    "file = open(\"Text4.txt\", \"r\")\n",
    "                                                      # This file contains one paragraph of multiple sentences\n",
    "filedata = file.readlines()\n",
    "article = filedata[0].split(\". \")                     # Just do the first paragraph\n",
    "\n",
    "sentences = []\n",
    "for sentence in article:\n",
    "    print(sentence)\n",
    "    sentences.append(sentence.replace(\"[^a-zA-Z]\", \" \").split(\" \"))"
   ]
  },
  {
   "cell_type": "markdown",
   "id": "ea19d9a1",
   "metadata": {},
   "source": [
    "### PRINTING SENTENCES"
   ]
  },
  {
   "cell_type": "code",
   "execution_count": 135,
   "id": "92e6bf6e",
   "metadata": {},
   "outputs": [
    {
     "name": "stdout",
     "output_type": "stream",
     "text": [
      "Sentences are  [['Imagine', \"there's\", 'no', 'heaven'], [\"It's\", 'easy', 'if', 'you', 'try'], ['No', 'hell', 'below', 'us'], ['Above', 'us,', 'only', 'sky'], ['Imagine', 'all', 'the', 'people', \"livin'\", 'for', 'today'], ['Imagine', \"there's\", 'no', 'countries'], ['It', \"isn't\", 'hard', 'to', 'do'], ['Nothing', 'to', 'kill', 'or', 'die', 'for', 'and', 'no', 'religion,', 'too'], ['Imagine', 'all', 'the', 'people', \"livin'\", 'life', 'in', 'peace'], ['You', 'may', 'say', \"I'm\", 'a', 'dreamer', 'but', \"I'm\", 'not', 'the', 'only', 'one'], ['I', 'hope', 'someday', \"you'll\", 'join', 'us', 'and', 'the', 'world', 'will', 'be', 'as', 'one'], ['Imagine', 'no', 'possessions'], ['I', 'wonder', 'if', 'you', 'can'], ['No', 'need', 'for', 'greed', 'or', 'hunger'], ['A', 'brotherhood', 'of', 'man'], ['Imagine', 'all', 'the', 'people', 'sharing', 'all', 'the', 'world'], ['\\n']]\n"
     ]
    }
   ],
   "source": [
    "# Displays the list of tokenized sentences for further processing.\n",
    "\n",
    "print(\"Sentences are \", sentences)"
   ]
  },
  {
   "cell_type": "markdown",
   "id": "80ddb22c",
   "metadata": {},
   "source": [
    "### SENTENCE SIMILARITY"
   ]
  },
  {
   "cell_type": "markdown",
   "id": "36f0c17f",
   "metadata": {},
   "source": [
    "This function computes the similarity between two sentences using cosine distance, a common metric in natural language processing, by constructing vectors based on word occurrences and comparing their orientations."
   ]
  },
  {
   "cell_type": "code",
   "execution_count": 136,
   "id": "b24d9bd1",
   "metadata": {},
   "outputs": [],
   "source": [
    "# Calculates similarity between two sentences using cosine distance.\n",
    "\n",
    "def sentence_similarity(sent1, sent2 ):\n",
    "    sent1 = [w.lower() for w in sent1]\n",
    "    sent2 = [w.lower() for w in sent2]\n",
    "    all_words = list(set(sent1 + sent2))\n",
    "    vector1 = [0] * len(all_words)\n",
    "    vector2 = [0] * len(all_words)\n",
    "                                                    # build the vector for the first sentence\n",
    "    for w in sent1:\n",
    "          vector1[all_words.index(w)] += 1\n",
    "                                                    # build the vector for the second sentence\n",
    "    for w in sent2:\n",
    "          vector2[all_words.index(w)] += 1\n",
    "    return 1 - cosine_distance(vector1, vector2)"
   ]
  },
  {
   "cell_type": "markdown",
   "id": "e3e9ad90",
   "metadata": {},
   "source": [
    "### CALCULATING SIMILARITY MATRIX"
   ]
  },
  {
   "cell_type": "code",
   "execution_count": 137,
   "id": "c57fbfcc",
   "metadata": {},
   "outputs": [
    {
     "name": "stdout",
     "output_type": "stream",
     "text": [
      "Smilarity matrix \n",
      " [[0.         0.         0.25       0.         0.18898224 0.75\n",
      "  0.         0.15811388 0.1767767  0.         0.         0.57735027\n",
      "  0.         0.20412415 0.         0.14433757 0.        ]\n",
      " [0.         0.         0.         0.         0.         0.\n",
      "  0.         0.         0.         0.11952286 0.         0.\n",
      "  0.4        0.         0.         0.         0.        ]\n",
      " [0.25       0.         0.         0.         0.         0.25\n",
      "  0.         0.15811388 0.         0.         0.13867505 0.28867513\n",
      "  0.         0.20412415 0.         0.         0.        ]\n",
      " [0.         0.         0.         0.         0.         0.\n",
      "  0.         0.         0.         0.13363062 0.         0.\n",
      "  0.         0.         0.         0.         0.        ]\n",
      " [0.18898224 0.         0.         0.         0.         0.18898224\n",
      "  0.         0.11952286 0.6681531  0.10101525 0.10482848 0.21821789\n",
      "  0.         0.15430335 0.         0.65465367 0.        ]\n",
      " [0.75       0.         0.25       0.         0.18898224 0.\n",
      "  0.         0.15811388 0.1767767  0.         0.         0.57735027\n",
      "  0.         0.20412415 0.         0.14433757 0.        ]\n",
      " [0.         0.         0.         0.         0.         0.\n",
      "  0.         0.14142136 0.         0.         0.         0.\n",
      "  0.         0.         0.         0.         0.        ]\n",
      " [0.15811388 0.         0.15811388 0.         0.11952286 0.15811388\n",
      "  0.14142136 0.         0.         0.         0.0877058  0.18257419\n",
      "  0.         0.38729833 0.         0.         0.        ]\n",
      " [0.1767767  0.         0.         0.         0.6681531  0.1767767\n",
      "  0.         0.         0.         0.09449112 0.09805807 0.20412415\n",
      "  0.         0.         0.         0.61237244 0.        ]\n",
      " [0.         0.11952286 0.         0.13363062 0.10101525 0.\n",
      "  0.         0.         0.09449112 0.         0.14824986 0.\n",
      "  0.11952286 0.         0.13363062 0.15430335 0.        ]\n",
      " [0.         0.         0.13867505 0.         0.10482848 0.\n",
      "  0.         0.0877058  0.09805807 0.14824986 0.         0.\n",
      "  0.12403473 0.         0.         0.24019223 0.        ]\n",
      " [0.57735027 0.         0.28867513 0.         0.21821789 0.57735027\n",
      "  0.         0.18257419 0.20412415 0.         0.         0.\n",
      "  0.         0.23570226 0.         0.16666667 0.        ]\n",
      " [0.         0.4        0.         0.         0.         0.\n",
      "  0.         0.         0.         0.11952286 0.12403473 0.\n",
      "  0.         0.         0.         0.         0.        ]\n",
      " [0.20412415 0.         0.20412415 0.         0.15430335 0.20412415\n",
      "  0.         0.38729833 0.         0.         0.         0.23570226\n",
      "  0.         0.         0.         0.         0.        ]\n",
      " [0.         0.         0.         0.         0.         0.\n",
      "  0.         0.         0.         0.13363062 0.         0.\n",
      "  0.         0.         0.         0.         0.        ]\n",
      " [0.14433757 0.         0.         0.         0.65465367 0.14433757\n",
      "  0.         0.         0.61237244 0.15430335 0.24019223 0.16666667\n",
      "  0.         0.         0.         0.         0.        ]\n",
      " [0.         0.         0.         0.         0.         0.\n",
      "  0.         0.         0.         0.         0.         0.\n",
      "  0.         0.         0.         0.         0.        ]]\n"
     ]
    }
   ],
   "source": [
    "# Computes the similarity matrix for all pairs of sentences.\n",
    "\n",
    "similarity_matrix = np.zeros((len(sentences), len(sentences)))\n",
    " \n",
    "for idx1 in range(len(sentences)):\n",
    "        for idx2 in range(len(sentences)):\n",
    "             if idx1 == idx2:                       # ignore if both are same sentences\n",
    "                continue \n",
    "             similarity_matrix[idx1][idx2] = sentence_similarity(sentences[idx1], sentences[idx2])\n",
    "\n",
    "print(\"Smilarity matrix \\n\", similarity_matrix)"
   ]
  },
  {
   "cell_type": "markdown",
   "id": "1339c4cf",
   "metadata": {},
   "source": [
    "### BUILDING SIMILARITY GRAPH"
   ]
  },
  {
   "cell_type": "code",
   "execution_count": 138,
   "id": "bcdff73c",
   "metadata": {},
   "outputs": [
    {
     "name": "stdout",
     "output_type": "stream",
     "text": [
      "scores {0: 0.09163334044231103, 1: 0.04408562199586315, 2: 0.05432094163511732, 3: 0.01779516045726271, 4: 0.09575693097837697, 5: 0.09163334044231103, 6: 0.014924507861294583, 7: 0.0653124759476629, 8: 0.08186947693779716, 9: 0.07522194125679456, 10: 0.05101030185038315, 11: 0.09222556696979164, 12: 0.05146059071771966, 13: 0.05778838761945695, 14: 0.01779516045726271, 15: 0.08787832873399998, 16: 0.009287925696594429}\n"
     ]
    }
   ],
   "source": [
    "# Constructs a graph from the similarity matrix and calculates PageRank scores.\n",
    "\n",
    "sentence_similarity_graph = nx.from_numpy_array(similarity_matrix)\n",
    "scores = nx.pagerank(sentence_similarity_graph)\n",
    "print(\"scores\", scores)"
   ]
  },
  {
   "cell_type": "markdown",
   "id": "55cd3e6c",
   "metadata": {},
   "source": [
    "### RANKING SENTENCES"
   ]
  },
  {
   "cell_type": "markdown",
   "id": "49a291f8",
   "metadata": {},
   "source": [
    "This code snippet ranks sentences by their PageRank scores in descending order, aiding in prioritizing important content for text summarization or analysis tasks."
   ]
  },
  {
   "cell_type": "code",
   "execution_count": 139,
   "id": "723b51ba",
   "metadata": {},
   "outputs": [
    {
     "name": "stdout",
     "output_type": "stream",
     "text": [
      "Indexes of top ranked_sentence order are \n",
      "\n",
      " [(0.09575693097837697, ['Imagine', 'all', 'the', 'people', \"livin'\", 'for', 'today']), (0.09222556696979164, ['Imagine', 'no', 'possessions']), (0.09163334044231103, ['Imagine', \"there's\", 'no', 'heaven']), (0.09163334044231103, ['Imagine', \"there's\", 'no', 'countries']), (0.08787832873399998, ['Imagine', 'all', 'the', 'people', 'sharing', 'all', 'the', 'world']), (0.08186947693779716, ['Imagine', 'all', 'the', 'people', \"livin'\", 'life', 'in', 'peace']), (0.07522194125679456, ['You', 'may', 'say', \"I'm\", 'a', 'dreamer', 'but', \"I'm\", 'not', 'the', 'only', 'one']), (0.0653124759476629, ['Nothing', 'to', 'kill', 'or', 'die', 'for', 'and', 'no', 'religion,', 'too']), (0.05778838761945695, ['No', 'need', 'for', 'greed', 'or', 'hunger']), (0.05432094163511732, ['No', 'hell', 'below', 'us']), (0.05146059071771966, ['I', 'wonder', 'if', 'you', 'can']), (0.05101030185038315, ['I', 'hope', 'someday', \"you'll\", 'join', 'us', 'and', 'the', 'world', 'will', 'be', 'as', 'one']), (0.04408562199586315, [\"It's\", 'easy', 'if', 'you', 'try']), (0.01779516045726271, ['Above', 'us,', 'only', 'sky']), (0.01779516045726271, ['A', 'brotherhood', 'of', 'man']), (0.014924507861294583, ['It', \"isn't\", 'hard', 'to', 'do']), (0.009287925696594429, ['\\n'])]\n"
     ]
    }
   ],
   "source": [
    "# Sorts sentences based on their PageRank scores in descending order.\n",
    "\n",
    "ranked_sentence = sorted(((scores[i],s) for i,s in enumerate(sentences)), reverse=True)    \n",
    "print(\"Indexes of top ranked_sentence order are \\n\\n\", ranked_sentence)"
   ]
  },
  {
   "cell_type": "markdown",
   "id": "dac0c73d",
   "metadata": {},
   "source": [
    "### SUMMARIZING TEXT"
   ]
  },
  {
   "cell_type": "code",
   "execution_count": 140,
   "id": "6ea81f10",
   "metadata": {},
   "outputs": [
    {
     "name": "stdout",
     "output_type": "stream",
     "text": [
      "How many sentences do you want in the summary? 5\n"
     ]
    }
   ],
   "source": [
    "# Generates a summary by selecting the top-ranked sentences based on user input.\n",
    "\n",
    "n = int(input(\"How many sentences do you want in the summary? \"))    #n=2\n",
    "summarize_text = []\n",
    "for i in range(n):\n",
    "      summarize_text.append(\" \".join(ranked_sentence[i][1]))"
   ]
  },
  {
   "cell_type": "markdown",
   "id": "e452cef7",
   "metadata": {},
   "source": [
    "### PRINTING SUMMARY"
   ]
  },
  {
   "cell_type": "code",
   "execution_count": 141,
   "id": "c5cf99fa",
   "metadata": {},
   "outputs": [
    {
     "name": "stdout",
     "output_type": "stream",
     "text": [
      "Summarize Text: \n",
      " Imagine all the people livin' for today. Imagine no possessions. Imagine there's no heaven. Imagine there's no countries. Imagine all the people sharing all the world\n"
     ]
    }
   ],
   "source": [
    "# Displays the summarized text composed of selected sentences.\n",
    "\n",
    "print(\"Summarize Text: \\n\", \". \".join(summarize_text))"
   ]
  },
  {
   "cell_type": "markdown",
   "id": "90a97d4c",
   "metadata": {},
   "source": [
    "## TEXT SUMMARIZATION FOR FIFTH FILE "
   ]
  },
  {
   "cell_type": "markdown",
   "id": "a8d7764f",
   "metadata": {},
   "source": [
    "### READING AND PROCESSING TEXT"
   ]
  },
  {
   "cell_type": "markdown",
   "id": "dc01c7fb",
   "metadata": {},
   "source": [
    "The code snippet reads text from a file, divides it into sentences, and tokenizes them for subsequent analysis, preparing the data for text processing tasks."
   ]
  },
  {
   "cell_type": "code",
   "execution_count": 142,
   "id": "7aa3084b",
   "metadata": {},
   "outputs": [
    {
     "name": "stdout",
     "output_type": "stream",
     "text": [
      "In an attempt to build an AI-ready workforce, Microsoft announced Intelligent Cloud Hub which has been launched to empower the next generation of students with AI-ready skills\n",
      "Envisioned as a three-year collaborative program, Intelligent Cloud Hub will support around 100 institutions with AI infrastructure, course content and curriculum, developer support, development tools and give students access to cloud and AI services\n",
      "As part of the program, the Redmond giant which wants to expand its reach and is planning to build a strong developer ecosystem in India with the program will set up the core AI infrastructure and IoT Hub for the selected campuses\n",
      "The company will provide AI development tools and Azure AI services such as Microsoft Cognitive Services, Bot Services and Azure Machine Learning.According to Manish Prakash, Country General Manager-PS, Health and Education, Microsoft India, said, \"With AI being the defining technology of our time, it is transIn an attempt to build an AI-ready workforce, Microsoft announced Intelligent Cloud Hub which has been launched to empower the next generation of students with AI-ready skills\n",
      "Envisioned as a three-year collaborative program, Intelligent Cloud Hub will support around 100 institutions with AI infrastructure, course content and curriculum, developer support, development tools and give students access to cloud and AI services\n",
      "As part of the program, the Redmond giant which wants to expand its reach and is planning to build a strong developer ecosystem in India with the program will set up the core AI infrastructure and IoT Hub for the selected campuses\n",
      "The company will provide AI development tools and Azure AI services such as Microsoft Cognitive Services, Bot Services and Azure Machine Learning.According to Manish Prakash, Country General Manager-PS, Health and Education, Microsoft India, said, \"With AI being the defining technology of our time, it is transforming lives and industry and the jobs of tomorrow will require a different skillset\n",
      "This will require more collaborations and training and working with AI\n",
      "That’s why it has become more critical than ever for educational institutions to integrate new cloud and AI technologies\n",
      "The program is an attempt to ramp up the institutional set-up and build capabilities among the educators to educate the workforce of tomorrow.\" The program aims to build up the cognitive skills and in-depth understanding of developing intelligent cloud connected solutions for applications across industry\n",
      "Earlier in April this year, the company announced Microsoft Professional Program In AI as a learning track open to the public\n",
      "The program was developed to provide job ready skills to programmers who wanted to hone their skills in AI and data science with a series of online courses which featured hands-on labs and expert instructors as well\n",
      "This program also included developer-focused AI school that provided a bunch of assets to help build AI skills.\n"
     ]
    }
   ],
   "source": [
    "# Reads text from file, splits into sentences, and tokenizes them.\n",
    "\n",
    "file = open(\"Text5.txt\", \"r\")\n",
    "                                                      # This file contains one paragraph of multiple sentences\n",
    "filedata = file.readlines()\n",
    "article = filedata[0].split(\". \")                     # Just do the first paragraph\n",
    "\n",
    "sentences = []\n",
    "for sentence in article:\n",
    "    print(sentence)\n",
    "    sentences.append(sentence.replace(\"[^a-zA-Z]\", \" \").split(\" \"))"
   ]
  },
  {
   "cell_type": "markdown",
   "id": "a647eabd",
   "metadata": {},
   "source": [
    "### PRINTING SENTENCES"
   ]
  },
  {
   "cell_type": "code",
   "execution_count": 143,
   "id": "55b75bac",
   "metadata": {},
   "outputs": [
    {
     "name": "stdout",
     "output_type": "stream",
     "text": [
      "Sentences are  [['In', 'an', 'attempt', 'to', 'build', 'an', 'AI-ready', 'workforce,', 'Microsoft', 'announced', 'Intelligent', 'Cloud', 'Hub', 'which', 'has', 'been', 'launched', 'to', 'empower', 'the', 'next', 'generation', 'of', 'students', 'with', 'AI-ready', 'skills'], ['Envisioned', 'as', 'a', 'three-year', 'collaborative', 'program,', 'Intelligent', 'Cloud', 'Hub', 'will', 'support', 'around', '100', 'institutions', 'with', 'AI', 'infrastructure,', 'course', 'content', 'and', 'curriculum,', 'developer', 'support,', 'development', 'tools', 'and', 'give', 'students', 'access', 'to', 'cloud', 'and', 'AI', 'services'], ['As', 'part', 'of', 'the', 'program,', 'the', 'Redmond', 'giant', 'which', 'wants', 'to', 'expand', 'its', 'reach', 'and', 'is', 'planning', 'to', 'build', 'a', 'strong', 'developer', 'ecosystem', 'in', 'India', 'with', 'the', 'program', 'will', 'set', 'up', 'the', 'core', 'AI', 'infrastructure', 'and', 'IoT', 'Hub', 'for', 'the', 'selected', 'campuses'], ['The', 'company', 'will', 'provide', 'AI', 'development', 'tools', 'and', 'Azure', 'AI', 'services', 'such', 'as', 'Microsoft', 'Cognitive', 'Services,', 'Bot', 'Services', 'and', 'Azure', 'Machine', 'Learning.According', 'to', 'Manish', 'Prakash,', 'Country', 'General', 'Manager-PS,', 'Health', 'and', 'Education,', 'Microsoft', 'India,', 'said,', '\"With', 'AI', 'being', 'the', 'defining', 'technology', 'of', 'our', 'time,', 'it', 'is', 'transIn', 'an', 'attempt', 'to', 'build', 'an', 'AI-ready', 'workforce,', 'Microsoft', 'announced', 'Intelligent', 'Cloud', 'Hub', 'which', 'has', 'been', 'launched', 'to', 'empower', 'the', 'next', 'generation', 'of', 'students', 'with', 'AI-ready', 'skills'], ['Envisioned', 'as', 'a', 'three-year', 'collaborative', 'program,', 'Intelligent', 'Cloud', 'Hub', 'will', 'support', 'around', '100', 'institutions', 'with', 'AI', 'infrastructure,', 'course', 'content', 'and', 'curriculum,', 'developer', 'support,', 'development', 'tools', 'and', 'give', 'students', 'access', 'to', 'cloud', 'and', 'AI', 'services'], ['As', 'part', 'of', 'the', 'program,', 'the', 'Redmond', 'giant', 'which', 'wants', 'to', 'expand', 'its', 'reach', 'and', 'is', 'planning', 'to', 'build', 'a', 'strong', 'developer', 'ecosystem', 'in', 'India', 'with', 'the', 'program', 'will', 'set', 'up', 'the', 'core', 'AI', 'infrastructure', 'and', 'IoT', 'Hub', 'for', 'the', 'selected', 'campuses'], ['The', 'company', 'will', 'provide', 'AI', 'development', 'tools', 'and', 'Azure', 'AI', 'services', 'such', 'as', 'Microsoft', 'Cognitive', 'Services,', 'Bot', 'Services', 'and', 'Azure', 'Machine', 'Learning.According', 'to', 'Manish', 'Prakash,', 'Country', 'General', 'Manager-PS,', 'Health', 'and', 'Education,', 'Microsoft', 'India,', 'said,', '\"With', 'AI', 'being', 'the', 'defining', 'technology', 'of', 'our', 'time,', 'it', 'is', 'transforming', 'lives', 'and', 'industry', 'and', 'the', 'jobs', 'of', 'tomorrow', 'will', 'require', 'a', 'different', 'skillset'], ['This', 'will', 'require', 'more', 'collaborations', 'and', 'training', 'and', 'working', 'with', 'AI'], ['That’s', 'why', 'it', 'has', 'become', 'more', 'critical', 'than', 'ever', 'for', 'educational', 'institutions', 'to', 'integrate', 'new', 'cloud', 'and', 'AI', 'technologies'], ['The', 'program', 'is', 'an', 'attempt', 'to', 'ramp', 'up', 'the', 'institutional', 'set-up', 'and', 'build', 'capabilities', 'among', 'the', 'educators', 'to', 'educate', 'the', 'workforce', 'of', 'tomorrow.\"', 'The', 'program', 'aims', 'to', 'build', 'up', 'the', 'cognitive', 'skills', 'and', 'in-depth', 'understanding', 'of', 'developing', 'intelligent', 'cloud', 'connected', 'solutions', 'for', 'applications', 'across', 'industry'], ['Earlier', 'in', 'April', 'this', 'year,', 'the', 'company', 'announced', 'Microsoft', 'Professional', 'Program', 'In', 'AI', 'as', 'a', 'learning', 'track', 'open', 'to', 'the', 'public'], ['The', 'program', 'was', 'developed', 'to', 'provide', 'job', 'ready', 'skills', 'to', 'programmers', 'who', 'wanted', 'to', 'hone', 'their', 'skills', 'in', 'AI', 'and', 'data', 'science', 'with', 'a', 'series', 'of', 'online', 'courses', 'which', 'featured', 'hands-on', 'labs', 'and', 'expert', 'instructors', 'as', 'well'], ['This', 'program', 'also', 'included', 'developer-focused', 'AI', 'school', 'that', 'provided', 'a', 'bunch', 'of', 'assets', 'to', 'help', 'build', 'AI', 'skills.']]\n"
     ]
    }
   ],
   "source": [
    "# Displays the list of tokenized sentences for further processing.\n",
    "\n",
    "print(\"Sentences are \", sentences)"
   ]
  },
  {
   "cell_type": "markdown",
   "id": "f11fe045",
   "metadata": {},
   "source": [
    "### SENTENCE SIMILARITY"
   ]
  },
  {
   "cell_type": "markdown",
   "id": "fbb7a80e",
   "metadata": {},
   "source": [
    "This function computes the similarity between two sentences using cosine distance, a common metric in natural language processing, by constructing vectors based on word occurrences and comparing their orientations."
   ]
  },
  {
   "cell_type": "code",
   "execution_count": 144,
   "id": "ccdee43a",
   "metadata": {},
   "outputs": [],
   "source": [
    "# Calculates similarity between two sentences using cosine distance.\n",
    "\n",
    "def sentence_similarity(sent1, sent2 ):\n",
    "    sent1 = [w.lower() for w in sent1]\n",
    "    sent2 = [w.lower() for w in sent2]\n",
    "    all_words = list(set(sent1 + sent2))\n",
    "    vector1 = [0] * len(all_words)\n",
    "    vector2 = [0] * len(all_words)\n",
    "                                                    # build the vector for the first sentence\n",
    "    for w in sent1:\n",
    "          vector1[all_words.index(w)] += 1\n",
    "                                                    # build the vector for the second sentence\n",
    "    for w in sent2:\n",
    "          vector2[all_words.index(w)] += 1\n",
    "    return 1 - cosine_distance(vector1, vector2)"
   ]
  },
  {
   "cell_type": "markdown",
   "id": "c785f771",
   "metadata": {},
   "source": [
    "### CALCULATING SIMILARITY MATRIX"
   ]
  },
  {
   "cell_type": "code",
   "execution_count": 145,
   "id": "62ec7a68",
   "metadata": {},
   "outputs": [
    {
     "name": "stdout",
     "output_type": "stream",
     "text": [
      "Smilarity matrix \n",
      " [[0.         0.20994555 0.32141217 0.6415029  0.20994555 0.32141217\n",
      "  0.15589237 0.04828045 0.15974461 0.40146253 0.27852425 0.33009387\n",
      "  0.15569979]\n",
      " [0.20994555 0.         0.31546459 0.42735216 1.         0.31546459\n",
      "  0.4500225  0.41812101 0.31127151 0.18964186 0.15075567 0.30785965\n",
      "  0.20225996]\n",
      " [0.32141217 0.31546459 0.         0.45361105 0.31546459 1.\n",
      "  0.45317826 0.23897606 0.16943475 0.64517472 0.44312937 0.412959\n",
      "  0.22019275]\n",
      " [0.6415029  0.42735216 0.45361105 0.         0.42735216 0.45361105\n",
      "  0.78978629 0.28827833 0.26013299 0.46555195 0.34016803 0.39970544\n",
      "  0.25354628]\n",
      " [0.20994555 1.         0.31546459 0.42735216 0.         0.31546459\n",
      "  0.4500225  0.41812101 0.31127151 0.18964186 0.15075567 0.30785965\n",
      "  0.20225996]\n",
      " [0.32141217 0.31546459 1.         0.45361105 0.31546459 0.\n",
      "  0.45317826 0.23897606 0.16943475 0.64517472 0.44312937 0.412959\n",
      "  0.22019275]\n",
      " [0.15589237 0.4500225  0.45317826 0.78978629 0.4500225  0.45317826\n",
      "  0.         0.44155786 0.22827719 0.39637131 0.29851116 0.34833862\n",
      "  0.22249708]\n",
      " [0.04828045 0.41812101 0.23897606 0.28827833 0.41812101 0.23897606\n",
      "  0.44155786 0.         0.25451391 0.11629676 0.11094004 0.24273402\n",
      "  0.1860521 ]\n",
      " [0.15974461 0.31127151 0.16943475 0.26013299 0.31127151 0.16943475\n",
      "  0.22827719 0.25451391 0.         0.16834512 0.09176629 0.20078234\n",
      "  0.15389675]\n",
      " [0.40146253 0.18964186 0.64517472 0.46555195 0.18964186 0.64517472\n",
      "  0.39637131 0.11629676 0.16834512 0.         0.35641684 0.38227015\n",
      "  0.21096325]\n",
      " [0.27852425 0.15075567 0.44312937 0.34016803 0.15075567 0.44312937\n",
      "  0.29851116 0.11094004 0.09176629 0.35641684 0.         0.32090298\n",
      "  0.26832816]\n",
      " [0.33009387 0.30785965 0.412959   0.39970544 0.30785965 0.412959\n",
      "  0.34833862 0.24273402 0.20078234 0.38227015 0.32090298 0.\n",
      "  0.26093123]\n",
      " [0.15569979 0.20225996 0.22019275 0.25354628 0.20225996 0.22019275\n",
      "  0.22249708 0.1860521  0.15389675 0.21096325 0.26832816 0.26093123\n",
      "  0.        ]]\n"
     ]
    }
   ],
   "source": [
    "# Computes the similarity matrix for all pairs of sentences.\n",
    "\n",
    "similarity_matrix = np.zeros((len(sentences), len(sentences)))\n",
    " \n",
    "for idx1 in range(len(sentences)):\n",
    "        for idx2 in range(len(sentences)):\n",
    "             if idx1 == idx2:                       # ignore if both are same sentences\n",
    "                continue \n",
    "             similarity_matrix[idx1][idx2] = sentence_similarity(sentences[idx1], sentences[idx2])\n",
    "\n",
    "print(\"Smilarity matrix \\n\", similarity_matrix)"
   ]
  },
  {
   "cell_type": "markdown",
   "id": "ae872d6a",
   "metadata": {},
   "source": [
    "### BUILDING SIMILARITY GRAPH"
   ]
  },
  {
   "cell_type": "code",
   "execution_count": 146,
   "id": "0758940f",
   "metadata": {},
   "outputs": [
    {
     "name": "stdout",
     "output_type": "stream",
     "text": [
      "scores {0: 0.06505377280671527, 1: 0.08331029356108051, 2: 0.0944374740565271, 3: 0.0984332545355071, 4: 0.08331029356108051, 5: 0.0944374740565271, 6: 0.08956736183704041, 7: 0.06144739693431779, 8: 0.05275205184695904, 9: 0.08067100597330357, 10: 0.0654765113515673, 11: 0.07702790911312701, 12: 0.054075200366247446}\n"
     ]
    }
   ],
   "source": [
    "# Constructs a graph from the similarity matrix and calculates PageRank scores.\n",
    "\n",
    "sentence_similarity_graph = nx.from_numpy_array(similarity_matrix)\n",
    "scores = nx.pagerank(sentence_similarity_graph)\n",
    "print(\"scores\", scores)"
   ]
  },
  {
   "cell_type": "markdown",
   "id": "8268131f",
   "metadata": {},
   "source": [
    "### RANKING SENTENCES"
   ]
  },
  {
   "cell_type": "markdown",
   "id": "b0ef9c7e",
   "metadata": {},
   "source": [
    "This code snippet ranks sentences by their PageRank scores in descending order, aiding in prioritizing important content for text summarization or analysis tasks."
   ]
  },
  {
   "cell_type": "code",
   "execution_count": 147,
   "id": "a132f759",
   "metadata": {},
   "outputs": [
    {
     "name": "stdout",
     "output_type": "stream",
     "text": [
      "Indexes of top ranked_sentence order are \n",
      "\n",
      " [(0.0984332545355071, ['The', 'company', 'will', 'provide', 'AI', 'development', 'tools', 'and', 'Azure', 'AI', 'services', 'such', 'as', 'Microsoft', 'Cognitive', 'Services,', 'Bot', 'Services', 'and', 'Azure', 'Machine', 'Learning.According', 'to', 'Manish', 'Prakash,', 'Country', 'General', 'Manager-PS,', 'Health', 'and', 'Education,', 'Microsoft', 'India,', 'said,', '\"With', 'AI', 'being', 'the', 'defining', 'technology', 'of', 'our', 'time,', 'it', 'is', 'transIn', 'an', 'attempt', 'to', 'build', 'an', 'AI-ready', 'workforce,', 'Microsoft', 'announced', 'Intelligent', 'Cloud', 'Hub', 'which', 'has', 'been', 'launched', 'to', 'empower', 'the', 'next', 'generation', 'of', 'students', 'with', 'AI-ready', 'skills']), (0.0944374740565271, ['As', 'part', 'of', 'the', 'program,', 'the', 'Redmond', 'giant', 'which', 'wants', 'to', 'expand', 'its', 'reach', 'and', 'is', 'planning', 'to', 'build', 'a', 'strong', 'developer', 'ecosystem', 'in', 'India', 'with', 'the', 'program', 'will', 'set', 'up', 'the', 'core', 'AI', 'infrastructure', 'and', 'IoT', 'Hub', 'for', 'the', 'selected', 'campuses']), (0.0944374740565271, ['As', 'part', 'of', 'the', 'program,', 'the', 'Redmond', 'giant', 'which', 'wants', 'to', 'expand', 'its', 'reach', 'and', 'is', 'planning', 'to', 'build', 'a', 'strong', 'developer', 'ecosystem', 'in', 'India', 'with', 'the', 'program', 'will', 'set', 'up', 'the', 'core', 'AI', 'infrastructure', 'and', 'IoT', 'Hub', 'for', 'the', 'selected', 'campuses']), (0.08956736183704041, ['The', 'company', 'will', 'provide', 'AI', 'development', 'tools', 'and', 'Azure', 'AI', 'services', 'such', 'as', 'Microsoft', 'Cognitive', 'Services,', 'Bot', 'Services', 'and', 'Azure', 'Machine', 'Learning.According', 'to', 'Manish', 'Prakash,', 'Country', 'General', 'Manager-PS,', 'Health', 'and', 'Education,', 'Microsoft', 'India,', 'said,', '\"With', 'AI', 'being', 'the', 'defining', 'technology', 'of', 'our', 'time,', 'it', 'is', 'transforming', 'lives', 'and', 'industry', 'and', 'the', 'jobs', 'of', 'tomorrow', 'will', 'require', 'a', 'different', 'skillset']), (0.08331029356108051, ['Envisioned', 'as', 'a', 'three-year', 'collaborative', 'program,', 'Intelligent', 'Cloud', 'Hub', 'will', 'support', 'around', '100', 'institutions', 'with', 'AI', 'infrastructure,', 'course', 'content', 'and', 'curriculum,', 'developer', 'support,', 'development', 'tools', 'and', 'give', 'students', 'access', 'to', 'cloud', 'and', 'AI', 'services']), (0.08331029356108051, ['Envisioned', 'as', 'a', 'three-year', 'collaborative', 'program,', 'Intelligent', 'Cloud', 'Hub', 'will', 'support', 'around', '100', 'institutions', 'with', 'AI', 'infrastructure,', 'course', 'content', 'and', 'curriculum,', 'developer', 'support,', 'development', 'tools', 'and', 'give', 'students', 'access', 'to', 'cloud', 'and', 'AI', 'services']), (0.08067100597330357, ['The', 'program', 'is', 'an', 'attempt', 'to', 'ramp', 'up', 'the', 'institutional', 'set-up', 'and', 'build', 'capabilities', 'among', 'the', 'educators', 'to', 'educate', 'the', 'workforce', 'of', 'tomorrow.\"', 'The', 'program', 'aims', 'to', 'build', 'up', 'the', 'cognitive', 'skills', 'and', 'in-depth', 'understanding', 'of', 'developing', 'intelligent', 'cloud', 'connected', 'solutions', 'for', 'applications', 'across', 'industry']), (0.07702790911312701, ['The', 'program', 'was', 'developed', 'to', 'provide', 'job', 'ready', 'skills', 'to', 'programmers', 'who', 'wanted', 'to', 'hone', 'their', 'skills', 'in', 'AI', 'and', 'data', 'science', 'with', 'a', 'series', 'of', 'online', 'courses', 'which', 'featured', 'hands-on', 'labs', 'and', 'expert', 'instructors', 'as', 'well']), (0.0654765113515673, ['Earlier', 'in', 'April', 'this', 'year,', 'the', 'company', 'announced', 'Microsoft', 'Professional', 'Program', 'In', 'AI', 'as', 'a', 'learning', 'track', 'open', 'to', 'the', 'public']), (0.06505377280671527, ['In', 'an', 'attempt', 'to', 'build', 'an', 'AI-ready', 'workforce,', 'Microsoft', 'announced', 'Intelligent', 'Cloud', 'Hub', 'which', 'has', 'been', 'launched', 'to', 'empower', 'the', 'next', 'generation', 'of', 'students', 'with', 'AI-ready', 'skills']), (0.06144739693431779, ['This', 'will', 'require', 'more', 'collaborations', 'and', 'training', 'and', 'working', 'with', 'AI']), (0.054075200366247446, ['This', 'program', 'also', 'included', 'developer-focused', 'AI', 'school', 'that', 'provided', 'a', 'bunch', 'of', 'assets', 'to', 'help', 'build', 'AI', 'skills.']), (0.05275205184695904, ['That’s', 'why', 'it', 'has', 'become', 'more', 'critical', 'than', 'ever', 'for', 'educational', 'institutions', 'to', 'integrate', 'new', 'cloud', 'and', 'AI', 'technologies'])]\n"
     ]
    }
   ],
   "source": [
    "# Sorts sentences based on their PageRank scores in descending order.\n",
    "\n",
    "ranked_sentence = sorted(((scores[i],s) for i,s in enumerate(sentences)), reverse=True)    \n",
    "print(\"Indexes of top ranked_sentence order are \\n\\n\", ranked_sentence)"
   ]
  },
  {
   "cell_type": "markdown",
   "id": "486a9618",
   "metadata": {},
   "source": [
    "### SUMMARIZING TEXT"
   ]
  },
  {
   "cell_type": "code",
   "execution_count": 148,
   "id": "5d8200aa",
   "metadata": {},
   "outputs": [
    {
     "name": "stdout",
     "output_type": "stream",
     "text": [
      "How many sentences do you want in the summary? 5\n"
     ]
    }
   ],
   "source": [
    "# Generates a summary by selecting the top-ranked sentences based on user input.\n",
    "\n",
    "n = int(input(\"How many sentences do you want in the summary? \"))    #n=2\n",
    "summarize_text = []\n",
    "for i in range(n):\n",
    "      summarize_text.append(\" \".join(ranked_sentence[i][1]))"
   ]
  },
  {
   "cell_type": "markdown",
   "id": "9c309a32",
   "metadata": {},
   "source": [
    "### PRINTING SUMMARY"
   ]
  },
  {
   "cell_type": "code",
   "execution_count": 149,
   "id": "15868e9c",
   "metadata": {},
   "outputs": [
    {
     "name": "stdout",
     "output_type": "stream",
     "text": [
      "Summarize Text: \n",
      " The company will provide AI development tools and Azure AI services such as Microsoft Cognitive Services, Bot Services and Azure Machine Learning.According to Manish Prakash, Country General Manager-PS, Health and Education, Microsoft India, said, \"With AI being the defining technology of our time, it is transIn an attempt to build an AI-ready workforce, Microsoft announced Intelligent Cloud Hub which has been launched to empower the next generation of students with AI-ready skills. As part of the program, the Redmond giant which wants to expand its reach and is planning to build a strong developer ecosystem in India with the program will set up the core AI infrastructure and IoT Hub for the selected campuses. As part of the program, the Redmond giant which wants to expand its reach and is planning to build a strong developer ecosystem in India with the program will set up the core AI infrastructure and IoT Hub for the selected campuses. The company will provide AI development tools and Azure AI services such as Microsoft Cognitive Services, Bot Services and Azure Machine Learning.According to Manish Prakash, Country General Manager-PS, Health and Education, Microsoft India, said, \"With AI being the defining technology of our time, it is transforming lives and industry and the jobs of tomorrow will require a different skillset. Envisioned as a three-year collaborative program, Intelligent Cloud Hub will support around 100 institutions with AI infrastructure, course content and curriculum, developer support, development tools and give students access to cloud and AI services\n"
     ]
    }
   ],
   "source": [
    "# Displays the summarized text composed of selected sentences.\n",
    "\n",
    "print(\"Summarize Text: \\n\", \". \".join(summarize_text))"
   ]
  }
 ],
 "metadata": {
  "kernelspec": {
   "display_name": "Python 3 (ipykernel)",
   "language": "python",
   "name": "python3"
  },
  "language_info": {
   "codemirror_mode": {
    "name": "ipython",
    "version": 3
   },
   "file_extension": ".py",
   "mimetype": "text/x-python",
   "name": "python",
   "nbconvert_exporter": "python",
   "pygments_lexer": "ipython3",
   "version": "3.11.5"
  }
 },
 "nbformat": 4,
 "nbformat_minor": 5
}
