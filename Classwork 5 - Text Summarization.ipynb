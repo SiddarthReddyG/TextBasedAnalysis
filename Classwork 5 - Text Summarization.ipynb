{
 "cells": [
  {
   "cell_type": "markdown",
   "id": "bf31899c",
   "metadata": {},
   "source": [
    "## CLASSWORK 5\n",
    "## TEXT SUMMARIZATION"
   ]
  },
  {
   "cell_type": "markdown",
   "id": "bd76c64a",
   "metadata": {},
   "source": [
    "Text summarization condenses large bodies of text into shorter versions, aiding comprehension and information retrieval by extracting key points or sentences. It employs algorithms to identify important content, facilitating quicker understanding and decision-making."
   ]
  },
  {
   "cell_type": "markdown",
   "id": "fdf8ff2d",
   "metadata": {},
   "source": [
    "### IMPORTING LIBRARIES"
   ]
  },
  {
   "cell_type": "code",
   "execution_count": 7,
   "id": "3395d5fd",
   "metadata": {},
   "outputs": [],
   "source": [
    "# Essential libraries for text processing and graph-based algorithms.\n",
    "\n",
    "from nltk.corpus import stopwords                     # You can remove stop words for speed\n",
    "from nltk.cluster.util import cosine_distance\n",
    "import numpy as np\n",
    "import networkx as nx"
   ]
  },
  {
   "cell_type": "markdown",
   "id": "548a89a4",
   "metadata": {},
   "source": [
    "### READING AND PROCESSING TEXT"
   ]
  },
  {
   "cell_type": "markdown",
   "id": "e37e8a48",
   "metadata": {},
   "source": [
    "The code snippet reads text from a file, divides it into sentences, and tokenizes them for subsequent analysis, preparing the data for text processing tasks."
   ]
  },
  {
   "cell_type": "code",
   "execution_count": 3,
   "id": "3cfc931d",
   "metadata": {},
   "outputs": [
    {
     "name": "stdout",
     "output_type": "stream",
     "text": [
      "It was the best of times\n",
      "It was the worst of times\n",
      "It was the age of wisdom\n",
      "It was the age of foolishness\n",
      "What is the importance of age\n",
      "This is the best example.\n"
     ]
    }
   ],
   "source": [
    "# Reads text from file, splits into sentences, and tokenizes them.\n",
    "\n",
    "file = open(\"Text1.txt\", \"r\")\n",
    "                                                      # This file contains one paragraph of multiple sentences\n",
    "filedata = file.readlines()\n",
    "article = filedata[0].split(\". \")                     # Just do the first paragraph\n",
    "\n",
    "sentences = []\n",
    "for sentence in article:\n",
    "    print(sentence)\n",
    "    sentences.append(sentence.replace(\"[^a-zA-Z]\", \" \").split(\" \"))"
   ]
  },
  {
   "cell_type": "markdown",
   "id": "e629210d",
   "metadata": {},
   "source": [
    "### PRINTING SENTENCES"
   ]
  },
  {
   "cell_type": "code",
   "execution_count": 4,
   "id": "5c35339f",
   "metadata": {},
   "outputs": [
    {
     "name": "stdout",
     "output_type": "stream",
     "text": [
      "Sentences are  [['It', 'was', 'the', 'best', 'of', 'times'], ['It', 'was', 'the', 'worst', 'of', 'times'], ['It', 'was', 'the', 'age', 'of', 'wisdom'], ['It', 'was', 'the', 'age', 'of', 'foolishness'], ['What', 'is', 'the', 'importance', 'of', 'age'], ['This', 'is', 'the', 'best', 'example.']]\n"
     ]
    }
   ],
   "source": [
    "# Displays the list of tokenized sentences for further processing.\n",
    "\n",
    "print(\"Sentences are \", sentences)"
   ]
  },
  {
   "cell_type": "markdown",
   "id": "1359a1b9",
   "metadata": {},
   "source": [
    "### SENTENCE SIMILARITY"
   ]
  },
  {
   "cell_type": "markdown",
   "id": "63e0186f",
   "metadata": {},
   "source": [
    "This function computes the similarity between two sentences using cosine distance, a common metric in natural language processing, by constructing vectors based on word occurrences and comparing their orientations."
   ]
  },
  {
   "cell_type": "code",
   "execution_count": 5,
   "id": "51d9fff1",
   "metadata": {},
   "outputs": [],
   "source": [
    "# Calculates similarity between two sentences using cosine distance.\n",
    "\n",
    "def sentence_similarity(sent1, sent2 ):\n",
    "    sent1 = [w.lower() for w in sent1]\n",
    "    sent2 = [w.lower() for w in sent2]\n",
    "    all_words = list(set(sent1 + sent2))\n",
    "    vector1 = [0] * len(all_words)\n",
    "    vector2 = [0] * len(all_words)\n",
    "                                                    # build the vector for the first sentence\n",
    "    for w in sent1:\n",
    "          vector1[all_words.index(w)] += 1\n",
    "                                                    # build the vector for the second sentence\n",
    "    for w in sent2:\n",
    "          vector2[all_words.index(w)] += 1\n",
    "    return 1 - cosine_distance(vector1, vector2)"
   ]
  },
  {
   "cell_type": "markdown",
   "id": "3ed63508",
   "metadata": {},
   "source": [
    "### CALCULATING SIMILARITY MATRIX"
   ]
  },
  {
   "cell_type": "code",
   "execution_count": 6,
   "id": "34de4f12",
   "metadata": {},
   "outputs": [
    {
     "name": "stdout",
     "output_type": "stream",
     "text": [
      "Smilarity matrix \n",
      " [[0.         0.83333333 0.66666667 0.66666667 0.33333333 0.36514837]\n",
      " [0.83333333 0.         0.66666667 0.66666667 0.33333333 0.18257419]\n",
      " [0.66666667 0.66666667 0.         0.83333333 0.5        0.18257419]\n",
      " [0.66666667 0.66666667 0.83333333 0.         0.5        0.18257419]\n",
      " [0.33333333 0.33333333 0.5        0.5        0.         0.36514837]\n",
      " [0.36514837 0.18257419 0.18257419 0.18257419 0.36514837 0.        ]]\n"
     ]
    }
   ],
   "source": [
    "# Computes the similarity matrix for all pairs of sentences.\n",
    "\n",
    "similarity_matrix = np.zeros((len(sentences), len(sentences)))\n",
    " \n",
    "for idx1 in range(len(sentences)):\n",
    "        for idx2 in range(len(sentences)):\n",
    "             if idx1 == idx2:                       # ignore if both are same sentences\n",
    "                continue \n",
    "             similarity_matrix[idx1][idx2] = sentence_similarity(sentences[idx1], sentences[idx2])\n",
    "\n",
    "print(\"Smilarity matrix \\n\", similarity_matrix)"
   ]
  },
  {
   "cell_type": "markdown",
   "id": "41e1ac84",
   "metadata": {},
   "source": [
    "### BUILDING SIMILARITY GRAPH"
   ]
  },
  {
   "cell_type": "code",
   "execution_count": 7,
   "id": "24438473",
   "metadata": {
    "scrolled": true
   },
   "outputs": [
    {
     "name": "stdout",
     "output_type": "stream",
     "text": [
      "scores {0: 0.19306449754902083, 1: 0.18095893645850156, 2: 0.1911855225552033, 3: 0.1911855225552033, 4: 0.14434636291527997, 5: 0.09925915796679063}\n"
     ]
    }
   ],
   "source": [
    "# Constructs a graph from the similarity matrix and calculates PageRank scores.\n",
    "\n",
    "sentence_similarity_graph = nx.from_numpy_array(similarity_matrix)\n",
    "scores = nx.pagerank(sentence_similarity_graph)\n",
    "print(\"scores\", scores)"
   ]
  },
  {
   "cell_type": "markdown",
   "id": "54d91567",
   "metadata": {},
   "source": [
    "### RANKING SENTENCES"
   ]
  },
  {
   "cell_type": "markdown",
   "id": "7a724794",
   "metadata": {},
   "source": [
    "This code snippet ranks sentences by their PageRank scores in descending order, aiding in prioritizing important content for text summarization or analysis tasks."
   ]
  },
  {
   "cell_type": "code",
   "execution_count": 8,
   "id": "9c87ccb9",
   "metadata": {},
   "outputs": [
    {
     "name": "stdout",
     "output_type": "stream",
     "text": [
      "Indexes of top ranked_sentence order are \n",
      "\n",
      " [(0.19306449754902083, ['It', 'was', 'the', 'best', 'of', 'times']), (0.1911855225552033, ['It', 'was', 'the', 'age', 'of', 'wisdom']), (0.1911855225552033, ['It', 'was', 'the', 'age', 'of', 'foolishness']), (0.18095893645850156, ['It', 'was', 'the', 'worst', 'of', 'times']), (0.14434636291527997, ['What', 'is', 'the', 'importance', 'of', 'age']), (0.09925915796679063, ['This', 'is', 'the', 'best', 'example.'])]\n"
     ]
    }
   ],
   "source": [
    "# Sorts sentences based on their PageRank scores in descending order.\n",
    "\n",
    "ranked_sentence = sorted(((scores[i],s) for i,s in enumerate(sentences)), reverse=True)    \n",
    "print(\"Indexes of top ranked_sentence order are \\n\\n\", ranked_sentence)"
   ]
  },
  {
   "cell_type": "markdown",
   "id": "604ed12e",
   "metadata": {},
   "source": [
    "### SUMMARIZING TEXT"
   ]
  },
  {
   "cell_type": "code",
   "execution_count": 9,
   "id": "8a7570e4",
   "metadata": {},
   "outputs": [
    {
     "name": "stdout",
     "output_type": "stream",
     "text": [
      "How many sentences do you want in the summary? 5\n"
     ]
    }
   ],
   "source": [
    "# Generates a summary by selecting the top-ranked sentences based on user input.\n",
    "\n",
    "n = int(input(\"How many sentences do you want in the summary? \"))    #n=2\n",
    "summarize_text = []\n",
    "for i in range(n):\n",
    "      summarize_text.append(\" \".join(ranked_sentence[i][1]))"
   ]
  },
  {
   "cell_type": "markdown",
   "id": "d84416e0",
   "metadata": {},
   "source": [
    "### PRINTING SUMMARY"
   ]
  },
  {
   "cell_type": "code",
   "execution_count": 11,
   "id": "169c5bf4",
   "metadata": {
    "scrolled": true
   },
   "outputs": [
    {
     "name": "stdout",
     "output_type": "stream",
     "text": [
      "Summarize Text: \n",
      " It was the best of times. It was the age of wisdom. It was the age of foolishness. It was the worst of times. What is the importance of age\n"
     ]
    }
   ],
   "source": [
    "# Displays the summarized text composed of selected sentences.\n",
    "\n",
    "print(\"Summarize Text: \\n\", \". \".join(summarize_text))"
   ]
  },
  {
   "cell_type": "markdown",
   "id": "3c63d1cc",
   "metadata": {},
   "source": [
    "## TEXT SUMMARIZATION ON SECOND FILE "
   ]
  },
  {
   "cell_type": "markdown",
   "id": "452db431",
   "metadata": {},
   "source": [
    "### READING AND PROCESSING TEXT"
   ]
  },
  {
   "cell_type": "markdown",
   "id": "a66751c2",
   "metadata": {},
   "source": [
    "The code snippet reads text from a file, divides it into sentences, and tokenizes them for subsequent analysis, preparing the data for text processing tasks."
   ]
  },
  {
   "cell_type": "code",
   "execution_count": 1,
   "id": "f8de8a21",
   "metadata": {},
   "outputs": [
    {
     "name": "stdout",
     "output_type": "stream",
     "text": [
      "I AM SAM\n",
      "I AM SAM\n",
      "SAM I AM\n",
      "THAT SAM-I-AM! THAT SAM-I-AM!\n",
      "I DO NOT LIKE THAT SAM-I-AM!\n",
      "DO WOULD YOU LIKE GREEN EGGS AND HAM?\n",
      "I DO NOT LIKE THEM, SAM-I-AM\n",
      "I DO NOT LIKE GREEN EGGS AND HAM\n",
      "WOULD YOU LIKE THEM HERE OR THERE?\n",
      "I WOULD NOT LIKE THEM HERE OR THERE\n",
      "I WOULD NOT LIKE THEM ANYWHERE\n",
      "I DO NOT LIKE GREEN EGGS AND HAM\n",
      "I DO NOT LIKE THEM, SAM-I-AM\n",
      "WOULD YOU LIKE THEM IN A HOUSE?\n",
      "WOULD YOU LIKE THEN WITH A MOUSE?\n",
      "I DO NOT LIKE THEM IN A HOUSE\n",
      "I DO NOT LIKE THEM WITH A MOUSE\n",
      "I DO NOT LIKE THEM HERE OR THERE\n",
      "I DO NOT LIKE THEM ANYWHERE\n",
      "I DO NOT LIKE GREEN EGGS AND HAM\n",
      "I DO NOT LIKE THEM, SAM-I-AM.\n",
      "\n"
     ]
    }
   ],
   "source": [
    "# Reads text from file, splits into sentences, and tokenizes them.\n",
    "\n",
    "file2 = open(\"Text2.txt\", \"r\")\n",
    "                                                      # This file contains one paragraph of multiple sentences\n",
    "filedata2 = file2.readlines()\n",
    "article2 = filedata2[0].split(\". \")                     # Just do the first paragraph\n",
    "\n",
    "sentences2 = []\n",
    "for sentence in article2:\n",
    "    print(sentence)\n",
    "    sentences2.append(sentence.replace(\"[^a-zA-Z]\", \" \").split(\" \"))"
   ]
  },
  {
   "cell_type": "markdown",
   "id": "7a16c0de",
   "metadata": {},
   "source": [
    "### PRINTING SENTENCES"
   ]
  },
  {
   "cell_type": "code",
   "execution_count": 2,
   "id": "5a73a038",
   "metadata": {},
   "outputs": [
    {
     "name": "stdout",
     "output_type": "stream",
     "text": [
      "Sentences are  [['I', 'AM', 'SAM'], ['I', 'AM', 'SAM'], ['SAM', 'I', 'AM'], ['THAT', 'SAM-I-AM!', 'THAT', 'SAM-I-AM!'], ['I', 'DO', 'NOT', 'LIKE', 'THAT', 'SAM-I-AM!'], ['DO', 'WOULD', 'YOU', 'LIKE', 'GREEN', 'EGGS', 'AND', 'HAM?'], ['I', 'DO', 'NOT', 'LIKE', 'THEM,', 'SAM-I-AM'], ['I', 'DO', 'NOT', 'LIKE', 'GREEN', 'EGGS', 'AND', 'HAM'], ['WOULD', 'YOU', 'LIKE', 'THEM', 'HERE', 'OR', 'THERE?'], ['I', 'WOULD', 'NOT', 'LIKE', 'THEM', 'HERE', 'OR', 'THERE'], ['I', 'WOULD', 'NOT', 'LIKE', 'THEM', 'ANYWHERE'], ['I', 'DO', 'NOT', 'LIKE', 'GREEN', 'EGGS', 'AND', 'HAM'], ['I', 'DO', 'NOT', 'LIKE', 'THEM,', 'SAM-I-AM'], ['WOULD', 'YOU', 'LIKE', 'THEM', 'IN', 'A', 'HOUSE?'], ['WOULD', 'YOU', 'LIKE', 'THEN', 'WITH', 'A', 'MOUSE?'], ['I', 'DO', 'NOT', 'LIKE', 'THEM', 'IN', 'A', 'HOUSE'], ['I', 'DO', 'NOT', 'LIKE', 'THEM', 'WITH', 'A', 'MOUSE'], ['I', 'DO', 'NOT', 'LIKE', 'THEM', 'HERE', 'OR', 'THERE'], ['I', 'DO', 'NOT', 'LIKE', 'THEM', 'ANYWHERE'], ['I', 'DO', 'NOT', 'LIKE', 'GREEN', 'EGGS', 'AND', 'HAM'], ['I', 'DO', 'NOT', 'LIKE', 'THEM,', 'SAM-I-AM.\\n']]\n"
     ]
    }
   ],
   "source": [
    "# Displays the list of tokenized sentences for further processing.\n",
    "\n",
    "print(\"Sentences are \", sentences2)"
   ]
  },
  {
   "cell_type": "markdown",
   "id": "341e873a",
   "metadata": {},
   "source": [
    "### SENTENCE SIMILARITY"
   ]
  },
  {
   "cell_type": "markdown",
   "id": "e1c1c299",
   "metadata": {},
   "source": [
    "This function computes the similarity between two sentences using cosine distance, a common metric in natural language processing, by constructing vectors based on word occurrences and comparing their orientations."
   ]
  },
  {
   "cell_type": "code",
   "execution_count": 5,
   "id": "73294e86",
   "metadata": {},
   "outputs": [],
   "source": [
    "# Calculates similarity between two sentences using cosine distance.\n",
    "\n",
    "def sentence_similarity2(sent3, sent4 ):\n",
    "    sent1 = [w.lower() for w in sent3]\n",
    "    sent2 = [w.lower() for w in sent4]\n",
    "    all_words = list(set(sent3 + sent4))\n",
    "    vector3 = [0] * len(all_words)\n",
    "    vector4 = [0] * len(all_words)\n",
    "                                                    # build the vector for the first sentence\n",
    "    for w in sent3:\n",
    "          vector3[all_words.index(w)] += 1\n",
    "                                                    # build the vector for the second sentence\n",
    "    for w in sent4:\n",
    "          vector4[all_words.index(w)] += 1\n",
    "    return 1 - cosine_distance(vector3, vector4)"
   ]
  },
  {
   "cell_type": "markdown",
   "id": "7d127079",
   "metadata": {},
   "source": [
    "### CALCULATING SIMILARITY MATRIX"
   ]
  },
  {
   "cell_type": "code",
   "execution_count": 8,
   "id": "776a1c7b",
   "metadata": {},
   "outputs": [
    {
     "name": "stdout",
     "output_type": "stream",
     "text": [
      "Smilarity matrix \n",
      " [[0.         1.         1.         0.         0.23570226 0.\n",
      "  0.23570226 0.20412415 0.         0.20412415 0.23570226 0.20412415\n",
      "  0.23570226 0.         0.         0.20412415 0.20412415 0.20412415\n",
      "  0.23570226 0.20412415 0.23570226]\n",
      " [1.         0.         1.         0.         0.23570226 0.\n",
      "  0.23570226 0.20412415 0.         0.20412415 0.23570226 0.20412415\n",
      "  0.23570226 0.         0.         0.20412415 0.20412415 0.20412415\n",
      "  0.23570226 0.20412415 0.23570226]\n",
      " [1.         1.         0.         0.         0.23570226 0.\n",
      "  0.23570226 0.20412415 0.         0.20412415 0.23570226 0.20412415\n",
      "  0.23570226 0.         0.         0.20412415 0.20412415 0.20412415\n",
      "  0.23570226 0.20412415 0.23570226]\n",
      " [0.         0.         0.         0.         0.57735027 0.\n",
      "  0.         0.         0.         0.         0.         0.\n",
      "  0.         0.         0.         0.         0.         0.\n",
      "  0.         0.         0.        ]\n",
      " [0.23570226 0.23570226 0.23570226 0.57735027 0.         0.28867513\n",
      "  0.66666667 0.57735027 0.15430335 0.4330127  0.5        0.57735027\n",
      "  0.66666667 0.15430335 0.15430335 0.57735027 0.57735027 0.57735027\n",
      "  0.66666667 0.57735027 0.66666667]\n",
      " [0.         0.         0.         0.         0.28867513 0.\n",
      "  0.28867513 0.625      0.40089186 0.25       0.28867513 0.625\n",
      "  0.28867513 0.40089186 0.40089186 0.25       0.25       0.25\n",
      "  0.28867513 0.625      0.28867513]\n",
      " [0.23570226 0.23570226 0.23570226 0.         0.66666667 0.28867513\n",
      "  0.         0.57735027 0.15430335 0.4330127  0.5        0.57735027\n",
      "  1.         0.15430335 0.15430335 0.57735027 0.57735027 0.57735027\n",
      "  0.66666667 0.57735027 0.83333333]\n",
      " [0.20412415 0.20412415 0.20412415 0.         0.57735027 0.625\n",
      "  0.57735027 0.         0.13363062 0.375      0.4330127  1.\n",
      "  0.57735027 0.13363062 0.13363062 0.5        0.5        0.5\n",
      "  0.57735027 1.         0.57735027]\n",
      " [0.         0.         0.         0.         0.15430335 0.40089186\n",
      "  0.15430335 0.13363062 0.         0.6681531  0.46291005 0.13363062\n",
      "  0.15430335 0.57142857 0.42857143 0.26726124 0.26726124 0.53452248\n",
      "  0.3086067  0.13363062 0.15430335]\n",
      " [0.20412415 0.20412415 0.20412415 0.         0.4330127  0.25\n",
      "  0.4330127  0.375      0.6681531  0.         0.72168784 0.375\n",
      "  0.4330127  0.40089186 0.26726124 0.5        0.5        0.875\n",
      "  0.57735027 0.375      0.4330127 ]\n",
      " [0.23570226 0.23570226 0.23570226 0.         0.5        0.28867513\n",
      "  0.5        0.4330127  0.46291005 0.72168784 0.         0.4330127\n",
      "  0.5        0.46291005 0.3086067  0.57735027 0.57735027 0.57735027\n",
      "  0.83333333 0.4330127  0.5       ]\n",
      " [0.20412415 0.20412415 0.20412415 0.         0.57735027 0.625\n",
      "  0.57735027 1.         0.13363062 0.375      0.4330127  0.\n",
      "  0.57735027 0.13363062 0.13363062 0.5        0.5        0.5\n",
      "  0.57735027 1.         0.57735027]\n",
      " [0.23570226 0.23570226 0.23570226 0.         0.66666667 0.28867513\n",
      "  1.         0.57735027 0.15430335 0.4330127  0.5        0.57735027\n",
      "  0.         0.15430335 0.15430335 0.57735027 0.57735027 0.57735027\n",
      "  0.66666667 0.57735027 0.83333333]\n",
      " [0.         0.         0.         0.         0.15430335 0.40089186\n",
      "  0.15430335 0.13363062 0.57142857 0.40089186 0.46291005 0.13363062\n",
      "  0.15430335 0.         0.57142857 0.53452248 0.40089186 0.26726124\n",
      "  0.3086067  0.13363062 0.15430335]\n",
      " [0.         0.         0.         0.         0.15430335 0.40089186\n",
      "  0.15430335 0.13363062 0.42857143 0.26726124 0.3086067  0.13363062\n",
      "  0.15430335 0.57142857 0.         0.26726124 0.40089186 0.13363062\n",
      "  0.15430335 0.13363062 0.15430335]\n",
      " [0.20412415 0.20412415 0.20412415 0.         0.57735027 0.25\n",
      "  0.57735027 0.5        0.26726124 0.5        0.57735027 0.5\n",
      "  0.57735027 0.53452248 0.26726124 0.         0.75       0.625\n",
      "  0.72168784 0.5        0.57735027]\n",
      " [0.20412415 0.20412415 0.20412415 0.         0.57735027 0.25\n",
      "  0.57735027 0.5        0.26726124 0.5        0.57735027 0.5\n",
      "  0.57735027 0.40089186 0.40089186 0.75       0.         0.625\n",
      "  0.72168784 0.5        0.57735027]\n",
      " [0.20412415 0.20412415 0.20412415 0.         0.57735027 0.25\n",
      "  0.57735027 0.5        0.53452248 0.875      0.57735027 0.5\n",
      "  0.57735027 0.26726124 0.13363062 0.625      0.625      0.\n",
      "  0.72168784 0.5        0.57735027]\n",
      " [0.23570226 0.23570226 0.23570226 0.         0.66666667 0.28867513\n",
      "  0.66666667 0.57735027 0.3086067  0.57735027 0.83333333 0.57735027\n",
      "  0.66666667 0.3086067  0.15430335 0.72168784 0.72168784 0.72168784\n",
      "  0.         0.57735027 0.66666667]\n",
      " [0.20412415 0.20412415 0.20412415 0.         0.57735027 0.625\n",
      "  0.57735027 1.         0.13363062 0.375      0.4330127  1.\n",
      "  0.57735027 0.13363062 0.13363062 0.5        0.5        0.5\n",
      "  0.57735027 0.         0.57735027]\n",
      " [0.23570226 0.23570226 0.23570226 0.         0.66666667 0.28867513\n",
      "  0.83333333 0.57735027 0.15430335 0.4330127  0.5        0.57735027\n",
      "  0.83333333 0.15430335 0.15430335 0.57735027 0.57735027 0.57735027\n",
      "  0.66666667 0.57735027 0.        ]]\n"
     ]
    }
   ],
   "source": [
    "# Computes the similarity matrix for all pairs of sentences.\n",
    "\n",
    "similarity_matrix2 = np.zeros((len(sentences2), len(sentences2)))\n",
    " \n",
    "for idx1 in range(len(sentences2)):\n",
    "        for idx2 in range(len(sentences2)):\n",
    "             if idx1 == idx2:                       # ignore if both are same sentences\n",
    "                continue \n",
    "             similarity_matrix2[idx1][idx2] = sentence_similarity2(sentences2[idx1], sentences2[idx2])\n",
    "\n",
    "print(\"Smilarity matrix \\n\", similarity_matrix2)"
   ]
  },
  {
   "cell_type": "markdown",
   "id": "5cc977df",
   "metadata": {},
   "source": [
    "### BUILDING SIMILARITY GRAPH"
   ]
  },
  {
   "cell_type": "code",
   "execution_count": 9,
   "id": "38347664",
   "metadata": {},
   "outputs": [
    {
     "name": "stdout",
     "output_type": "stream",
     "text": [
      "scores {0: 0.03492638917817515, 1: 0.03492638917817515, 2: 0.03492638917817515, 3: 0.010552425887368076, 4: 0.06321847556853293, 5: 0.03960609463088077, 6: 0.057289451630209653, 7: 0.056226314678287335, 8: 0.03486412173792891, 9: 0.053338934277549654, 10: 0.0566062415473087, 11: 0.056226314678287335, 12: 0.05728945163020967, 13: 0.0350182718613405, 14: 0.02940805086606966, 15: 0.056983599690836606, 16: 0.05702071446687991, 17: 0.057531865612924, 18: 0.06143601920162538, 19: 0.056226314678287335, 20: 0.05637816982094812}\n"
     ]
    }
   ],
   "source": [
    "# Constructs a graph from the similarity matrix and calculates PageRank scores.\n",
    "\n",
    "sentence_similarity_graph = nx.from_numpy_array(similarity_matrix2)\n",
    "scores2 = nx.pagerank(sentence_similarity_graph)\n",
    "print(\"scores\", scores2)"
   ]
  },
  {
   "cell_type": "markdown",
   "id": "83fb52b2",
   "metadata": {},
   "source": [
    "### RANKING SENTENCES"
   ]
  },
  {
   "cell_type": "markdown",
   "id": "4d2a6dae",
   "metadata": {},
   "source": [
    "This code snippet ranks sentences by their PageRank scores in descending order, aiding in prioritizing important content for text summarization or analysis tasks."
   ]
  },
  {
   "cell_type": "code",
   "execution_count": 10,
   "id": "92f347f1",
   "metadata": {},
   "outputs": [
    {
     "name": "stdout",
     "output_type": "stream",
     "text": [
      "Indexes of top ranked_sentence order are \n",
      "\n",
      " [(0.06321847556853293, ['I', 'DO', 'NOT', 'LIKE', 'THAT', 'SAM-I-AM!']), (0.06143601920162538, ['I', 'DO', 'NOT', 'LIKE', 'THEM', 'ANYWHERE']), (0.057531865612924, ['I', 'DO', 'NOT', 'LIKE', 'THEM', 'HERE', 'OR', 'THERE']), (0.05728945163020967, ['I', 'DO', 'NOT', 'LIKE', 'THEM,', 'SAM-I-AM']), (0.057289451630209653, ['I', 'DO', 'NOT', 'LIKE', 'THEM,', 'SAM-I-AM']), (0.05702071446687991, ['I', 'DO', 'NOT', 'LIKE', 'THEM', 'WITH', 'A', 'MOUSE']), (0.056983599690836606, ['I', 'DO', 'NOT', 'LIKE', 'THEM', 'IN', 'A', 'HOUSE']), (0.0566062415473087, ['I', 'WOULD', 'NOT', 'LIKE', 'THEM', 'ANYWHERE']), (0.05637816982094812, ['I', 'DO', 'NOT', 'LIKE', 'THEM,', 'SAM-I-AM.\\n']), (0.056226314678287335, ['I', 'DO', 'NOT', 'LIKE', 'GREEN', 'EGGS', 'AND', 'HAM']), (0.056226314678287335, ['I', 'DO', 'NOT', 'LIKE', 'GREEN', 'EGGS', 'AND', 'HAM']), (0.056226314678287335, ['I', 'DO', 'NOT', 'LIKE', 'GREEN', 'EGGS', 'AND', 'HAM']), (0.053338934277549654, ['I', 'WOULD', 'NOT', 'LIKE', 'THEM', 'HERE', 'OR', 'THERE']), (0.03960609463088077, ['DO', 'WOULD', 'YOU', 'LIKE', 'GREEN', 'EGGS', 'AND', 'HAM?']), (0.0350182718613405, ['WOULD', 'YOU', 'LIKE', 'THEM', 'IN', 'A', 'HOUSE?']), (0.03492638917817515, ['SAM', 'I', 'AM']), (0.03492638917817515, ['I', 'AM', 'SAM']), (0.03492638917817515, ['I', 'AM', 'SAM']), (0.03486412173792891, ['WOULD', 'YOU', 'LIKE', 'THEM', 'HERE', 'OR', 'THERE?']), (0.02940805086606966, ['WOULD', 'YOU', 'LIKE', 'THEN', 'WITH', 'A', 'MOUSE?']), (0.010552425887368076, ['THAT', 'SAM-I-AM!', 'THAT', 'SAM-I-AM!'])]\n"
     ]
    }
   ],
   "source": [
    "# Sorts sentences based on their PageRank scores in descending order.\n",
    "\n",
    "ranked_sentence2 = sorted(((scores2[i],s) for i,s in enumerate(sentences2)), reverse=True)    \n",
    "print(\"Indexes of top ranked_sentence order are \\n\\n\", ranked_sentence2)"
   ]
  },
  {
   "cell_type": "markdown",
   "id": "694935a5",
   "metadata": {},
   "source": [
    "### SUMMARIZING TEXT"
   ]
  },
  {
   "cell_type": "code",
   "execution_count": 11,
   "id": "befe2747",
   "metadata": {},
   "outputs": [
    {
     "name": "stdout",
     "output_type": "stream",
     "text": [
      "How many sentences do you want in the summary? 10\n"
     ]
    }
   ],
   "source": [
    "# Generates a summary by selecting the top-ranked sentences based on user input.\n",
    "\n",
    "n2 = int(input(\"How many sentences do you want in the summary? \"))    #n=2\n",
    "summarize_text2 = []\n",
    "for i in range(n2):\n",
    "      summarize_text2.append(\" \".join(ranked_sentence2[i][1]))"
   ]
  },
  {
   "cell_type": "markdown",
   "id": "eab51763",
   "metadata": {},
   "source": [
    "### PRINTING SUMMARY"
   ]
  },
  {
   "cell_type": "code",
   "execution_count": 12,
   "id": "103ac6be",
   "metadata": {},
   "outputs": [
    {
     "name": "stdout",
     "output_type": "stream",
     "text": [
      "Summarize Text: \n",
      " I DO NOT LIKE THAT SAM-I-AM!. I DO NOT LIKE THEM ANYWHERE. I DO NOT LIKE THEM HERE OR THERE. I DO NOT LIKE THEM, SAM-I-AM. I DO NOT LIKE THEM, SAM-I-AM. I DO NOT LIKE THEM WITH A MOUSE. I DO NOT LIKE THEM IN A HOUSE. I WOULD NOT LIKE THEM ANYWHERE. I DO NOT LIKE THEM, SAM-I-AM.\n",
      ". I DO NOT LIKE GREEN EGGS AND HAM\n"
     ]
    }
   ],
   "source": [
    "# Displays the summarized text composed of selected sentences.\n",
    "\n",
    "print(\"Summarize Text: \\n\", \". \".join(summarize_text2))"
   ]
  },
  {
   "cell_type": "markdown",
   "id": "eb58513f",
   "metadata": {},
   "source": [
    "## TEXT SUMMARIZATION FOR THIRD FILE "
   ]
  },
  {
   "cell_type": "markdown",
   "id": "8d5c9104",
   "metadata": {},
   "source": [
    "### READING AND PROCESSING TEXT"
   ]
  },
  {
   "cell_type": "markdown",
   "id": "a01f894c",
   "metadata": {},
   "source": [
    "The code snippet reads text from a file, divides it into sentences, and tokenizes them for subsequent analysis, preparing the data for text processing tasks."
   ]
  },
  {
   "cell_type": "code",
   "execution_count": 18,
   "id": "662375d6",
   "metadata": {},
   "outputs": [
    {
     "name": "stdout",
     "output_type": "stream",
     "text": [
      "As an institution of higher learning, Sacred Heart University places special emphasis on academic integrity, which is a commitment to the fundamental values of honesty, trust, fairness, respect, and responsibility\n",
      "Only when these values are widely respected and practiced by all members of the University students, faculty, administrators, and staff can the University maintain a culture that promotes free exploration of knowledge, constructive debate, genuine learning, effective research, fair assessment of student progress, and development of members characters\n",
      "These aims of the University require that its members exercise mutual responsibilities\n",
      "At its core, academic integrity is secured by a principled commitment to carry out these responsibilities, not by rules and penalties\n",
      "Students and faculty should strive to create an academic environment that is honest, fair, and respectful of all\n",
      "They do this by evaluating others work fairly, by responding to others ideas critically yet courteously, by respecting others intellectual and physical property, and by nurturing the values of academic integrity in all contexts of University life\n",
      "Appropriate disciplinary action will be taken for violations of academic integrity, including plagiarism, cheating, any use of materials for an assignment or exam that is not permitted by the instructor, and theft or mutilation of intellectual materials or other University equipment\n",
      "Faculty will assign failing grades for violations of the University policy on academic integrity and students may immediately receive an F for a course in which they commit a violation\n",
      "Violations of academic integrity are kept on file second violations will bring additional sanctions, up to dismissal from the University\n",
      "For any disciplinary action, the University affords the student the right of due process in an appeals procedure\n",
      "All matriculated students will be provided with a full description of the University standards for academic integrity, consequences for violations, and the appeals procedure.\n"
     ]
    }
   ],
   "source": [
    "# Reads text from file, splits into sentences, and tokenizes them.\n",
    "\n",
    "file = open(\"Text3.txt\", \"r\")\n",
    "                                                      # This file contains one paragraph of multiple sentences\n",
    "filedata = file.readlines()\n",
    "article = filedata[0].split(\". \")                     # Just do the first paragraph\n",
    "\n",
    "sentences = []\n",
    "for sentence in article:\n",
    "    print(sentence)\n",
    "    sentences.append(sentence.replace(\"[^a-zA-Z]\", \" \").split(\" \"))"
   ]
  },
  {
   "cell_type": "markdown",
   "id": "6da176f0",
   "metadata": {},
   "source": [
    "### PRINTING SENTENCES"
   ]
  },
  {
   "cell_type": "code",
   "execution_count": 19,
   "id": "84172c17",
   "metadata": {},
   "outputs": [
    {
     "name": "stdout",
     "output_type": "stream",
     "text": [
      "Sentences are  [['As', 'an', 'institution', 'of', 'higher', 'learning,', 'Sacred', 'Heart', 'University', 'places', 'special', 'emphasis', 'on', 'academic', 'integrity,', 'which', 'is', 'a', 'commitment', 'to', 'the', 'fundamental', 'values', 'of', 'honesty,', 'trust,', 'fairness,', 'respect,', 'and', 'responsibility'], ['Only', 'when', 'these', 'values', 'are', 'widely', 'respected', 'and', 'practiced', 'by', 'all', 'members', 'of', 'the', 'University', 'students,', 'faculty,', 'administrators,', 'and', 'staff', 'can', 'the', 'University', 'maintain', 'a', 'culture', 'that', 'promotes', 'free', 'exploration', 'of', 'knowledge,', 'constructive', 'debate,', 'genuine', 'learning,', 'effective', 'research,', 'fair', 'assessment', 'of', 'student', 'progress,', 'and', 'development', 'of', 'members', 'characters'], ['These', 'aims', 'of', 'the', 'University', 'require', 'that', 'its', 'members', 'exercise', 'mutual', 'responsibilities'], ['At', 'its', 'core,', 'academic', 'integrity', 'is', 'secured', 'by', 'a', 'principled', 'commitment', 'to', 'carry', 'out', 'these', 'responsibilities,', 'not', 'by', 'rules', 'and', 'penalties'], ['Students', 'and', 'faculty', 'should', 'strive', 'to', 'create', 'an', 'academic', 'environment', 'that', 'is', 'honest,', 'fair,', 'and', 'respectful', 'of', 'all'], ['They', 'do', 'this', 'by', 'evaluating', 'others', 'work', 'fairly,', 'by', 'responding', 'to', 'others', 'ideas', 'critically', 'yet', 'courteously,', 'by', 'respecting', 'others', 'intellectual', 'and', 'physical', 'property,', 'and', 'by', 'nurturing', 'the', 'values', 'of', 'academic', 'integrity', 'in', 'all', 'contexts', 'of', 'University', 'life'], ['Appropriate', 'disciplinary', 'action', 'will', 'be', 'taken', 'for', 'violations', 'of', 'academic', 'integrity,', 'including', 'plagiarism,', 'cheating,', 'any', 'use', 'of', 'materials', 'for', 'an', 'assignment', 'or', 'exam', 'that', 'is', 'not', 'permitted', 'by', 'the', 'instructor,', 'and', 'theft', 'or', 'mutilation', 'of', 'intellectual', 'materials', 'or', 'other', 'University', 'equipment'], ['Faculty', 'will', 'assign', 'failing', 'grades', 'for', 'violations', 'of', 'the', 'University', 'policy', 'on', 'academic', 'integrity', 'and', 'students', 'may', 'immediately', 'receive', 'an', 'F', 'for', 'a', 'course', 'in', 'which', 'they', 'commit', 'a', 'violation'], ['Violations', 'of', 'academic', 'integrity', 'are', 'kept', 'on', 'file', 'second', 'violations', 'will', 'bring', 'additional', 'sanctions,', 'up', 'to', 'dismissal', 'from', 'the', 'University'], ['For', 'any', 'disciplinary', 'action,', 'the', 'University', 'affords', 'the', 'student', 'the', 'right', 'of', 'due', 'process', 'in', 'an', 'appeals', 'procedure'], ['All', 'matriculated', 'students', 'will', 'be', 'provided', 'with', 'a', 'full', 'description', 'of', 'the', 'University', 'standards', 'for', 'academic', 'integrity,', 'consequences', 'for', 'violations,', 'and', 'the', 'appeals', 'procedure.']]\n"
     ]
    }
   ],
   "source": [
    "# Displays the list of tokenized sentences for further processing.\n",
    "\n",
    "print(\"Sentences are \", sentences)"
   ]
  },
  {
   "cell_type": "markdown",
   "id": "4d246608",
   "metadata": {},
   "source": [
    "### SENTENCE SIMILARITY"
   ]
  },
  {
   "cell_type": "markdown",
   "id": "0037cbfa",
   "metadata": {},
   "source": [
    "This function computes the similarity between two sentences using cosine distance, a common metric in natural language processing, by constructing vectors based on word occurrences and comparing their orientations."
   ]
  },
  {
   "cell_type": "code",
   "execution_count": 20,
   "id": "7ea4087a",
   "metadata": {},
   "outputs": [],
   "source": [
    "# Calculates similarity between two sentences using cosine distance.\n",
    "\n",
    "def sentence_similarity(sent1, sent2 ):\n",
    "    sent1 = [w.lower() for w in sent1]\n",
    "    sent2 = [w.lower() for w in sent2]\n",
    "    all_words = list(set(sent1 + sent2))\n",
    "    vector1 = [0] * len(all_words)\n",
    "    vector2 = [0] * len(all_words)\n",
    "                                                    # build the vector for the first sentence\n",
    "    for w in sent1:\n",
    "          vector1[all_words.index(w)] += 1\n",
    "                                                    # build the vector for the second sentence\n",
    "    for w in sent2:\n",
    "          vector2[all_words.index(w)] += 1\n",
    "    return 1 - cosine_distance(vector1, vector2)"
   ]
  },
  {
   "cell_type": "markdown",
   "id": "b5647797",
   "metadata": {},
   "source": [
    "### CALCULATING SIMILARITY MATRIX"
   ]
  },
  {
   "cell_type": "code",
   "execution_count": 21,
   "id": "be8a2410",
   "metadata": {},
   "outputs": [
    {
     "name": "stdout",
     "output_type": "stream",
     "text": [
      "Smilarity matrix \n",
      " [[0.         0.375      0.20412415 0.22116293 0.31622777 0.25315802\n",
      "  0.30439039 0.33348648 0.26382243 0.25259074 0.3006689 ]\n",
      " [0.375      0.         0.40824829 0.17201562 0.31622777 0.36822985\n",
      "  0.32780503 0.26274693 0.22613351 0.3127314  0.33407655]\n",
      " [0.20412415 0.40824829 0.         0.12038585 0.12909944 0.15032921\n",
      "  0.22941573 0.14852213 0.18463724 0.29462783 0.21821789]\n",
      " [0.22116293 0.17201562 0.12038585 0.         0.2331262  0.35290144\n",
      "  0.16571045 0.17879963 0.13336627 0.         0.11821656]\n",
      " [0.31622777 0.31622777 0.12909944 0.2331262  0.         0.26200013\n",
      "  0.26655699 0.26843775 0.14301939 0.09128709 0.25354628]\n",
      " [0.25315802 0.36822985 0.15032921 0.35290144 0.26200013 0.\n",
      "  0.27590308 0.22327214 0.19429458 0.1860229  0.22143052]\n",
      " [0.30439039 0.32780503 0.22941573 0.16571045 0.26655699 0.27590308\n",
      "  0.         0.3180176  0.25415212 0.32444284 0.37546963]\n",
      " [0.33348648 0.26274693 0.14852213 0.17879963 0.26843775 0.22327214\n",
      "  0.3180176  0.         0.32907259 0.31506302 0.45374261]\n",
      " [0.26382243 0.22613351 0.18463724 0.13336627 0.14301939 0.19429458\n",
      "  0.25415212 0.32907259 0.         0.21759707 0.24174689]\n",
      " [0.25259074 0.3127314  0.29462783 0.         0.09128709 0.1860229\n",
      "  0.32444284 0.31506302 0.21759707 0.         0.42433421]\n",
      " [0.3006689  0.33407655 0.21821789 0.11821656 0.25354628 0.22143052\n",
      "  0.37546963 0.45374261 0.24174689 0.42433421 0.        ]]\n"
     ]
    }
   ],
   "source": [
    "# Computes the similarity matrix for all pairs of sentences.\n",
    "\n",
    "similarity_matrix = np.zeros((len(sentences), len(sentences)))\n",
    " \n",
    "for idx1 in range(len(sentences)):\n",
    "        for idx2 in range(len(sentences)):\n",
    "             if idx1 == idx2:                       # ignore if both are same sentences\n",
    "                continue \n",
    "             similarity_matrix[idx1][idx2] = sentence_similarity(sentences[idx1], sentences[idx2])\n",
    "\n",
    "print(\"Smilarity matrix \\n\", similarity_matrix)"
   ]
  },
  {
   "cell_type": "markdown",
   "id": "08002054",
   "metadata": {},
   "source": [
    "### BUILDING SIMILARITY GRAPH"
   ]
  },
  {
   "cell_type": "code",
   "execution_count": 22,
   "id": "75f70884",
   "metadata": {},
   "outputs": [
    {
     "name": "stdout",
     "output_type": "stream",
     "text": [
      "scores {0: 0.10052808533762261, 1: 0.1092617813187325, 2: 0.07743541734389628, 3: 0.06555131921078501, 4: 0.08353031285994028, 5: 0.09032582020361654, 6: 0.10094508912146115, 7: 0.10059598487085707, 8: 0.08058955768995534, 9: 0.08737172856802625, 10: 0.10386490347510732}\n"
     ]
    }
   ],
   "source": [
    "# Constructs a graph from the similarity matrix and calculates PageRank scores.\n",
    "\n",
    "sentence_similarity_graph = nx.from_numpy_array(similarity_matrix)\n",
    "scores = nx.pagerank(sentence_similarity_graph)\n",
    "print(\"scores\", scores)"
   ]
  },
  {
   "cell_type": "markdown",
   "id": "ae582c28",
   "metadata": {},
   "source": [
    "### RANKING SENTENCES"
   ]
  },
  {
   "cell_type": "markdown",
   "id": "03627bcb",
   "metadata": {},
   "source": [
    "This code snippet ranks sentences by their PageRank scores in descending order, aiding in prioritizing important content for text summarization or analysis tasks."
   ]
  },
  {
   "cell_type": "code",
   "execution_count": 23,
   "id": "80ffd63a",
   "metadata": {},
   "outputs": [
    {
     "name": "stdout",
     "output_type": "stream",
     "text": [
      "Indexes of top ranked_sentence order are \n",
      "\n",
      " [(0.1092617813187325, ['Only', 'when', 'these', 'values', 'are', 'widely', 'respected', 'and', 'practiced', 'by', 'all', 'members', 'of', 'the', 'University', 'students,', 'faculty,', 'administrators,', 'and', 'staff', 'can', 'the', 'University', 'maintain', 'a', 'culture', 'that', 'promotes', 'free', 'exploration', 'of', 'knowledge,', 'constructive', 'debate,', 'genuine', 'learning,', 'effective', 'research,', 'fair', 'assessment', 'of', 'student', 'progress,', 'and', 'development', 'of', 'members', 'characters']), (0.10386490347510732, ['All', 'matriculated', 'students', 'will', 'be', 'provided', 'with', 'a', 'full', 'description', 'of', 'the', 'University', 'standards', 'for', 'academic', 'integrity,', 'consequences', 'for', 'violations,', 'and', 'the', 'appeals', 'procedure.']), (0.10094508912146115, ['Appropriate', 'disciplinary', 'action', 'will', 'be', 'taken', 'for', 'violations', 'of', 'academic', 'integrity,', 'including', 'plagiarism,', 'cheating,', 'any', 'use', 'of', 'materials', 'for', 'an', 'assignment', 'or', 'exam', 'that', 'is', 'not', 'permitted', 'by', 'the', 'instructor,', 'and', 'theft', 'or', 'mutilation', 'of', 'intellectual', 'materials', 'or', 'other', 'University', 'equipment']), (0.10059598487085707, ['Faculty', 'will', 'assign', 'failing', 'grades', 'for', 'violations', 'of', 'the', 'University', 'policy', 'on', 'academic', 'integrity', 'and', 'students', 'may', 'immediately', 'receive', 'an', 'F', 'for', 'a', 'course', 'in', 'which', 'they', 'commit', 'a', 'violation']), (0.10052808533762261, ['As', 'an', 'institution', 'of', 'higher', 'learning,', 'Sacred', 'Heart', 'University', 'places', 'special', 'emphasis', 'on', 'academic', 'integrity,', 'which', 'is', 'a', 'commitment', 'to', 'the', 'fundamental', 'values', 'of', 'honesty,', 'trust,', 'fairness,', 'respect,', 'and', 'responsibility']), (0.09032582020361654, ['They', 'do', 'this', 'by', 'evaluating', 'others', 'work', 'fairly,', 'by', 'responding', 'to', 'others', 'ideas', 'critically', 'yet', 'courteously,', 'by', 'respecting', 'others', 'intellectual', 'and', 'physical', 'property,', 'and', 'by', 'nurturing', 'the', 'values', 'of', 'academic', 'integrity', 'in', 'all', 'contexts', 'of', 'University', 'life']), (0.08737172856802625, ['For', 'any', 'disciplinary', 'action,', 'the', 'University', 'affords', 'the', 'student', 'the', 'right', 'of', 'due', 'process', 'in', 'an', 'appeals', 'procedure']), (0.08353031285994028, ['Students', 'and', 'faculty', 'should', 'strive', 'to', 'create', 'an', 'academic', 'environment', 'that', 'is', 'honest,', 'fair,', 'and', 'respectful', 'of', 'all']), (0.08058955768995534, ['Violations', 'of', 'academic', 'integrity', 'are', 'kept', 'on', 'file', 'second', 'violations', 'will', 'bring', 'additional', 'sanctions,', 'up', 'to', 'dismissal', 'from', 'the', 'University']), (0.07743541734389628, ['These', 'aims', 'of', 'the', 'University', 'require', 'that', 'its', 'members', 'exercise', 'mutual', 'responsibilities']), (0.06555131921078501, ['At', 'its', 'core,', 'academic', 'integrity', 'is', 'secured', 'by', 'a', 'principled', 'commitment', 'to', 'carry', 'out', 'these', 'responsibilities,', 'not', 'by', 'rules', 'and', 'penalties'])]\n"
     ]
    }
   ],
   "source": [
    "# Sorts sentences based on their PageRank scores in descending order.\n",
    "\n",
    "ranked_sentence = sorted(((scores[i],s) for i,s in enumerate(sentences)), reverse=True)    \n",
    "print(\"Indexes of top ranked_sentence order are \\n\\n\", ranked_sentence)"
   ]
  },
  {
   "cell_type": "markdown",
   "id": "55115222",
   "metadata": {},
   "source": [
    "### SUMMARIZING TEXT"
   ]
  },
  {
   "cell_type": "code",
   "execution_count": 24,
   "id": "dcad6d26",
   "metadata": {},
   "outputs": [
    {
     "name": "stdout",
     "output_type": "stream",
     "text": [
      "How many sentences do you want in the summary? 5\n"
     ]
    }
   ],
   "source": [
    "# Generates a summary by selecting the top-ranked sentences based on user input.\n",
    "\n",
    "n2 = int(input(\"How many sentences do you want in the summary? \"))    #n=2\n",
    "summarize_text2 = []\n",
    "for i in range(n2):\n",
    "      summarize_text2.append(\" \".join(ranked_sentence2[i][1]))"
   ]
  },
  {
   "cell_type": "markdown",
   "id": "52ac6caf",
   "metadata": {},
   "source": [
    "### PRINTING SUMMARY"
   ]
  },
  {
   "cell_type": "code",
   "execution_count": 25,
   "id": "e747d774",
   "metadata": {},
   "outputs": [
    {
     "name": "stdout",
     "output_type": "stream",
     "text": [
      "Summarize Text: \n",
      " I DO NOT LIKE THAT SAM-I-AM!. I DO NOT LIKE THEM ANYWHERE. I DO NOT LIKE THEM HERE OR THERE. I DO NOT LIKE THEM, SAM-I-AM. I DO NOT LIKE THEM, SAM-I-AM\n"
     ]
    }
   ],
   "source": [
    "# Displays the summarized text composed of selected sentences.\n",
    "\n",
    "print(\"Summarize Text: \\n\", \". \".join(summarize_text2))"
   ]
  }
 ],
 "metadata": {
  "kernelspec": {
   "display_name": "Python 3 (ipykernel)",
   "language": "python",
   "name": "python3"
  },
  "language_info": {
   "codemirror_mode": {
    "name": "ipython",
    "version": 3
   },
   "file_extension": ".py",
   "mimetype": "text/x-python",
   "name": "python",
   "nbconvert_exporter": "python",
   "pygments_lexer": "ipython3",
   "version": "3.11.5"
  }
 },
 "nbformat": 4,
 "nbformat_minor": 5
}
