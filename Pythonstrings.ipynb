{
 "cells": [
  {
   "cell_type": "markdown",
   "id": "c0b03f6d",
   "metadata": {},
   "source": [
    "## CLASSWORK WEEK-1"
   ]
  },
  {
   "cell_type": "markdown",
   "id": "554d7e8f",
   "metadata": {},
   "source": [
    "## BASIC STRING OPERATIONS\n",
    "\n"
   ]
  },
  {
   "cell_type": "markdown",
   "id": "fac9c6ba",
   "metadata": {},
   "source": [
    "### CHARACTER ACCESS"
   ]
  },
  {
   "cell_type": "code",
   "execution_count": 3,
   "id": "120b1fb1",
   "metadata": {},
   "outputs": [
    {
     "name": "stdout",
     "output_type": "stream",
     "text": [
      "e\n"
     ]
    }
   ],
   "source": [
    "#Printing String\n",
    "\n",
    "a = \"Hello!\"\n",
    "print(a[1])"
   ]
  },
  {
   "cell_type": "markdown",
   "id": "8d1aa8c9",
   "metadata": {},
   "source": [
    "### SLICING STRING"
   ]
  },
  {
   "cell_type": "code",
   "execution_count": 4,
   "id": "a2c7b0ab",
   "metadata": {},
   "outputs": [
    {
     "name": "stdout",
     "output_type": "stream",
     "text": [
      "llo\n"
     ]
    }
   ],
   "source": [
    "#Printing using slicing\n",
    "\n",
    "b = \"Hello, World!\"\n",
    "print(b[2:5])"
   ]
  },
  {
   "cell_type": "markdown",
   "id": "a74c45ab",
   "metadata": {},
   "source": [
    "### LENGTH OF STRING"
   ]
  },
  {
   "cell_type": "code",
   "execution_count": 5,
   "id": "c750da19",
   "metadata": {},
   "outputs": [
    {
     "data": {
      "text/plain": [
       "13"
      ]
     },
     "execution_count": 5,
     "metadata": {},
     "output_type": "execute_result"
    }
   ],
   "source": [
    "#Length of String\n",
    "\n",
    "len(a)"
   ]
  },
  {
   "cell_type": "markdown",
   "id": "83ef828f",
   "metadata": {},
   "source": [
    "### UPPER AND LOWER CASE STRINGS"
   ]
  },
  {
   "cell_type": "code",
   "execution_count": 6,
   "id": "9b826425",
   "metadata": {},
   "outputs": [
    {
     "name": "stdout",
     "output_type": "stream",
     "text": [
      "HELLO, WORLD!\n"
     ]
    }
   ],
   "source": [
    "#String to Uppercase\n",
    "\n",
    "print(a.upper())"
   ]
  },
  {
   "cell_type": "code",
   "execution_count": 7,
   "id": "762d68a8",
   "metadata": {},
   "outputs": [
    {
     "name": "stdout",
     "output_type": "stream",
     "text": [
      "hello, world!\n"
     ]
    }
   ],
   "source": [
    "#String to Lowercase\n",
    "\n",
    "print(a.lower())"
   ]
  },
  {
   "cell_type": "markdown",
   "id": "cf0d9cb1",
   "metadata": {},
   "source": [
    "### REPLACING SOME CHARACTERS"
   ]
  },
  {
   "cell_type": "code",
   "execution_count": 8,
   "id": "07fbb140",
   "metadata": {
    "scrolled": true
   },
   "outputs": [
    {
     "name": "stdout",
     "output_type": "stream",
     "text": [
      "Jello, World!\n"
     ]
    }
   ],
   "source": [
    "#Replacing some characters\n",
    "\n",
    "print(a.replace(\"H\",\"J\"))"
   ]
  },
  {
   "cell_type": "markdown",
   "id": "16b16cff",
   "metadata": {},
   "source": [
    "### STRING CONCATENATION"
   ]
  },
  {
   "cell_type": "code",
   "execution_count": 10,
   "id": "1cbd4841",
   "metadata": {},
   "outputs": [
    {
     "name": "stdout",
     "output_type": "stream",
     "text": [
      "Hello World\n"
     ]
    }
   ],
   "source": [
    "#String concatenation\n",
    "\n",
    "a = \"Hello\"\n",
    "b = \"World\"\n",
    "c = a + \" \" + b\n",
    "print(c)"
   ]
  },
  {
   "cell_type": "code",
   "execution_count": 1,
   "id": "b5eeffcd",
   "metadata": {},
   "outputs": [
    {
     "name": "stdout",
     "output_type": "stream",
     "text": [
      "Hello New World\n"
     ]
    }
   ],
   "source": [
    "#String Concatenation\n",
    "\n",
    "a = \"Hello\"\n",
    "b = \"World\"\n",
    "c = a + \" New \" + b\n",
    "print(c)"
   ]
  },
  {
   "cell_type": "markdown",
   "id": "ca72562a",
   "metadata": {},
   "source": [
    "### UPPER AND LOWER CASE"
   ]
  },
  {
   "cell_type": "code",
   "execution_count": 5,
   "id": "c3b5d631",
   "metadata": {},
   "outputs": [
    {
     "name": "stdout",
     "output_type": "stream",
     "text": [
      "HELLO MATE\n",
      "hello mate\n"
     ]
    }
   ],
   "source": [
    "#To Uppercase\n",
    "\n",
    "a = \"hello mate\"\n",
    "print(a.upper())"
   ]
  },
  {
   "cell_type": "code",
   "execution_count": 6,
   "id": "62ea3d87",
   "metadata": {},
   "outputs": [
    {
     "name": "stdout",
     "output_type": "stream",
     "text": [
      "hello mate\n"
     ]
    }
   ],
   "source": [
    "#To Lowercase\n",
    "\n",
    "b = \"HOW ARE YOU?\"\n",
    "print(a.lower())"
   ]
  },
  {
   "cell_type": "markdown",
   "id": "4ebb1fd0",
   "metadata": {},
   "source": [
    "### NEGATIVE INDEX"
   ]
  },
  {
   "cell_type": "code",
   "execution_count": 7,
   "id": "b88edbfc",
   "metadata": {},
   "outputs": [
    {
     "data": {
      "text/plain": [
       "'y'"
      ]
     },
     "execution_count": 7,
     "metadata": {},
     "output_type": "execute_result"
    }
   ],
   "source": [
    "#using negative index\n",
    "\n",
    "a = \"Jiddu Krishnamurthy\"\n",
    "a[-1]"
   ]
  },
  {
   "cell_type": "markdown",
   "id": "7b5fcd84",
   "metadata": {},
   "source": [
    "### STRING LENGTH"
   ]
  },
  {
   "cell_type": "code",
   "execution_count": 9,
   "id": "f9c6beee",
   "metadata": {},
   "outputs": [
    {
     "data": {
      "text/plain": [
       "19"
      ]
     },
     "execution_count": 9,
     "metadata": {},
     "output_type": "execute_result"
    }
   ],
   "source": [
    "#length of the string\n",
    "\n",
    "a = \"Jiddu Krishnamurthy\"\n",
    "len(a)"
   ]
  },
  {
   "cell_type": "markdown",
   "id": "9d57e315",
   "metadata": {},
   "source": [
    "### ESCAPE CHARACTERS"
   ]
  },
  {
   "cell_type": "code",
   "execution_count": 11,
   "id": "d75bfa9d",
   "metadata": {
    "scrolled": true
   },
   "outputs": [
    {
     "name": "stdout",
     "output_type": "stream",
     "text": [
      "I listen to \n",
      "jiddu krishnamurthy\n"
     ]
    }
   ],
   "source": [
    "#escape characters\n",
    "\n",
    "print('I listen to \\njiddu krishnamurthy')"
   ]
  },
  {
   "cell_type": "code",
   "execution_count": 12,
   "id": "f6bbcce0",
   "metadata": {},
   "outputs": [
    {
     "name": "stdout",
     "output_type": "stream",
     "text": [
      "I listen to \tjiddu krishnamurthy\n"
     ]
    }
   ],
   "source": [
    "#escape characters\n",
    "\n",
    "print('I listen to \\tjiddu krishnamurthy')"
   ]
  },
  {
   "cell_type": "markdown",
   "id": "ce492f82",
   "metadata": {},
   "source": [
    "### ITERATING A STRING"
   ]
  },
  {
   "cell_type": "code",
   "execution_count": 2,
   "id": "ff8cf264",
   "metadata": {},
   "outputs": [
    {
     "name": "stdout",
     "output_type": "stream",
     "text": [
      "W\n",
      "e\n",
      "l\n",
      "c\n",
      "o\n",
      "m\n",
      "e\n",
      " \n",
      "t\n",
      "o\n",
      " \n",
      "T\n",
      "B\n",
      "A\n"
     ]
    }
   ],
   "source": [
    "greet = 'Welcome to TBA'\n",
    "\n",
    "# iterating through greet string\n",
    "for letter in greet:\n",
    "    print(letter)"
   ]
  },
  {
   "cell_type": "markdown",
   "id": "5a1ee62e",
   "metadata": {},
   "source": [
    "### INPUT FROM USER"
   ]
  },
  {
   "cell_type": "code",
   "execution_count": 8,
   "id": "91e9f4b6",
   "metadata": {},
   "outputs": [
    {
     "name": "stdout",
     "output_type": "stream",
     "text": [
      "What is your name? Siddardh\n",
      "Hello Siddardh\n",
      "What do you study :Masters in Data Science\n",
      "You are pursuing : Masters in Data Science\n"
     ]
    }
   ],
   "source": [
    "#Asking input from user and displaying\n",
    "name = input('What is your name? ')\n",
    "print('Hello ' + name)\n",
    "\n",
    "job = input('What do you study :')\n",
    "print('You are pursuing : ' + job)\n"
   ]
  }
 ],
 "metadata": {
  "kernelspec": {
   "display_name": "Python 3 (ipykernel)",
   "language": "python",
   "name": "python3"
  },
  "language_info": {
   "codemirror_mode": {
    "name": "ipython",
    "version": 3
   },
   "file_extension": ".py",
   "mimetype": "text/x-python",
   "name": "python",
   "nbconvert_exporter": "python",
   "pygments_lexer": "ipython3",
   "version": "3.11.5"
  }
 },
 "nbformat": 4,
 "nbformat_minor": 5
}
