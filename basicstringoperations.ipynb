{
 "cells": [
  {
   "cell_type": "markdown",
   "id": "79e2971a",
   "metadata": {},
   "source": [
    "# ASSIGNMENT 1 \n",
    "## BASIC STRING OPERATIONS"
   ]
  },
  {
   "cell_type": "markdown",
   "id": "10e7dc1f",
   "metadata": {},
   "source": [
    "A string in python is an immutable sequence of characters, enclosed in single, double, or triple quotes, offering various operations and methods for text manipulation and analysis."
   ]
  },
  {
   "cell_type": "markdown",
   "id": "1797aded",
   "metadata": {},
   "source": [
    "### VARIBALE DECLARION"
   ]
  },
  {
   "cell_type": "code",
   "execution_count": 44,
   "id": "d5b0e5a2",
   "metadata": {},
   "outputs": [],
   "source": [
    "# Declaring some string varibles\n",
    "\n",
    "FirstName = 'Siddardh Reddy '\n",
    "LastName = 'Garlapati'\n",
    "University = 'Sacred Heart University'\n",
    "Course = 'Data Science'"
   ]
  },
  {
   "cell_type": "markdown",
   "id": "80d2a86c",
   "metadata": {},
   "source": [
    "### STRING LENGTH "
   ]
  },
  {
   "cell_type": "code",
   "execution_count": 45,
   "id": "3a5ba219",
   "metadata": {},
   "outputs": [
    {
     "name": "stdout",
     "output_type": "stream",
     "text": [
      "15\n",
      "9\n"
     ]
    }
   ],
   "source": [
    "# Finding the length of the string\n",
    "\n",
    "Length = len(FirstName)\n",
    "Lengthtwo = len(LastName)\n",
    "print(Length)\n",
    "print(Lengthtwo)"
   ]
  },
  {
   "cell_type": "markdown",
   "id": "645c65c9",
   "metadata": {},
   "source": [
    "### CONCATENATION"
   ]
  },
  {
   "cell_type": "markdown",
   "id": "426614f7",
   "metadata": {},
   "source": [
    "It combines two or more strings using the + operator or the str.join() method to create a new string."
   ]
  },
  {
   "cell_type": "code",
   "execution_count": 46,
   "id": "b3b0b395",
   "metadata": {},
   "outputs": [
    {
     "name": "stdout",
     "output_type": "stream",
     "text": [
      "Siddardh Reddy Garlapati\n"
     ]
    }
   ],
   "source": [
    "# Concatenating two strings\n",
    "\n",
    "FullName = FirstName + LastName\n",
    "print(FullName)"
   ]
  },
  {
   "cell_type": "markdown",
   "id": "cf0fc36b",
   "metadata": {},
   "source": [
    "### ACCESSING CHARACTERS"
   ]
  },
  {
   "cell_type": "code",
   "execution_count": 47,
   "id": "1fdc7880",
   "metadata": {},
   "outputs": [
    {
     "name": "stdout",
     "output_type": "stream",
     "text": [
      "Your Initial is G for Garlapati\n"
     ]
    }
   ],
   "source": [
    "# Accessing characters from the string \n",
    "\n",
    "Initial = LastName[0]\n",
    "print(f'Your Initial is {Initial} for {LastName}')"
   ]
  },
  {
   "cell_type": "markdown",
   "id": "90aa4702",
   "metadata": {},
   "source": [
    "### F STRINGS"
   ]
  },
  {
   "cell_type": "markdown",
   "id": "bb524fb8",
   "metadata": {},
   "source": [
    "F-strings in Python allow for inline variable interpolation and expressions within strings, providing concise and readable string formatting."
   ]
  },
  {
   "cell_type": "code",
   "execution_count": 48,
   "id": "363ce67d",
   "metadata": {},
   "outputs": [
    {
     "name": "stdout",
     "output_type": "stream",
     "text": [
      "Your are 23 years old.\n",
      "You are from hyderabad.\n"
     ]
    }
   ],
   "source": [
    "# String formatiing using f-strings\n",
    "\n",
    "age = 23\n",
    "city = 'hyderabad'\n",
    "print(f'Your are {age} years old.')\n",
    "print(f'You are from {city}.')"
   ]
  },
  {
   "cell_type": "markdown",
   "id": "6f4473a3",
   "metadata": {},
   "source": [
    "### STRING SLICING"
   ]
  },
  {
   "cell_type": "markdown",
   "id": "b9111167",
   "metadata": {},
   "source": [
    "String slicing in Python extracts substrings by specifying start and end indices, with optional step size"
   ]
  },
  {
   "cell_type": "code",
   "execution_count": 49,
   "id": "961075be",
   "metadata": {},
   "outputs": [
    {
     "name": "stdout",
     "output_type": "stream",
     "text": [
      "Your Nickname is Sid.\n"
     ]
    }
   ],
   "source": [
    "# Example 1 - Slicing : Accessing sub part from string variable\n",
    "\n",
    "NickName = FirstName[0:3]\n",
    "print(f'Your Nickname is {NickName}.')"
   ]
  },
  {
   "cell_type": "markdown",
   "id": "f3bf3db7",
   "metadata": {},
   "source": [
    "### STRING SLICING"
   ]
  },
  {
   "cell_type": "code",
   "execution_count": 50,
   "id": "74918b58",
   "metadata": {},
   "outputs": [
    {
     "name": "stdout",
     "output_type": "stream",
     "text": [
      "Reddy Garlapati\n"
     ]
    }
   ],
   "source": [
    "# Example 2 - Slicing : Accessing sub part from string varible \n",
    "\n",
    "print(FullName[9:])"
   ]
  },
  {
   "cell_type": "markdown",
   "id": "e1c3f837",
   "metadata": {},
   "source": [
    "### NEGATIVE SLICING "
   ]
  },
  {
   "cell_type": "markdown",
   "id": "ed52a117",
   "metadata": {},
   "source": [
    "Negative indexing in slicing provides a convenient way to extract substrings from the end of a string."
   ]
  },
  {
   "cell_type": "code",
   "execution_count": 51,
   "id": "116b21fd",
   "metadata": {},
   "outputs": [
    {
     "name": "stdout",
     "output_type": "stream",
     "text": [
      "Garlapati\n"
     ]
    }
   ],
   "source": [
    "# negative index slicing \n",
    "\n",
    "print(FullName[-9:])"
   ]
  },
  {
   "cell_type": "markdown",
   "id": "0bcaad74",
   "metadata": {},
   "source": [
    "### STRINGS IN UPPERCASE"
   ]
  },
  {
   "cell_type": "markdown",
   "id": "cce47e7d",
   "metadata": {},
   "source": [
    "To convert string to uppercase or lowercase in python using the upper() and lower() methods"
   ]
  },
  {
   "cell_type": "code",
   "execution_count": 52,
   "id": "a0bb2390",
   "metadata": {},
   "outputs": [
    {
     "data": {
      "text/plain": [
       "'siddardh reddy garlapati'"
      ]
     },
     "execution_count": 52,
     "metadata": {},
     "output_type": "execute_result"
    }
   ],
   "source": [
    "# Example 1 - Uppercase and lowercase of alphabets\n",
    "\n",
    "FullName.lower()"
   ]
  },
  {
   "cell_type": "markdown",
   "id": "7a205855",
   "metadata": {},
   "source": [
    "### STRINGS IN LOWERCASE"
   ]
  },
  {
   "cell_type": "code",
   "execution_count": 53,
   "id": "44176c22",
   "metadata": {},
   "outputs": [
    {
     "data": {
      "text/plain": [
       "'garlapati'"
      ]
     },
     "execution_count": 53,
     "metadata": {},
     "output_type": "execute_result"
    }
   ],
   "source": [
    "# Example 2 - Uppercase and lowercase of alphabets\n",
    "\n",
    "LastName.lower()"
   ]
  },
  {
   "cell_type": "markdown",
   "id": "4873317d",
   "metadata": {},
   "source": [
    "### STRINGS IN UPPERCASE"
   ]
  },
  {
   "cell_type": "code",
   "execution_count": 54,
   "id": "ef78c713",
   "metadata": {},
   "outputs": [
    {
     "data": {
      "text/plain": [
       "'garlapati'"
      ]
     },
     "execution_count": 54,
     "metadata": {},
     "output_type": "execute_result"
    }
   ],
   "source": [
    "# Example 3 - Uppercase and lowercase of alphabets\n",
    "\n",
    "LastName.lower()"
   ]
  },
  {
   "cell_type": "markdown",
   "id": "4170f0af",
   "metadata": {},
   "source": [
    "### REPLACING SUBSTRINGS"
   ]
  },
  {
   "cell_type": "markdown",
   "id": "02b032dd",
   "metadata": {},
   "source": [
    "Replace substrings within a string in python using the replace() method."
   ]
  },
  {
   "cell_type": "code",
   "execution_count": 55,
   "id": "45504280",
   "metadata": {},
   "outputs": [
    {
     "name": "stdout",
     "output_type": "stream",
     "text": [
      "Sreenivas Reddy Garlapati\n"
     ]
    }
   ],
   "source": [
    "# Replacing substring using replace() method\n",
    "\n",
    "\n",
    "FatherName = FullName.replace('Siddardh' , 'Sreenivas')\n",
    "print(FatherName)"
   ]
  },
  {
   "cell_type": "markdown",
   "id": "fe8d9cf0",
   "metadata": {},
   "source": [
    "### REPLACING SUBSTRING"
   ]
  },
  {
   "cell_type": "code",
   "execution_count": 56,
   "id": "2414116b",
   "metadata": {},
   "outputs": [
    {
     "name": "stdout",
     "output_type": "stream",
     "text": [
      "Sreenivas Reddy Garlapati\n"
     ]
    }
   ],
   "source": [
    "# Replacing substring using replace() method\n",
    "\n",
    "\n",
    "FatherName = FullName.replace('Siddardh' , 'Sreenivas')\n",
    "print(FatherName)"
   ]
  },
  {
   "cell_type": "markdown",
   "id": "9651ac80",
   "metadata": {},
   "source": [
    "### SPLITTING STRINGS"
   ]
  },
  {
   "cell_type": "markdown",
   "id": "8a8c95da",
   "metadata": {},
   "source": [
    "Split a string into a list of substrings in python using the split() method, specifying the delimiter."
   ]
  },
  {
   "cell_type": "code",
   "execution_count": 57,
   "id": "998cdf3a",
   "metadata": {
    "scrolled": true
   },
   "outputs": [
    {
     "name": "stdout",
     "output_type": "stream",
     "text": [
      "['Siddardh', 'Reddy', 'Garlapati']\n"
     ]
    }
   ],
   "source": [
    "# Spliting string words based on spaces\n",
    "\n",
    "words = FullName.split()\n",
    "print(words)"
   ]
  },
  {
   "cell_type": "markdown",
   "id": "e84ba9d3",
   "metadata": {},
   "source": [
    "### VERIFY SPECIFIC SUBSTRING"
   ]
  },
  {
   "cell_type": "markdown",
   "id": "e5da76bc",
   "metadata": {},
   "source": [
    "To check if a string starts or ends with a specific substring."
   ]
  },
  {
   "cell_type": "code",
   "execution_count": 58,
   "id": "70131d67",
   "metadata": {},
   "outputs": [
    {
     "name": "stdout",
     "output_type": "stream",
     "text": [
      "True\n",
      "True\n"
     ]
    }
   ],
   "source": [
    "# Verify end and start of string\n",
    "\n",
    "stringone = \"Hello World\"\n",
    "print(stringone.startswith(\"Hello\"))  \n",
    "print(stringone.endswith(\"World\"))     "
   ]
  },
  {
   "cell_type": "markdown",
   "id": "5d88cb4d",
   "metadata": {},
   "source": [
    "### STRIPING"
   ]
  },
  {
   "cell_type": "markdown",
   "id": "5b00b1a8",
   "metadata": {},
   "source": [
    "Removing leading and trailing whitespace from a string."
   ]
  },
  {
   "cell_type": "code",
   "execution_count": 59,
   "id": "cd007ef6",
   "metadata": {},
   "outputs": [
    {
     "name": "stdout",
     "output_type": "stream",
     "text": [
      "New Jersey\n"
     ]
    }
   ],
   "source": [
    "# Stripping unwanted characters\n",
    "\n",
    "Place = '    New Jersey'\n",
    "stripped_place = Place.strip()\n",
    "print(stripped_place)"
   ]
  },
  {
   "cell_type": "markdown",
   "id": "fe62d138",
   "metadata": {},
   "source": [
    "### ESCAPE CHARACTERS"
   ]
  },
  {
   "cell_type": "markdown",
   "id": "efb35bec",
   "metadata": {},
   "source": [
    "They are special characters preceded by a backslash (\\) that are used to represent characters that are difficult or impossible to type directly"
   ]
  },
  {
   "cell_type": "code",
   "execution_count": 60,
   "id": "b52b7b15",
   "metadata": {},
   "outputs": [
    {
     "name": "stdout",
     "output_type": "stream",
     "text": [
      "I listen to \n",
      "jiddu krishnamurthy\n"
     ]
    }
   ],
   "source": [
    "# Escape characters\n",
    "\n",
    "print('I listen to \\njiddu krishnamurthy')"
   ]
  },
  {
   "cell_type": "code",
   "execution_count": 61,
   "id": "2f3f8c4a",
   "metadata": {},
   "outputs": [
    {
     "name": "stdout",
     "output_type": "stream",
     "text": [
      "I listen to \tjiddu krishnamurthy\n"
     ]
    }
   ],
   "source": [
    "# Escape characters\n",
    "\n",
    "print('I listen to \\tjiddu krishnamurthy')"
   ]
  },
  {
   "cell_type": "markdown",
   "id": "9beae985",
   "metadata": {},
   "source": [
    "### USER INPUT"
   ]
  },
  {
   "cell_type": "markdown",
   "id": "1bbf2a64",
   "metadata": {},
   "source": [
    "We can use the input() function to take user input from the command line."
   ]
  },
  {
   "cell_type": "code",
   "execution_count": 62,
   "id": "e5279632",
   "metadata": {
    "scrolled": true
   },
   "outputs": [
    {
     "name": "stdout",
     "output_type": "stream",
     "text": [
      "What is your name? SIDDARDH \n",
      "Hello SIDDARDH \n",
      "What do you study? : DATA SCIENCE\n",
      "You are pursuing : DATA SCIENCE\n"
     ]
    }
   ],
   "source": [
    "# Asking input from user and displaying\n",
    "\n",
    "name = input('What is your name? ')\n",
    "print('Hello ' + name)\n",
    "\n",
    "job = input('What do you study? : ')\n",
    "print('You are pursuing : ' + job)\n"
   ]
  },
  {
   "cell_type": "markdown",
   "id": "f242aed8",
   "metadata": {},
   "source": [
    "## ABBREVATION EXPANSION"
   ]
  },
  {
   "cell_type": "markdown",
   "id": "452aff28",
   "metadata": {},
   "source": [
    "Abbreviation expansion is the process of replacing abbreviations in text with their corresponding full forms or expansions. This is important for text understanding and interpretation, especially in natural language processing tasks where abbreviations can introduce ambiguity or confusion."
   ]
  },
  {
   "cell_type": "code",
   "execution_count": 1,
   "id": "fc27946f",
   "metadata": {},
   "outputs": [
    {
     "name": "stdout",
     "output_type": "stream",
     "text": [
      "Original text: NLP techniques such as CNN and RNN are widely used in AI and ML.\n",
      "Expanded text: Natural Language Processing techniques such as Convolutional Neural Network and Recurrent Neural Network are widely used in Artificial Intelligence and ML.\n"
     ]
    }
   ],
   "source": [
    "# Define a dictionary mapping abbreviations to their expansions\n",
    "abbreviation_dict = {\n",
    "    'NLP': 'Natural Language Processing',\n",
    "    'ML': 'Machine Learning',\n",
    "    'AI': 'Artificial Intelligence',\n",
    "    'CNN': 'Convolutional Neural Network',\n",
    "    'RNN': 'Recurrent Neural Network',\n",
    "    # Add more abbreviations and expansions as needed\n",
    "}\n",
    "\n",
    "# Function to expand abbreviations in a text\n",
    "def expand_abbreviations(text):\n",
    "    words = text.split()\n",
    "    expanded_text = []\n",
    "    for word in words:\n",
    "        if word.upper() in abbreviation_dict:\n",
    "            expanded_text.append(abbreviation_dict[word.upper()])\n",
    "        else:\n",
    "            expanded_text.append(word)\n",
    "    return ' '.join(expanded_text)\n",
    "\n",
    "# Example usage\n",
    "original_text = \"NLP techniques such as CNN and RNN are widely used in AI and ML.\"\n",
    "expanded_text = expand_abbreviations(original_text)\n",
    "\n",
    "print(\"Original text:\", original_text)\n",
    "print(\"Expanded text:\", expanded_text)\n"
   ]
  }
 ],
 "metadata": {
  "kernelspec": {
   "display_name": "Python 3 (ipykernel)",
   "language": "python",
   "name": "python3"
  },
  "language_info": {
   "codemirror_mode": {
    "name": "ipython",
    "version": 3
   },
   "file_extension": ".py",
   "mimetype": "text/x-python",
   "name": "python",
   "nbconvert_exporter": "python",
   "pygments_lexer": "ipython3",
   "version": "3.11.5"
  }
 },
 "nbformat": 4,
 "nbformat_minor": 5
}
