{
 "cells": [
  {
   "cell_type": "markdown",
   "id": "a86b876c",
   "metadata": {},
   "source": [
    "## ASSIGNMENT 7 - TEXT CLASSIFICATION"
   ]
  },
  {
   "cell_type": "markdown",
   "id": "4ea68058",
   "metadata": {},
   "source": [
    "Text classification, a vital task in natural language processing, involves categorizing textual data into predefined classes or categories based on their content. Through techniques like machine learning and deep learning, it enables automated analysis of large volumes of text, facilitating tasks such as sentiment analysis, spam detection, and topic categorization."
   ]
  },
  {
   "cell_type": "markdown",
   "id": "ad15cf96",
   "metadata": {},
   "source": [
    "### READING CSV FILE"
   ]
  },
  {
   "cell_type": "code",
   "execution_count": 36,
   "id": "e759de03",
   "metadata": {},
   "outputs": [
    {
     "data": {
      "text/html": [
       "<div>\n",
       "<style scoped>\n",
       "    .dataframe tbody tr th:only-of-type {\n",
       "        vertical-align: middle;\n",
       "    }\n",
       "\n",
       "    .dataframe tbody tr th {\n",
       "        vertical-align: top;\n",
       "    }\n",
       "\n",
       "    .dataframe thead th {\n",
       "        text-align: right;\n",
       "    }\n",
       "</style>\n",
       "<table border=\"1\" class=\"dataframe\">\n",
       "  <thead>\n",
       "    <tr style=\"text-align: right;\">\n",
       "      <th></th>\n",
       "      <th>overall</th>\n",
       "      <th>verified</th>\n",
       "      <th>reviewerID</th>\n",
       "      <th>asin</th>\n",
       "      <th>reviewText</th>\n",
       "      <th>summary</th>\n",
       "    </tr>\n",
       "  </thead>\n",
       "  <tbody>\n",
       "    <tr>\n",
       "      <th>0</th>\n",
       "      <td>4</td>\n",
       "      <td>True</td>\n",
       "      <td>AIE8N9U317ZBM</td>\n",
       "      <td>449819906</td>\n",
       "      <td>Contains some interesting stitches.</td>\n",
       "      <td>Four Stars</td>\n",
       "    </tr>\n",
       "    <tr>\n",
       "      <th>1</th>\n",
       "      <td>5</td>\n",
       "      <td>True</td>\n",
       "      <td>A3ECOW0TWLH9V6</td>\n",
       "      <td>449819906</td>\n",
       "      <td>I'm a fairly experienced knitter of the one-co...</td>\n",
       "      <td>My current favorite go-to guide for inspiration</td>\n",
       "    </tr>\n",
       "    <tr>\n",
       "      <th>2</th>\n",
       "      <td>4</td>\n",
       "      <td>True</td>\n",
       "      <td>A278N8QX9TY2OS</td>\n",
       "      <td>449819906</td>\n",
       "      <td>Great book but the index is terrible. Had to w...</td>\n",
       "      <td>lots of great examples, good instructions, col...</td>\n",
       "    </tr>\n",
       "    <tr>\n",
       "      <th>3</th>\n",
       "      <td>5</td>\n",
       "      <td>True</td>\n",
       "      <td>A123W8HIK76XCN</td>\n",
       "      <td>449819906</td>\n",
       "      <td>I purchased the Kindle edition which is incred...</td>\n",
       "      <td>Another little gem by Melissa Leapman</td>\n",
       "    </tr>\n",
       "    <tr>\n",
       "      <th>4</th>\n",
       "      <td>5</td>\n",
       "      <td>True</td>\n",
       "      <td>A2A6MZ2QB4AE0L</td>\n",
       "      <td>449819906</td>\n",
       "      <td>Very well laid out and very easy to read.\\n\\nT...</td>\n",
       "      <td>Very comprehensive</td>\n",
       "    </tr>\n",
       "  </tbody>\n",
       "</table>\n",
       "</div>"
      ],
      "text/plain": [
       "   overall  verified      reviewerID       asin  \\\n",
       "0        4      True   AIE8N9U317ZBM  449819906   \n",
       "1        5      True  A3ECOW0TWLH9V6  449819906   \n",
       "2        4      True  A278N8QX9TY2OS  449819906   \n",
       "3        5      True  A123W8HIK76XCN  449819906   \n",
       "4        5      True  A2A6MZ2QB4AE0L  449819906   \n",
       "\n",
       "                                          reviewText  \\\n",
       "0                Contains some interesting stitches.   \n",
       "1  I'm a fairly experienced knitter of the one-co...   \n",
       "2  Great book but the index is terrible. Had to w...   \n",
       "3  I purchased the Kindle edition which is incred...   \n",
       "4  Very well laid out and very easy to read.\\n\\nT...   \n",
       "\n",
       "                                             summary  \n",
       "0                                         Four Stars  \n",
       "1    My current favorite go-to guide for inspiration  \n",
       "2  lots of great examples, good instructions, col...  \n",
       "3              Another little gem by Melissa Leapman  \n",
       "4                                 Very comprehensive  "
      ]
     },
     "execution_count": 36,
     "metadata": {},
     "output_type": "execute_result"
    }
   ],
   "source": [
    "# Load, clean, and display data using pandas.\n",
    "\n",
    "import pandas as pd\n",
    " \n",
    "df = pd.read_csv('classification.csv')  \n",
    "df.head()"
   ]
  },
  {
   "cell_type": "markdown",
   "id": "c4cfb320",
   "metadata": {},
   "source": [
    "### DATA VISUALIZATION"
   ]
  },
  {
   "cell_type": "code",
   "execution_count": 37,
   "id": "b9e3996a",
   "metadata": {},
   "outputs": [
    {
     "data": {
      "text/plain": [
       "<Axes: xlabel='overall'>"
      ]
     },
     "execution_count": 37,
     "metadata": {},
     "output_type": "execute_result"
    },
    {
     "data": {
      "image/png": "[encoded data removed]",
      "text/plain": [
       "<Figure size 640x480 with 1 Axes>"
      ]
     },
     "metadata": {},
     "output_type": "display_data"
    }
   ],
   "source": [
    "# Plot the distribution of 'Priority' values in a bar chart.\n",
    "\n",
    "df['overall'].value_counts().sort_index().plot(kind='bar')"
   ]
  },
  {
   "cell_type": "markdown",
   "id": "e9aa055b",
   "metadata": {},
   "source": [
    "### COMPONENT DISTRIBUTION"
   ]
  },
  {
   "cell_type": "code",
   "execution_count": 38,
   "id": "3ee33428",
   "metadata": {},
   "outputs": [
    {
     "data": {
      "text/plain": [
       "<Axes: xlabel='verified'>"
      ]
     },
     "execution_count": 38,
     "metadata": {},
     "output_type": "execute_result"
    },
    {
     "data": {
      "image/png": "[encoded data removed]",
      "text/plain": [
       "<Figure size 640x480 with 1 Axes>"
      ]
     },
     "metadata": {},
     "output_type": "display_data"
    }
   ],
   "source": [
    "# Plot the distribution of 'Component' values in a bar chart.\n",
    "\n",
    "df['verified'].value_counts().sort_index().plot(kind='bar')"
   ]
  },
  {
   "cell_type": "markdown",
   "id": "30f7a149",
   "metadata": {},
   "source": [
    "### TEXT CLEANING FUNCTION"
   ]
  },
  {
   "cell_type": "code",
   "execution_count": 39,
   "id": "5be8cc81",
   "metadata": {},
   "outputs": [],
   "source": [
    "# Define a function to clean text by removing HTML entities, tags, markdown URLs, and unnecessary characters.\n",
    "\n",
    "import html\n",
    "import re\n",
    "def clean(text):\n",
    "    # convert html escapes like & to characters.\n",
    "    text = html.unescape(text) \n",
    "    # tags like \n",
    "    text = re.sub(r'<[^<>]*>', ' ', text)\n",
    "    # markdown URLs like [Some text](https://....)\n",
    "    text = re.sub(r'\\[([^\\[\\]]*)\\]\\([^\\(\\)]*\\)', r'\\1', text)\n",
    "    # text or code in brackets like [0]\n",
    "    text = re.sub(r'\\[[^\\[\\]]*\\]', ' ', text)\n",
    "    # standalone sequences of specials, matches  but not #cool\n",
    "    text = re.sub(r'(?:^|\\s)[<>{}\\[\\]+|\\\\:-]{1,}(?:\\s|$)', ' ', text)\n",
    "    # standalone sequences of hyphens like --- or ==\n",
    "    text = re.sub(r'(?:^|\\s)[\\-=\\+]{2,}(?:\\s|$)', ' ', text)\n",
    "    # sequences of white spaces\n",
    "    text = re.sub(r'\\s+', ' ', text)\n",
    "    return text.strip()"
   ]
  },
  {
   "cell_type": "markdown",
   "id": "492e938f",
   "metadata": {},
   "source": [
    "### DATAFRAME TRANSFORMATION"
   ]
  },
  {
   "cell_type": "code",
   "execution_count": 40,
   "id": "bf230f1d",
   "metadata": {},
   "outputs": [
    {
     "data": {
      "text/html": [
       "<div>\n",
       "<style scoped>\n",
       "    .dataframe tbody tr th:only-of-type {\n",
       "        vertical-align: middle;\n",
       "    }\n",
       "\n",
       "    .dataframe tbody tr th {\n",
       "        vertical-align: top;\n",
       "    }\n",
       "\n",
       "    .dataframe thead th {\n",
       "        text-align: right;\n",
       "    }\n",
       "</style>\n",
       "<table border=\"1\" class=\"dataframe\">\n",
       "  <thead>\n",
       "    <tr style=\"text-align: right;\">\n",
       "      <th></th>\n",
       "      <th>overall</th>\n",
       "      <th>text</th>\n",
       "    </tr>\n",
       "  </thead>\n",
       "  <tbody>\n",
       "    <tr>\n",
       "      <th>402</th>\n",
       "      <td>1</td>\n",
       "      <td>These are NOT Swarovski Crystals. These \"rhine...</td>\n",
       "    </tr>\n",
       "    <tr>\n",
       "      <th>344</th>\n",
       "      <td>5</td>\n",
       "      <td>I really like these colored pencils. The main ...</td>\n",
       "    </tr>\n",
       "  </tbody>\n",
       "</table>\n",
       "</div>"
      ],
      "text/plain": [
       "     overall                                               text\n",
       "402        1  These are NOT Swarovski Crystals. These \"rhine...\n",
       "344        5  I really like these colored pencils. The main ..."
      ]
     },
     "execution_count": 40,
     "metadata": {},
     "output_type": "execute_result"
    }
   ],
   "source": [
    "# Select relevant columns, concatenate them, clean the text, and filter the entries.\n",
    "\n",
    "df = df[['overall','reviewText','summary']]\n",
    "df = df.dropna()\n",
    "df['text'] = df['reviewText'] + ' ' + df['summary']\n",
    "df = df.drop(columns=['reviewText','summary']) \n",
    "df['text'] = df['text'].apply(clean)\n",
    "df = df[df['text'].str.len() > 50]\n",
    "df.sample(2)"
   ]
  },
  {
   "cell_type": "markdown",
   "id": "0d3dfd92",
   "metadata": {},
   "source": [
    "### DATA SPLITTING"
   ]
  },
  {
   "cell_type": "code",
   "execution_count": 41,
   "id": "2e2238de",
   "metadata": {},
   "outputs": [
    {
     "name": "stdout",
     "output_type": "stream",
     "text": [
      "Size of Training Data  316\n",
      "Size of Test Data  79\n"
     ]
    }
   ],
   "source": [
    "# Split the dataset into training and test sets, stratifying by 'Priority'.\n",
    "\n",
    "from sklearn.model_selection import train_test_split\n",
    "X_train, X_test, Y_train, Y_test = train_test_split(df['text'],\n",
    "                                                    df['overall'],\n",
    "                                                    test_size=0.2,\n",
    "                                                    random_state=42,\n",
    "                                                    stratify=df['overall'])\n",
    "\n",
    "print('Size of Training Data ', X_train.shape[0])\n",
    "print('Size of Test Data ', X_test.shape[0])"
   ]
  },
  {
   "cell_type": "markdown",
   "id": "9534a38a",
   "metadata": {},
   "source": [
    "### CONVERTING X_TRAIN TO NUMBERS"
   ]
  },
  {
   "cell_type": "code",
   "execution_count": 42,
   "id": "7c3154e4",
   "metadata": {},
   "outputs": [],
   "source": [
    "# Using TDIDF vectorization to convert text data into numerical features\n",
    "\n",
    "from sklearn. feature_extraction.text import TfidfVectorizer \n",
    "from sklearn.svm import SVC\n",
    "\n",
    "tfidf = TfidfVectorizer (min_df = 10, ngram_range=(1,2), stop_words=\"english\")\n",
    "X_train_tf = tfidf. fit_transform(X_train)\n",
    "X_test_tf = tfidf. transform(X_test)"
   ]
  },
  {
   "cell_type": "markdown",
   "id": "730ff510",
   "metadata": {},
   "source": [
    "### MODEL TRAINING"
   ]
  },
  {
   "cell_type": "markdown",
   "id": "dff5cc94",
   "metadata": {},
   "source": [
    "This code snippet demonstrates the training of a Linear Support Vector Classifier (LinearSVC) using the TF-IDF transformed training data (X_train_tf) and corresponding labels (Y_train). The random_state parameter is set to ensure reproducibility, and tol sets the tolerance for stopping criteria."
   ]
  },
  {
   "cell_type": "code",
   "execution_count": 43,
   "id": "cd494ad5",
   "metadata": {},
   "outputs": [
    {
     "name": "stderr",
     "output_type": "stream",
     "text": [
      "/Users/sid/anaconda3/lib/python3.11/site-packages/sklearn/svm/_classes.py:32: FutureWarning: The default value of `dual` will change from `True` to `'auto'` in 1.5. Set the value of `dual` explicitly to suppress the warning.\n",
      "  warnings.warn(\n"
     ]
    },
    {
     "data": {
      "text/html": [
       "<style>#sk-container-id-2 {color: black;}#sk-container-id-2 pre{padding: 0;}#sk-container-id-2 div.sk-toggleable {background-color: white;}#sk-container-id-2 label.sk-toggleable__label {cursor: pointer;display: block;width: 100%;margin-bottom: 0;padding: 0.3em;box-sizing: border-box;text-align: center;}#sk-container-id-2 label.sk-toggleable__label-arrow:before {content: \"▸\";float: left;margin-right: 0.25em;color: #696969;}#sk-container-id-2 label.sk-toggleable__label-arrow:hover:before {color: black;}#sk-container-id-2 div.sk-estimator:hover label.sk-toggleable__label-arrow:before {color: black;}#sk-container-id-2 div.sk-toggleable__content {max-height: 0;max-width: 0;overflow: hidden;text-align: left;background-color: #f0f8ff;}#sk-container-id-2 div.sk-toggleable__content pre {margin: 0.2em;color: black;border-radius: 0.25em;background-color: #f0f8ff;}#sk-container-id-2 input.sk-toggleable__control:checked~div.sk-toggleable__content {max-height: 200px;max-width: 100%;overflow: auto;}#sk-container-id-2 input.sk-toggleable__control:checked~label.sk-toggleable__label-arrow:before {content: \"▾\";}#sk-container-id-2 div.sk-estimator input.sk-toggleable__control:checked~label.sk-toggleable__label {background-color: #d4ebff;}#sk-container-id-2 div.sk-label input.sk-toggleable__control:checked~label.sk-toggleable__label {background-color: #d4ebff;}#sk-container-id-2 input.sk-hidden--visually {border: 0;clip: rect(1px 1px 1px 1px);clip: rect(1px, 1px, 1px, 1px);height: 1px;margin: -1px;overflow: hidden;padding: 0;position: absolute;width: 1px;}#sk-container-id-2 div.sk-estimator {font-family: monospace;background-color: #f0f8ff;border: 1px dotted black;border-radius: 0.25em;box-sizing: border-box;margin-bottom: 0.5em;}#sk-container-id-2 div.sk-estimator:hover {background-color: #d4ebff;}#sk-container-id-2 div.sk-parallel-item::after {content: \"\";width: 100%;border-bottom: 1px solid gray;flex-grow: 1;}#sk-container-id-2 div.sk-label:hover label.sk-toggleable__label {background-color: #d4ebff;}#sk-container-id-2 div.sk-serial::before {content: \"\";position: absolute;border-left: 1px solid gray;box-sizing: border-box;top: 0;bottom: 0;left: 50%;z-index: 0;}#sk-container-id-2 div.sk-serial {display: flex;flex-direction: column;align-items: center;background-color: white;padding-right: 0.2em;padding-left: 0.2em;position: relative;}#sk-container-id-2 div.sk-item {position: relative;z-index: 1;}#sk-container-id-2 div.sk-parallel {display: flex;align-items: stretch;justify-content: center;background-color: white;position: relative;}#sk-container-id-2 div.sk-item::before, #sk-container-id-2 div.sk-parallel-item::before {content: \"\";position: absolute;border-left: 1px solid gray;box-sizing: border-box;top: 0;bottom: 0;left: 50%;z-index: -1;}#sk-container-id-2 div.sk-parallel-item {display: flex;flex-direction: column;z-index: 1;position: relative;background-color: white;}#sk-container-id-2 div.sk-parallel-item:first-child::after {align-self: flex-end;width: 50%;}#sk-container-id-2 div.sk-parallel-item:last-child::after {align-self: flex-start;width: 50%;}#sk-container-id-2 div.sk-parallel-item:only-child::after {width: 0;}#sk-container-id-2 div.sk-dashed-wrapped {border: 1px dashed gray;margin: 0 0.4em 0.5em 0.4em;box-sizing: border-box;padding-bottom: 0.4em;background-color: white;}#sk-container-id-2 div.sk-label label {font-family: monospace;font-weight: bold;display: inline-block;line-height: 1.2em;}#sk-container-id-2 div.sk-label-container {text-align: center;}#sk-container-id-2 div.sk-container {/* jupyter's `normalize.less` sets `[hidden] { display: none; }` but bootstrap.min.css set `[hidden] { display: none !important; }` so we also need the `!important` here to be able to override the default hidden behavior on the sphinx rendered scikit-learn.org. See: https://github.com/scikit-learn/scikit-learn/issues/21755 */display: inline-block !important;position: relative;}#sk-container-id-2 div.sk-text-repr-fallback {display: none;}</style><div id=\"sk-container-id-2\" class=\"sk-top-container\"><div class=\"sk-text-repr-fallback\"><pre>LinearSVC(random_state=0, tol=1e-05)</pre><b>In a Jupyter environment, please rerun this cell to show the HTML representation or trust the notebook. <br />On GitHub, the HTML representation is unable to render, please try loading this page with nbviewer.org.</b></div><div class=\"sk-container\" hidden><div class=\"sk-item\"><div class=\"sk-estimator sk-toggleable\"><input class=\"sk-toggleable__control sk-hidden--visually\" id=\"sk-estimator-id-2\" type=\"checkbox\" checked><label for=\"sk-estimator-id-2\" class=\"sk-toggleable__label sk-toggleable__label-arrow\">LinearSVC</label><div class=\"sk-toggleable__content\"><pre>LinearSVC(random_state=0, tol=1e-05)</pre></div></div></div></div></div>"
      ],
      "text/plain": [
       "LinearSVC(random_state=0, tol=1e-05)"
      ]
     },
     "execution_count": 43,
     "metadata": {},
     "output_type": "execute_result"
    }
   ],
   "source": [
    "# Train a Linear Support Vector Classifier on the TF-IDF transformed text data.\n",
    "\n",
    "from sklearn.svm import LinearSVC\n",
    "\n",
    "model1 = LinearSVC(random_state=0, tol=1e-5)\n",
    "model1.fit(X_train_tf, Y_train)"
   ]
  },
  {
   "cell_type": "markdown",
   "id": "56a12dad",
   "metadata": {},
   "source": [
    "### MODEL EVALUATION"
   ]
  },
  {
   "cell_type": "markdown",
   "id": "ccbf7e5f",
   "metadata": {},
   "source": [
    "This code snippet calculates the accuracy score of a trained model ( mode11) on the test data ( X_test_tf) using the actual labels (Y_test ). It imports the accuracy_score function from sklearn.metrics module and computes the accuracy by comparing the predicted labels (Y_pred) with the actual labels (Y_test ).\n",
    "Finally, it prints the accuracy score."
   ]
  },
  {
   "cell_type": "code",
   "execution_count": 44,
   "id": "88f4c792",
   "metadata": {},
   "outputs": [
    {
     "name": "stdout",
     "output_type": "stream",
     "text": [
      "Accuracy Score -  0.7468354430379747\n"
     ]
    }
   ],
   "source": [
    "# Predict the test set labels and calculate the accuracy of the Linear SVC model.\n",
    "\n",
    "from sklearn.metrics import accuracy_score\n",
    "\n",
    "Y_pred = model1.predict(X_test_tf)\n",
    "print ('Accuracy Score - ', accuracy_score(Y_test, Y_pred))"
   ]
  },
  {
   "cell_type": "markdown",
   "id": "9558c570",
   "metadata": {},
   "source": [
    "### BASELINE MODEL EVALUATION"
   ]
  },
  {
   "cell_type": "code",
   "execution_count": 45,
   "id": "95a98ba0",
   "metadata": {},
   "outputs": [
    {
     "name": "stdout",
     "output_type": "stream",
     "text": [
      "Accuracy Score -  0.759493670886076\n"
     ]
    }
   ],
   "source": [
    "# Train a baseline model using the most frequent strategy and evaluate its accuracy.\n",
    "\n",
    "from sklearn.dummy import DummyClassifier\n",
    "clf = DummyClassifier(strategy='most_frequent', random_state=42)\n",
    "clf.fit(X_train, Y_train)\n",
    "Y_pred_baseline = clf.predict(X_test)\n",
    "print ('Accuracy Score - ', accuracy_score(Y_test, Y_pred_baseline))"
   ]
  },
  {
   "cell_type": "markdown",
   "id": "2126868e",
   "metadata": {},
   "source": [
    "### CONFUSION MATRIX COMPUTATION"
   ]
  },
  {
   "cell_type": "code",
   "execution_count": 46,
   "id": "ba65d79a",
   "metadata": {},
   "outputs": [
    {
     "data": {
      "text/plain": [
       "array([[ 1,  0,  0,  0,  1],\n",
       "       [ 0,  0,  0,  0,  2],\n",
       "       [ 0,  1,  1,  2,  1],\n",
       "       [ 0,  0,  0,  1,  9],\n",
       "       [ 0,  0,  2,  2, 56]])"
      ]
     },
     "execution_count": 46,
     "metadata": {},
     "output_type": "execute_result"
    }
   ],
   "source": [
    "# Generate the confusion matrix for the test set predictions of the Linear SVC model.\n",
    "\n",
    "from sklearn.metrics import confusion_matrix\n",
    "Y_pred = model1.predict(X_test_tf)\n",
    "confusion_matrix(Y_test, Y_pred)"
   ]
  },
  {
   "cell_type": "markdown",
   "id": "8cdf9dfe",
   "metadata": {},
   "source": [
    "### VISUALIZE CONFUSION MATRIX"
   ]
  },
  {
   "cell_type": "code",
   "execution_count": 47,
   "id": "2ee9c4b2",
   "metadata": {},
   "outputs": [
    {
     "data": {
      "image/png": "[encoded data removed]",
      "text/plain": [
       "<Figure size 640x480 with 2 Axes>"
      ]
     },
     "metadata": {},
     "output_type": "display_data"
    }
   ],
   "source": [
    "# Plot the confusion matrix for the Linear SVC model predictions, displaying counts in each cell and using a blue color map. \n",
    "\n",
    "from sklearn.metrics import confusion_matrix\n",
    "import matplotlib.pyplot as plt\n",
    "from sklearn.metrics import ConfusionMatrixDisplay\n",
    "\n",
    "predictions = model1.predict(X_test_tf)\n",
    "\n",
    "conf_matrix = confusion_matrix(Y_test, predictions)\n",
    "\n",
    "disp = ConfusionMatrixDisplay(confusion_matrix = conf_matrix )\n",
    "disp.plot(cmap=plt.cm.Blues)\n",
    "plt.show()"
   ]
  },
  {
   "cell_type": "markdown",
   "id": "99330d2d",
   "metadata": {},
   "source": [
    "### CLASSIFICATION REPORT"
   ]
  },
  {
   "cell_type": "markdown",
   "id": "a69aa080",
   "metadata": {},
   "source": [
    "This code snippet generates a classification report using the classification report function from the sklearn.metrics module. It provides a comprehensive summary of various classification metrics such as precision, recall, F1-score, and support for each class in the classification task. The report includes metrics for each class as well as the macro and weighted averages across all classes."
   ]
  },
  {
   "cell_type": "code",
   "execution_count": 48,
   "id": "c7469bd7",
   "metadata": {},
   "outputs": [
    {
     "name": "stdout",
     "output_type": "stream",
     "text": [
      "              precision    recall  f1-score   support\n",
      "\n",
      "           1       1.00      0.50      0.67         2\n",
      "           2       0.00      0.00      0.00         2\n",
      "           3       0.33      0.20      0.25         5\n",
      "           4       0.20      0.10      0.13        10\n",
      "           5       0.81      0.93      0.87        60\n",
      "\n",
      "    accuracy                           0.75        79\n",
      "   macro avg       0.47      0.35      0.38        79\n",
      "weighted avg       0.69      0.75      0.71        79\n",
      "\n"
     ]
    }
   ],
   "source": [
    "# Generate a detailed classification report for the Linear SVC model predictions, including precision, recall, f1-score, and support.\n",
    "\n",
    "from sklearn.metrics import classification_report\n",
    "print(classification_report(Y_test, Y_pred)) "
   ]
  },
  {
   "cell_type": "markdown",
   "id": "18f3b414",
   "metadata": {},
   "source": [
    "### BALANCING DATASET"
   ]
  },
  {
   "cell_type": "markdown",
   "id": "1dbcbf8d",
   "metadata": {},
   "source": [
    "This code balances the dataset by sampling 4000 bug reports with priority 'P3' and combining them with bug reports of other priorities, thus addressing the class imbalance issue."
   ]
  },
  {
   "cell_type": "code",
   "execution_count": 49,
   "id": "cede76f6",
   "metadata": {},
   "outputs": [
    {
     "data": {
      "text/plain": [
       "overall\n",
       "5    300\n",
       "4     48\n",
       "3     23\n",
       "1     13\n",
       "2     11\n",
       "Name: count, dtype: int64"
      ]
     },
     "execution_count": 49,
     "metadata": {},
     "output_type": "execute_result"
    }
   ],
   "source": [
    "# Balance the dataset by sampling from the 'P3' priority class and concatenating with the rest.\n",
    "\n",
    "# Filter bug reports with priority P3 and sample 4000 rows from it\n",
    "df_sampleP3 = df[df['overall'] == 5].sample(n=300, random_state=123)\n",
    "\n",
    "# Create a separate dataframe containing all other bug reports\n",
    "df_sampleRest = df[df['overall'] != 5]\n",
    "\n",
    "# Concatenate the two dataframes to create the new balanced bug reports dataset\n",
    "df_balanced = pd.concat([df_sampleRest, df_sampleP3])\n",
    "\n",
    "# Check the status of the class imbalance\n",
    "df_balanced['overall'].value_counts()"
   ]
  },
  {
   "cell_type": "markdown",
   "id": "72198779",
   "metadata": {},
   "source": [
    "### DATA PREPROCESSING AND SPLITTING"
   ]
  },
  {
   "cell_type": "code",
   "execution_count": 50,
   "id": "5028c0d8",
   "metadata": {},
   "outputs": [
    {
     "name": "stdout",
     "output_type": "stream",
     "text": [
      "Size of Training Data  316\n",
      "Size of Test Data  79\n"
     ]
    }
   ],
   "source": [
    "# Clean the text data, then split it into training and test sets, ensuring stratification by 'Priority'.\n",
    "\n",
    "# Loading the balanced dataframe\n",
    "\n",
    "df = df_balanced[['text', 'overall']]\n",
    "df = df.dropna()\n",
    "\n",
    "# Step 1 - Data Preparation\n",
    "\n",
    "df['text'] = df['text'].apply(clean)\n",
    "\n",
    "# Step 2 - Train-Test Split\n",
    "X_train, X_test, Y_train, Y_test = train_test_split(df['text'],\n",
    "                                                    df['overall'],\n",
    "                                                    test_size=0.2,\n",
    "                                                    random_state=42,\n",
    "                                                    stratify=df['overall'])\n",
    "print('Size of Training Data ', X_train.shape[0])\n",
    "print('Size of Test Data ', X_test.shape[0])\n"
   ]
  },
  {
   "cell_type": "markdown",
   "id": "191cccee",
   "metadata": {},
   "source": [
    "### MODEL TRAINING AND EVALUATION"
   ]
  },
  {
   "cell_type": "code",
   "execution_count": 51,
   "id": "350828a2",
   "metadata": {},
   "outputs": [
    {
     "name": "stdout",
     "output_type": "stream",
     "text": [
      "Accuracy Score -  0.7341772151898734\n",
      "              precision    recall  f1-score   support\n",
      "\n",
      "           1       0.50      0.50      0.50         2\n",
      "           2       0.00      0.00      0.00         2\n",
      "           3       0.00      0.00      0.00         5\n",
      "           4       0.40      0.20      0.27        10\n",
      "           5       0.79      0.92      0.85        60\n",
      "\n",
      "    accuracy                           0.73        79\n",
      "   macro avg       0.34      0.32      0.32        79\n",
      "weighted avg       0.66      0.73      0.69        79\n",
      "\n"
     ]
    },
    {
     "name": "stderr",
     "output_type": "stream",
     "text": [
      "/Users/sid/anaconda3/lib/python3.11/site-packages/sklearn/svm/_classes.py:32: FutureWarning: The default value of `dual` will change from `True` to `'auto'` in 1.5. Set the value of `dual` explicitly to suppress the warning.\n",
      "  warnings.warn(\n"
     ]
    }
   ],
   "source": [
    "# Train a Linear SVC model using TF-IDF features and evaluate its performance with accuracy and a classification report. \n",
    "\n",
    "# Step 3 - Training the Machine Learning model\n",
    "\n",
    "tfidf = TfidfVectorizer(min_df=10, ngram_range=(1, 2), stop_words=\"english\")\n",
    "X_train_tf = tfidf.fit_transform(X_train)\n",
    "\n",
    "model1 = LinearSVC(random_state=0, tol=1e-5)\n",
    "model1.fit(X_train_tf, Y_train)\n",
    "\n",
    "# Step 4 - Model Evaluation\n",
    "\n",
    "X_test_tf = tfidf.transform(X_test)\n",
    "Y_pred = model1.predict(X_test_tf)\n",
    "print('Accuracy Score - ', accuracy_score(Y_test, Y_pred))\n",
    "print(classification_report(Y_test, Y_pred))"
   ]
  },
  {
   "cell_type": "markdown",
   "id": "7cb5df98",
   "metadata": {},
   "source": [
    "### DATA PREPROCESSING AND SETUP"
   ]
  },
  {
   "cell_type": "code",
   "execution_count": 52,
   "id": "52d9449e",
   "metadata": {},
   "outputs": [
    {
     "name": "stdout",
     "output_type": "stream",
     "text": [
      "Size of Training Data  64\n",
      "Size of Test Data  16\n"
     ]
    }
   ],
   "source": [
    "# Prepare and split the dataset, optionally sampling for SVC, to facilitate model training and evaluation.\n",
    "\n",
    "from sklearn.pipeline import Pipeline\n",
    "from sklearn.model_selection import GridSearchCV\n",
    "from sklearn.svm import LinearSVC\n",
    "\n",
    "# Flag that determines the choice of SVC (True) and LinearSVC (False)\n",
    "\n",
    "runSVC = True\n",
    "# Loading the dataframe\n",
    "\n",
    "df = pd.read_csv('classification.csv')\n",
    "df = df[['overall','reviewText','summary']]\n",
    "df = df.dropna()\n",
    "df['text'] = df['reviewText'] + ' ' + df['summary']\n",
    "df = df.drop(columns=['reviewText','summary']) \n",
    "\n",
    "# Step 1 - Data Preparation\n",
    "\n",
    "df['text'] = df['text'].apply(clean)\n",
    "df = df[df['text'].str.len() > 50]\n",
    "if (runSVC):\n",
    "    \n",
    "    # Sample the data when running SVC to ensure reasonable run-times\n",
    "    \n",
    "    df = df.groupby('overall', as_index=False).apply(pd.DataFrame.sample,\n",
    "                                                       random_state=42,\n",
    "                                                       frac=.2)\n",
    "# Step 2 - Train-Test Split\n",
    "\n",
    "X_train, X_test, Y_train, Y_test = train_test_split(df['text'],\n",
    "                                                    df['overall'],\n",
    "                                                    test_size=0.2,\n",
    "                                                    random_state=42,\n",
    "                                                    stratify=df['overall'])\n",
    "print('Size of Training Data ', X_train.shape[0])\n",
    "print('Size of Test Data ', X_test.shape[0])"
   ]
  },
  {
   "cell_type": "markdown",
   "id": "1a36bd61",
   "metadata": {},
   "source": [
    "### MODEL TRAINING AND HYPERPARAMETER TUNING"
   ]
  },
  {
   "cell_type": "code",
   "execution_count": 53,
   "id": "a7a00172",
   "metadata": {},
   "outputs": [
    {
     "name": "stdout",
     "output_type": "stream",
     "text": [
      "Best alpha parameter identified by grid search  {'model__C': 1, 'model__kernel': 'linear', 'tfidf__min_df': 5, 'tfidf__ngram_range': (1, 3)}\n",
      "Best result identified by grid search  0.7512820512820513\n",
      "Accuracy Score -  0.75\n",
      "              precision    recall  f1-score   support\n",
      "\n",
      "           1       0.00      0.00      0.00         1\n",
      "           3       0.00      0.00      0.00         1\n",
      "           4       0.00      0.00      0.00         2\n",
      "           5       0.75      1.00      0.86        12\n",
      "\n",
      "    accuracy                           0.75        16\n",
      "   macro avg       0.19      0.25      0.21        16\n",
      "weighted avg       0.56      0.75      0.64        16\n",
      "\n"
     ]
    }
   ],
   "source": [
    "# Configure and execute a grid search to find the best model parameters, then evaluate the model's performance.\n",
    "\n",
    "# Step 3 - Training the Machine Learning model\n",
    "\n",
    "import warnings\n",
    "warnings.filterwarnings('ignore')  # This will suppress all warnings\n",
    "\n",
    "tfidf = TfidfVectorizer(stop_words=\"english\")\n",
    "if (runSVC):\n",
    "    model = SVC(random_state=42, probability=True)\n",
    "    grid_param = [{\n",
    "        'tfidf__min_df': [5, 10],\n",
    "        'tfidf__ngram_range': [(1, 3), (1, 6)],\n",
    "        'model__C': [1, 100],\n",
    "        'model__kernel': ['linear']\n",
    "    }]\n",
    "else:\n",
    "    model = LinearSVC(random_state=42, tol=1e-5)\n",
    "    grid_param = {\n",
    "        'tfidf__min_df': [5, 10],\n",
    "        'tfidf__ngram_range': [(1, 3), (1, 6)],\n",
    "        'model__C': [1, 100],\n",
    "        'model__loss': ['hinge']\n",
    "    }\n",
    "training_pipeline = Pipeline(\n",
    "    steps=[('tfidf', TfidfVectorizer(stop_words=\"english\")), ('model', model)])\n",
    "gridSearchProcessor = GridSearchCV(estimator=training_pipeline,\n",
    "                                   param_grid=grid_param,\n",
    "                                   cv=5)\n",
    "gridSearchProcessor.fit(X_train, Y_train)\n",
    "best_params = gridSearchProcessor.best_params_\n",
    "print(\"Best alpha parameter identified by grid search \", best_params)\n",
    "\n",
    "best_result = gridSearchProcessor.best_score_\n",
    "print(\"Best result identified by grid search \", best_result)\n",
    "\n",
    "best_model = gridSearchProcessor.best_estimator_\n",
    "\n",
    "# Step 4 - Model Evaluation\n",
    "\n",
    "Y_pred = best_model.predict(X_test)\n",
    "print('Accuracy Score - ', accuracy_score(Y_test, Y_pred))\n",
    "print(classification_report(Y_test, Y_pred))"
   ]
  }
 ],
 "metadata": {
  "kernelspec": {
   "display_name": "Python 3 (ipykernel)",
   "language": "python",
   "name": "python3"
  },
  "language_info": {
   "codemirror_mode": {
    "name": "ipython",
    "version": 3
   },
   "file_extension": ".py",
   "mimetype": "text/x-python",
   "name": "python",
   "nbconvert_exporter": "python",
   "pygments_lexer": "ipython3",
   "version": "3.11.5"
  }
 },
 "nbformat": 4,
 "nbformat_minor": 5
}
